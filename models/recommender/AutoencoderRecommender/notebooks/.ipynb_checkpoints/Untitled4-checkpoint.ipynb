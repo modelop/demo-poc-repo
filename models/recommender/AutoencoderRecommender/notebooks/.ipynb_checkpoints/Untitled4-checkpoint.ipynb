{
 "cells": [
  {
   "cell_type": "code",
   "execution_count": 1,
   "metadata": {},
   "outputs": [
    {
     "name": "stderr",
     "output_type": "stream",
     "text": [
      "/home/matthew/anaconda2/envs/python3/lib/python3.6/site-packages/h5py/__init__.py:34: FutureWarning: Conversion of the second argument of issubdtype from `float` to `np.floating` is deprecated. In future, it will be treated as `np.float64 == np.dtype(float).type`.\n",
      "  from ._conv import register_converters as _register_converters\n",
      "Using TensorFlow backend.\n"
     ]
    }
   ],
   "source": [
    "import pandas as pd\n",
    "import numpy as np\n",
    "from sklearn.metrics.pairwise import cosine_similarity, linear_kernel, polynomial_kernel\n",
    "import math\n",
    "\n",
    "from autorecommender.data import Dataset, ratings_matrix_to_list\n",
    "from autorecommender.models.item_based import ItemSimilarity\n",
    "from autorecommender.models.user_based import UserSimilarity\n",
    "from autorecommender.models.autoencoder import Autoencoder\n",
    "from autorecommender.models.combined import Combined\n"
   ]
  },
  {
   "cell_type": "code",
   "execution_count": 2,
   "metadata": {},
   "outputs": [],
   "source": [
    "DATA_PATH = '../../../Toys/Recommender/Bake-off/' # \n",
    "MOVIES_CSV = DATA_PATH + 'bakeoff_movies.csv' #\n",
    "USERS_CSV = DATA_PATH + 'bakeoff_train_users.csv' # \n",
    "RATINGS_CSV = DATA_PATH + 'bakeoff_train_ratings.csv' #"
   ]
  },
  {
   "cell_type": "code",
   "execution_count": 3,
   "metadata": {},
   "outputs": [],
   "source": [
    "RATINGS = pd.read_csv(RATINGS_CSV)\n",
    "\n",
    "# RATINGS = RATINGS[(RATINGS['movieid'] < 11) & (RATINGS['userid'] < 40)].set_index(['userid', 'movieid']).sort_index()[['rating']]\n",
    "RATINGS = RATINGS.set_index(['userid', 'movieid']).sort_index()[['rating']]\n",
    "\n",
    "MOVIES = pd.read_csv(MOVIES_CSV)\n",
    "# MOVIES = MOVIES[MOVIES['movieid'] < 11].set_index('movieid').sort_index()\n",
    "MOVIES = MOVIES.set_index('movieid').sort_index()\n",
    "\n",
    "USERS = pd.read_csv(USERS_CSV)\n",
    "# USERS = USERS[USERS['userid'] < 40].set_index('userid').sort_index()\n",
    "USERS = USERS.set_index('userid').sort_index()"
   ]
  },
  {
   "cell_type": "code",
   "execution_count": 4,
   "metadata": {},
   "outputs": [],
   "source": [
    "dataset = Dataset(MOVIES, USERS, RATINGS)"
   ]
  },
  {
   "cell_type": "code",
   "execution_count": 5,
   "metadata": {},
   "outputs": [],
   "source": [
    "model = Combined(item_count=len(dataset.items))"
   ]
  },
  {
   "cell_type": "code",
   "execution_count": 6,
   "metadata": {},
   "outputs": [
    {
     "name": "stderr",
     "output_type": "stream",
     "text": [
      "/home/matthew/anaconda2/envs/python3/lib/python3.6/site-packages/tensorflow/python/ops/gradients_impl.py:108: UserWarning: Converting sparse IndexedSlices to a dense Tensor of unknown shape. This may consume a large amount of memory.\n",
      "  \"Converting sparse IndexedSlices to a dense Tensor of unknown shape. \"\n"
     ]
    },
    {
     "name": "stdout",
     "output_type": "stream",
     "text": [
      "Epoch 1/15\n",
      "75/75 [==============================] - 4s 57ms/step - loss: 0.0335\n",
      "Epoch 2/15\n",
      "75/75 [==============================] - 4s 56ms/step - loss: 0.0334\n",
      "Epoch 3/15\n",
      "75/75 [==============================] - 4s 56ms/step - loss: 0.0329\n",
      "Epoch 4/15\n",
      "75/75 [==============================] - 4s 56ms/step - loss: 0.0332\n",
      "Epoch 5/15\n",
      "75/75 [==============================] - 4s 56ms/step - loss: 0.0331\n",
      "Epoch 6/15\n",
      "75/75 [==============================] - 4s 56ms/step - loss: 0.0331\n",
      "Epoch 7/15\n",
      "75/75 [==============================] - 4s 56ms/step - loss: 0.0328\n",
      "Epoch 8/15\n",
      "75/75 [==============================] - 4s 56ms/step - loss: 0.0330\n",
      "Epoch 9/15\n",
      "75/75 [==============================] - 4s 56ms/step - loss: 0.0326\n",
      "Epoch 10/15\n",
      "75/75 [==============================] - 4s 57ms/step - loss: 0.0329\n",
      "Epoch 11/15\n",
      "75/75 [==============================] - 4s 56ms/step - loss: 0.0325\n",
      "Epoch 12/15\n",
      "75/75 [==============================] - 4s 57ms/step - loss: 0.0327\n",
      "Epoch 13/15\n",
      "75/75 [==============================] - 4s 56ms/step - loss: 0.0324\n",
      "Epoch 14/15\n",
      "75/75 [==============================] - 4s 57ms/step - loss: 0.0325\n",
      "Epoch 15/15\n",
      "75/75 [==============================] - 4s 57ms/step - loss: 0.0323\n",
      "Iteration: 0\n"
     ]
    },
    {
     "ename": "IndexError",
     "evalue": "only integers, slices (`:`), ellipsis (`...`), numpy.newaxis (`None`) and integer or boolean arrays are valid indices",
     "output_type": "error",
     "traceback": [
      "\u001b[0;31m---------------------------------------------------------------------------\u001b[0m",
      "\u001b[0;31mIndexError\u001b[0m                                Traceback (most recent call last)",
      "\u001b[0;32m<ipython-input-6-d0c2220261e1>\u001b[0m in \u001b[0;36m<module>\u001b[0;34m()\u001b[0m\n\u001b[0;32m----> 1\u001b[0;31m \u001b[0mmodel\u001b[0m\u001b[0;34m.\u001b[0m\u001b[0mfit\u001b[0m\u001b[0;34m(\u001b[0m\u001b[0mdataset\u001b[0m\u001b[0;34m,\u001b[0m \u001b[0mbatch_size\u001b[0m\u001b[0;34m=\u001b[0m\u001b[0;36m64\u001b[0m\u001b[0;34m,\u001b[0m \u001b[0mepochs\u001b[0m\u001b[0;34m=\u001b[0m\u001b[0;36m15\u001b[0m\u001b[0;34m,\u001b[0m \u001b[0mpatience\u001b[0m\u001b[0;34m=\u001b[0m\u001b[0;36m0\u001b[0m\u001b[0;34m)\u001b[0m\u001b[0;34m\u001b[0m\u001b[0m\n\u001b[0m",
      "\u001b[0;32m~/ODG/datascience/ODG/Models/AutoencoderRecommender/autorecommender/models/combined.py\u001b[0m in \u001b[0;36mfit\u001b[0;34m(self, dataset, epochs, batch_size, mask_fraction, verbose, validation_data, patience, column, sep)\u001b[0m\n\u001b[1;32m    115\u001b[0m             \u001b[0mself\u001b[0m\u001b[0;34m.\u001b[0m\u001b[0m_usersimilarity\u001b[0m\u001b[0;34m.\u001b[0m\u001b[0mfit\u001b[0m\u001b[0;34m(\u001b[0m\u001b[0mdataset\u001b[0m\u001b[0;34m=\u001b[0m\u001b[0mdataset\u001b[0m\u001b[0;34m)\u001b[0m\u001b[0;34m\u001b[0m\u001b[0m\n\u001b[1;32m    116\u001b[0m \u001b[0;34m\u001b[0m\u001b[0m\n\u001b[0;32m--> 117\u001b[0;31m         \u001b[0mself\u001b[0m\u001b[0;34m.\u001b[0m\u001b[0m_fit_combined\u001b[0m\u001b[0;34m(\u001b[0m\u001b[0mdataset\u001b[0m\u001b[0;34m=\u001b[0m\u001b[0mdataset\u001b[0m\u001b[0;34m)\u001b[0m\u001b[0;34m\u001b[0m\u001b[0m\n\u001b[0m\u001b[1;32m    118\u001b[0m \u001b[0;34m\u001b[0m\u001b[0m\n\u001b[1;32m    119\u001b[0m     \u001b[0;32mdef\u001b[0m \u001b[0m_loss\u001b[0m\u001b[0;34m(\u001b[0m\u001b[0mself\u001b[0m\u001b[0;34m,\u001b[0m \u001b[0mX\u001b[0m\u001b[0;34m,\u001b[0m \u001b[0my\u001b[0m\u001b[0;34m,\u001b[0m \u001b[0mw_autoencoder\u001b[0m\u001b[0;34m,\u001b[0m \u001b[0mw_itemsimilarity\u001b[0m\u001b[0;34m)\u001b[0m\u001b[0;34m:\u001b[0m\u001b[0;34m\u001b[0m\u001b[0m\n",
      "\u001b[0;32m~/ODG/datascience/ODG/Models/AutoencoderRecommender/autorecommender/models/combined.py\u001b[0m in \u001b[0;36m_fit_combined\u001b[0;34m(self, dataset, iterations, batch_size, mask_fraction)\u001b[0m\n\u001b[1;32m    154\u001b[0m             \u001b[0mres\u001b[0m \u001b[0;34m=\u001b[0m \u001b[0mminimize\u001b[0m\u001b[0;34m(\u001b[0m\u001b[0mf\u001b[0m\u001b[0;34m,\u001b[0m \u001b[0mx0\u001b[0m\u001b[0;34m=\u001b[0m\u001b[0mx0\u001b[0m\u001b[0;34m)\u001b[0m\u001b[0;34m[\u001b[0m\u001b[0;34m'x'\u001b[0m\u001b[0;34m]\u001b[0m\u001b[0;34m\u001b[0m\u001b[0m\n\u001b[1;32m    155\u001b[0m \u001b[0;34m\u001b[0m\u001b[0m\n\u001b[0;32m--> 156\u001b[0;31m             \u001b[0mprint\u001b[0m\u001b[0;34m(\u001b[0m\u001b[0;34m'Vals: {}, Loss: {}'\u001b[0m\u001b[0;34m.\u001b[0m\u001b[0mformat\u001b[0m\u001b[0;34m(\u001b[0m\u001b[0mres\u001b[0m\u001b[0;34m[\u001b[0m\u001b[0;34m'x'\u001b[0m\u001b[0;34m]\u001b[0m\u001b[0;34m,\u001b[0m \u001b[0mres\u001b[0m\u001b[0;34m[\u001b[0m\u001b[0;34m'fun'\u001b[0m\u001b[0;34m]\u001b[0m\u001b[0;34m)\u001b[0m\u001b[0;34m)\u001b[0m\u001b[0;34m\u001b[0m\u001b[0m\n\u001b[0m\u001b[1;32m    157\u001b[0m \u001b[0;34m\u001b[0m\u001b[0m\n\u001b[1;32m    158\u001b[0m             \u001b[0mresults\u001b[0m\u001b[0;34m.\u001b[0m\u001b[0mappend\u001b[0m\u001b[0;34m(\u001b[0m\u001b[0mres\u001b[0m\u001b[0;34m)\u001b[0m\u001b[0;34m\u001b[0m\u001b[0m\n",
      "\u001b[0;31mIndexError\u001b[0m: only integers, slices (`:`), ellipsis (`...`), numpy.newaxis (`None`) and integer or boolean arrays are valid indices"
     ]
    }
   ],
   "source": [
    "model.fit(dataset, batch_size=64, epochs=15, patience=0)"
   ]
  },
  {
   "cell_type": "code",
   "execution_count": 7,
   "metadata": {},
   "outputs": [],
   "source": [
    "VAL_RATINGS = pd.read_csv(DATA_PATH + 'SECRET_bakeoff_validation_ratings.csv').set_index(['userid', 'movieid']).sort_index()[['rating']]\n",
    "VAL_RATINGS_X = pd.read_csv(DATA_PATH + 'bakeoff_validation_ratings.csv').set_index(['userid', 'movieid']).sort_index()[['rating']]\n",
    "\n",
    "val_idx_X = VAL_RATINGS_X.index\n",
    "val_idx_y = VAL_RATINGS.index\n",
    "val_idx = val_idx_y.difference(val_idx_X)\n",
    "\n",
    "val_masked_ratings = VAL_RATINGS.loc[val_idx]"
   ]
  },
  {
   "cell_type": "code",
   "execution_count": 8,
   "metadata": {},
   "outputs": [
    {
     "name": "stdout",
     "output_type": "stream",
     "text": [
      "Bake-off RMSE is: 0.8985157202023762, MAE is: 0.7073700940243968\n"
     ]
    }
   ],
   "source": [
    "val_predictions = model.predict(VAL_RATINGS_X)\n",
    "\n",
    "val_model_ratings = ratings_matrix_to_list(val_predictions).loc[val_idx]\n",
    "VAL_MSE = ((val_masked_ratings - val_model_ratings)**2).mean()['rating']\n",
    "VAL_MAE = (abs(val_masked_ratings - val_model_ratings)).mean()['rating']\n",
    "VAL_RMSE = math.sqrt(VAL_MSE)\n",
    "\n",
    "print('Bake-off RMSE is: {}, MAE is: {}'.format(VAL_RMSE, VAL_MAE))"
   ]
  },
  {
   "cell_type": "code",
   "execution_count": null,
   "metadata": {},
   "outputs": [],
   "source": []
  },
  {
   "cell_type": "code",
   "execution_count": null,
   "metadata": {},
   "outputs": [],
   "source": []
  },
  {
   "cell_type": "code",
   "execution_count": null,
   "metadata": {},
   "outputs": [],
   "source": []
  },
  {
   "cell_type": "code",
   "execution_count": null,
   "metadata": {},
   "outputs": [],
   "source": []
  },
  {
   "cell_type": "code",
   "execution_count": null,
   "metadata": {},
   "outputs": [],
   "source": []
  },
  {
   "cell_type": "code",
   "execution_count": 12,
   "metadata": {},
   "outputs": [],
   "source": [
    "umodel = UserSimilarity(threshold=1.0)"
   ]
  },
  {
   "cell_type": "code",
   "execution_count": 13,
   "metadata": {},
   "outputs": [],
   "source": [
    "umodel.fit(dataset)"
   ]
  },
  {
   "cell_type": "code",
   "execution_count": 14,
   "metadata": {},
   "outputs": [
    {
     "name": "stdout",
     "output_type": "stream",
     "text": [
      "Bake-off RMSE is: 0.9172428688820231, MAE is: 0.7196982080341882\n"
     ]
    }
   ],
   "source": [
    "val_predictions = umodel.predict(VAL_RATINGS_X)\n",
    "\n",
    "val_model_ratings = ratings_matrix_to_list(val_predictions).loc[val_idx]\n",
    "VAL_MSE = ((val_masked_ratings - val_model_ratings)**2).mean()['rating']\n",
    "VAL_MAE = (abs(val_masked_ratings - val_model_ratings)).mean()['rating']\n",
    "VAL_RMSE = math.sqrt(VAL_MSE)\n",
    "\n",
    "print('Bake-off RMSE is: {}, MAE is: {}'.format(VAL_RMSE, VAL_MAE))"
   ]
  },
  {
   "cell_type": "code",
   "execution_count": 9,
   "metadata": {},
   "outputs": [
    {
     "name": "stdout",
     "output_type": "stream",
     "text": [
      "Bake-off RMSE is: 0.922183808039501, MAE is: 0.7233853931358244\n"
     ]
    }
   ],
   "source": [
    "val_predictions = model.predict(VAL_RATINGS_X, null=True)\n",
    "\n",
    "val_model_ratings = ratings_matrix_to_list(val_predictions).loc[val_idx]\n",
    "VAL_MSE = ((val_masked_ratings - val_model_ratings)**2).mean()['rating']\n",
    "VAL_MAE = (abs(val_masked_ratings - val_model_ratings)).mean()['rating']\n",
    "VAL_RMSE = math.sqrt(VAL_MSE)\n",
    "\n",
    "print('Bake-off RMSE is: {}, MAE is: {}'.format(VAL_RMSE, VAL_MAE))"
   ]
  },
  {
   "cell_type": "code",
   "execution_count": 6,
   "metadata": {},
   "outputs": [],
   "source": [
    "model = ItemSimilarity()"
   ]
  },
  {
   "cell_type": "code",
   "execution_count": 7,
   "metadata": {},
   "outputs": [],
   "source": [
    "model.fit(dataset)"
   ]
  },
  {
   "cell_type": "code",
   "execution_count": 7,
   "metadata": {},
   "outputs": [],
   "source": [
    "VAL_RATINGS = pd.read_csv(DATA_PATH + 'SECRET_bakeoff_validation_ratings.csv').set_index(['userid', 'movieid']).sort_index()[['rating']]\n",
    "VAL_RATINGS_X = pd.read_csv(DATA_PATH + 'bakeoff_validation_ratings.csv').set_index(['userid', 'movieid']).sort_index()[['rating']]\n",
    "\n",
    "val_idx_X = VAL_RATINGS_X.index\n",
    "val_idx_y = VAL_RATINGS.index\n",
    "val_idx = val_idx_y.difference(val_idx_X)\n",
    "\n",
    "val_masked_ratings = VAL_RATINGS.loc[val_idx]"
   ]
  },
  {
   "cell_type": "code",
   "execution_count": 8,
   "metadata": {},
   "outputs": [
    {
     "name": "stdout",
     "output_type": "stream",
     "text": [
      "Bake-off RMSE is: 0.9064337598660396, MAE is: 0.7120072062141687\n"
     ]
    }
   ],
   "source": [
    "val_predictions = model.predict(VAL_RATINGS_X)\n",
    "\n",
    "val_model_ratings = ratings_matrix_to_list(val_predictions).loc[val_idx]\n",
    "VAL_MSE = ((val_masked_ratings - val_model_ratings)**2).mean()['rating']\n",
    "VAL_MAE = (abs(val_masked_ratings - val_model_ratings)).mean()['rating']\n",
    "VAL_RMSE = math.sqrt(VAL_MSE)\n",
    "\n",
    "print('Bake-off RMSE is: {}, MAE is: {}'.format(VAL_RMSE, VAL_MAE))"
   ]
  },
  {
   "cell_type": "code",
   "execution_count": 9,
   "metadata": {},
   "outputs": [
    {
     "name": "stdout",
     "output_type": "stream",
     "text": [
      "Bake-off RMSE is: 0.922183808039501, MAE is: 0.7233853931358244\n"
     ]
    }
   ],
   "source": [
    "val_predictions = model.predict(VAL_RATINGS_X, null=True)\n",
    "\n",
    "val_model_ratings = ratings_matrix_to_list(val_predictions).loc[val_idx]\n",
    "VAL_MSE = ((val_masked_ratings - val_model_ratings)**2).mean()['rating']\n",
    "VAL_MAE = (abs(val_masked_ratings - val_model_ratings)).mean()['rating']\n",
    "VAL_RMSE = math.sqrt(VAL_MSE)\n",
    "\n",
    "print('Bake-off RMSE is: {}, MAE is: {}'.format(VAL_RMSE, VAL_MAE))"
   ]
  },
  {
   "cell_type": "code",
   "execution_count": 10,
   "metadata": {},
   "outputs": [],
   "source": [
    "model2 = Autoencoder(item_count=len(dataset.items))"
   ]
  },
  {
   "cell_type": "code",
   "execution_count": 11,
   "metadata": {},
   "outputs": [
    {
     "name": "stderr",
     "output_type": "stream",
     "text": [
      "/Users/mahowald/anaconda2/envs/python3/lib/python3.6/site-packages/tensorflow/python/ops/gradients_impl.py:96: UserWarning: Converting sparse IndexedSlices to a dense Tensor of unknown shape. This may consume a large amount of memory.\n",
      "  \"Converting sparse IndexedSlices to a dense Tensor of unknown shape. \"\n"
     ]
    },
    {
     "name": "stdout",
     "output_type": "stream",
     "text": [
      "Epoch 1/30\n",
      "75/75 [==============================] - 5s 62ms/step - loss: 0.0334\n",
      "Epoch 2/30\n",
      "75/75 [==============================] - 4s 57ms/step - loss: 0.0331\n",
      "Epoch 3/30\n",
      "75/75 [==============================] - 4s 57ms/step - loss: 0.0333\n",
      "Epoch 4/30\n",
      "75/75 [==============================] - 4s 59ms/step - loss: 0.0330\n",
      "Epoch 5/30\n",
      "75/75 [==============================] - 4s 56ms/step - loss: 0.0331\n",
      "Epoch 6/30\n",
      "75/75 [==============================] - 5s 60ms/step - loss: 0.0330\n",
      "Epoch 7/30\n",
      "75/75 [==============================] - 4s 60ms/step - loss: 0.0328\n",
      "Epoch 8/30\n",
      "75/75 [==============================] - 4s 58ms/step - loss: 0.0329\n",
      "Epoch 9/30\n",
      "75/75 [==============================] - 5s 61ms/step - loss: 0.0326\n",
      "Epoch 10/30\n",
      "75/75 [==============================] - 4s 57ms/step - loss: 0.0328\n",
      "Epoch 11/30\n",
      "75/75 [==============================] - 5s 62ms/step - loss: 0.0326\n",
      "Epoch 12/30\n",
      "75/75 [==============================] - 4s 59ms/step - loss: 0.0326\n",
      "Epoch 13/30\n",
      "75/75 [==============================] - 4s 59ms/step - loss: 0.0325\n",
      "Epoch 14/30\n",
      "75/75 [==============================] - 5s 62ms/step - loss: 0.0324\n",
      "Epoch 15/30\n",
      "75/75 [==============================] - 4s 57ms/step - loss: 0.0321\n",
      "Epoch 16/30\n",
      "75/75 [==============================] - 4s 58ms/step - loss: 0.0323\n",
      "Epoch 17/30\n",
      "75/75 [==============================] - 4s 58ms/step - loss: 0.0323\n",
      "Epoch 18/30\n",
      "75/75 [==============================] - 4s 57ms/step - loss: 0.0321\n",
      "Epoch 19/30\n",
      "75/75 [==============================] - 5s 62ms/step - loss: 0.0320\n",
      "Epoch 20/30\n",
      "75/75 [==============================] - 4s 57ms/step - loss: 0.0319\n",
      "Epoch 21/30\n",
      "75/75 [==============================] - 4s 60ms/step - loss: 0.0318\n",
      "Epoch 22/30\n",
      "75/75 [==============================] - 4s 59ms/step - loss: 0.0319\n",
      "Epoch 23/30\n",
      "75/75 [==============================] - 5s 61ms/step - loss: 0.0318\n",
      "Epoch 24/30\n",
      "75/75 [==============================] - 5s 60ms/step - loss: 0.0317\n",
      "Epoch 25/30\n",
      "75/75 [==============================] - 4s 60ms/step - loss: 0.0315\n",
      "Epoch 26/30\n",
      "75/75 [==============================] - 4s 59ms/step - loss: 0.0316\n",
      "Epoch 27/30\n",
      "75/75 [==============================] - 4s 57ms/step - loss: 0.0315\n",
      "Epoch 28/30\n",
      "75/75 [==============================] - 4s 58ms/step - loss: 0.0311\n",
      "Epoch 29/30\n",
      "75/75 [==============================] - 4s 58ms/step - loss: 0.0313\n",
      "Epoch 30/30\n",
      "75/75 [==============================] - 4s 58ms/step - loss: 0.0315\n"
     ]
    },
    {
     "data": {
      "text/plain": [
       "<keras.callbacks.History at 0x1a31f0fb38>"
      ]
     },
     "execution_count": 11,
     "metadata": {},
     "output_type": "execute_result"
    }
   ],
   "source": [
    "model2.fit(dataset, batch_size=64, epochs=30, patience=0)"
   ]
  },
  {
   "cell_type": "code",
   "execution_count": 12,
   "metadata": {},
   "outputs": [
    {
     "name": "stdout",
     "output_type": "stream",
     "text": [
      "Bake-off RMSE is: 0.9087807416724243, MAE is: 0.7150812929468041\n"
     ]
    }
   ],
   "source": [
    "val_predictions = model2.predict(VAL_RATINGS_X)\n",
    "\n",
    "val_model_ratings = ratings_matrix_to_list(val_predictions).loc[val_idx]\n",
    "VAL_MSE = ((val_masked_ratings - val_model_ratings)**2).mean()['rating']\n",
    "VAL_MAE = (abs(val_masked_ratings - val_model_ratings)).mean()['rating']\n",
    "VAL_RMSE = math.sqrt(VAL_MSE)\n",
    "\n",
    "print('Bake-off RMSE is: {}, MAE is: {}'.format(VAL_RMSE, VAL_MAE))"
   ]
  },
  {
   "cell_type": "code",
   "execution_count": 13,
   "metadata": {},
   "outputs": [
    {
     "name": "stdout",
     "output_type": "stream",
     "text": [
      "Bake-off RMSE is: 0.9218358916412948, MAE is: 0.7232129871905056\n"
     ]
    }
   ],
   "source": [
    "val_predictions = model2.predict(VAL_RATINGS_X, null=True)\n",
    "\n",
    "val_model_ratings = ratings_matrix_to_list(val_predictions).loc[val_idx]\n",
    "VAL_MSE = ((val_masked_ratings - val_model_ratings)**2).mean()['rating']\n",
    "VAL_MAE = (abs(val_masked_ratings - val_model_ratings)).mean()['rating']\n",
    "VAL_RMSE = math.sqrt(VAL_MSE)\n",
    "\n",
    "print('Bake-off RMSE is: {}, MAE is: {}'.format(VAL_RMSE, VAL_MAE))"
   ]
  },
  {
   "cell_type": "code",
   "execution_count": 11,
   "metadata": {},
   "outputs": [],
   "source": [
    "x = np.array(dataset._make_prefmatrix())"
   ]
  },
  {
   "cell_type": "code",
   "execution_count": 12,
   "metadata": {},
   "outputs": [],
   "source": [
    "preds = x.dot(model._sim).fillna(0)"
   ]
  },
  {
   "cell_type": "code",
   "execution_count": 17,
   "metadata": {},
   "outputs": [],
   "source": [
    "preds[preds > 1.0] = 1.0\n",
    "preds[preds < -1.0] = -1.0"
   ]
  },
  {
   "cell_type": "code",
   "execution_count": 23,
   "metadata": {},
   "outputs": [],
   "source": [
    "preds = (preds + 1.0)/2.0"
   ]
  },
  {
   "cell_type": "code",
   "execution_count": 24,
   "metadata": {},
   "outputs": [
    {
     "data": {
      "text/html": [
       "<div>\n",
       "<style scoped>\n",
       "    .dataframe tbody tr th:only-of-type {\n",
       "        vertical-align: middle;\n",
       "    }\n",
       "\n",
       "    .dataframe tbody tr th {\n",
       "        vertical-align: top;\n",
       "    }\n",
       "\n",
       "    .dataframe thead th {\n",
       "        text-align: right;\n",
       "    }\n",
       "</style>\n",
       "<table border=\"1\" class=\"dataframe\">\n",
       "  <thead>\n",
       "    <tr style=\"text-align: right;\">\n",
       "      <th>movieid</th>\n",
       "      <th>1</th>\n",
       "      <th>2</th>\n",
       "      <th>3</th>\n",
       "      <th>4</th>\n",
       "      <th>5</th>\n",
       "      <th>6</th>\n",
       "      <th>7</th>\n",
       "      <th>8</th>\n",
       "      <th>9</th>\n",
       "      <th>10</th>\n",
       "      <th>...</th>\n",
       "      <th>3943</th>\n",
       "      <th>3944</th>\n",
       "      <th>3945</th>\n",
       "      <th>3946</th>\n",
       "      <th>3947</th>\n",
       "      <th>3948</th>\n",
       "      <th>3949</th>\n",
       "      <th>3950</th>\n",
       "      <th>3951</th>\n",
       "      <th>3952</th>\n",
       "    </tr>\n",
       "    <tr>\n",
       "      <th>userid</th>\n",
       "      <th></th>\n",
       "      <th></th>\n",
       "      <th></th>\n",
       "      <th></th>\n",
       "      <th></th>\n",
       "      <th></th>\n",
       "      <th></th>\n",
       "      <th></th>\n",
       "      <th></th>\n",
       "      <th></th>\n",
       "      <th></th>\n",
       "      <th></th>\n",
       "      <th></th>\n",
       "      <th></th>\n",
       "      <th></th>\n",
       "      <th></th>\n",
       "      <th></th>\n",
       "      <th></th>\n",
       "      <th></th>\n",
       "      <th></th>\n",
       "      <th></th>\n",
       "    </tr>\n",
       "  </thead>\n",
       "  <tbody>\n",
       "    <tr>\n",
       "      <th>1</th>\n",
       "      <td>0.471240</td>\n",
       "      <td>0.523297</td>\n",
       "      <td>0.232976</td>\n",
       "      <td>0.515751</td>\n",
       "      <td>0.309136</td>\n",
       "      <td>0.280969</td>\n",
       "      <td>0.232976</td>\n",
       "      <td>0.576352</td>\n",
       "      <td>0.398882</td>\n",
       "      <td>0.260908</td>\n",
       "      <td>...</td>\n",
       "      <td>0.309136</td>\n",
       "      <td>0.515751</td>\n",
       "      <td>0.523878</td>\n",
       "      <td>0.441522</td>\n",
       "      <td>0.286692</td>\n",
       "      <td>0.309136</td>\n",
       "      <td>0.713139</td>\n",
       "      <td>0.713139</td>\n",
       "      <td>0.713139</td>\n",
       "      <td>0.499880</td>\n",
       "    </tr>\n",
       "    <tr>\n",
       "      <th>2</th>\n",
       "      <td>0.181196</td>\n",
       "      <td>0.555400</td>\n",
       "      <td>0.108027</td>\n",
       "      <td>0.228200</td>\n",
       "      <td>0.000000</td>\n",
       "      <td>0.147347</td>\n",
       "      <td>0.108027</td>\n",
       "      <td>0.583007</td>\n",
       "      <td>0.260181</td>\n",
       "      <td>0.321424</td>\n",
       "      <td>...</td>\n",
       "      <td>0.000000</td>\n",
       "      <td>0.228200</td>\n",
       "      <td>0.567775</td>\n",
       "      <td>0.350529</td>\n",
       "      <td>0.313126</td>\n",
       "      <td>0.000000</td>\n",
       "      <td>0.667801</td>\n",
       "      <td>0.667801</td>\n",
       "      <td>0.667801</td>\n",
       "      <td>0.486514</td>\n",
       "    </tr>\n",
       "    <tr>\n",
       "      <th>3</th>\n",
       "      <td>0.235100</td>\n",
       "      <td>0.626739</td>\n",
       "      <td>0.126719</td>\n",
       "      <td>0.101035</td>\n",
       "      <td>0.085445</td>\n",
       "      <td>0.609255</td>\n",
       "      <td>0.126719</td>\n",
       "      <td>0.617884</td>\n",
       "      <td>0.730852</td>\n",
       "      <td>0.718285</td>\n",
       "      <td>...</td>\n",
       "      <td>0.085445</td>\n",
       "      <td>0.101035</td>\n",
       "      <td>0.583474</td>\n",
       "      <td>0.522845</td>\n",
       "      <td>0.458383</td>\n",
       "      <td>0.085445</td>\n",
       "      <td>0.350333</td>\n",
       "      <td>0.350333</td>\n",
       "      <td>0.350333</td>\n",
       "      <td>0.364742</td>\n",
       "    </tr>\n",
       "    <tr>\n",
       "      <th>7</th>\n",
       "      <td>0.491506</td>\n",
       "      <td>0.577511</td>\n",
       "      <td>0.471993</td>\n",
       "      <td>0.258358</td>\n",
       "      <td>0.485287</td>\n",
       "      <td>0.523989</td>\n",
       "      <td>0.471993</td>\n",
       "      <td>0.594932</td>\n",
       "      <td>0.368476</td>\n",
       "      <td>0.647314</td>\n",
       "      <td>...</td>\n",
       "      <td>0.485287</td>\n",
       "      <td>0.258358</td>\n",
       "      <td>0.577511</td>\n",
       "      <td>0.380997</td>\n",
       "      <td>0.752426</td>\n",
       "      <td>0.485287</td>\n",
       "      <td>0.172979</td>\n",
       "      <td>0.172979</td>\n",
       "      <td>0.172979</td>\n",
       "      <td>0.447253</td>\n",
       "    </tr>\n",
       "    <tr>\n",
       "      <th>8</th>\n",
       "      <td>0.379445</td>\n",
       "      <td>0.379353</td>\n",
       "      <td>0.682296</td>\n",
       "      <td>0.000000</td>\n",
       "      <td>0.445861</td>\n",
       "      <td>0.733033</td>\n",
       "      <td>0.682296</td>\n",
       "      <td>0.352238</td>\n",
       "      <td>0.833914</td>\n",
       "      <td>0.741046</td>\n",
       "      <td>...</td>\n",
       "      <td>0.445861</td>\n",
       "      <td>0.000000</td>\n",
       "      <td>0.377769</td>\n",
       "      <td>0.084783</td>\n",
       "      <td>0.640631</td>\n",
       "      <td>0.445861</td>\n",
       "      <td>0.000000</td>\n",
       "      <td>0.000000</td>\n",
       "      <td>0.000000</td>\n",
       "      <td>0.000000</td>\n",
       "    </tr>\n",
       "  </tbody>\n",
       "</table>\n",
       "<p>5 rows × 3883 columns</p>\n",
       "</div>"
      ],
      "text/plain": [
       "movieid      1         2         3         4         5         6         7     \\\n",
       "userid                                                                          \n",
       "1        0.471240  0.523297  0.232976  0.515751  0.309136  0.280969  0.232976   \n",
       "2        0.181196  0.555400  0.108027  0.228200  0.000000  0.147347  0.108027   \n",
       "3        0.235100  0.626739  0.126719  0.101035  0.085445  0.609255  0.126719   \n",
       "7        0.491506  0.577511  0.471993  0.258358  0.485287  0.523989  0.471993   \n",
       "8        0.379445  0.379353  0.682296  0.000000  0.445861  0.733033  0.682296   \n",
       "\n",
       "movieid      8         9         10      ...         3943      3944      3945  \\\n",
       "userid                                   ...                                    \n",
       "1        0.576352  0.398882  0.260908    ...     0.309136  0.515751  0.523878   \n",
       "2        0.583007  0.260181  0.321424    ...     0.000000  0.228200  0.567775   \n",
       "3        0.617884  0.730852  0.718285    ...     0.085445  0.101035  0.583474   \n",
       "7        0.594932  0.368476  0.647314    ...     0.485287  0.258358  0.577511   \n",
       "8        0.352238  0.833914  0.741046    ...     0.445861  0.000000  0.377769   \n",
       "\n",
       "movieid      3946      3947      3948      3949      3950      3951      3952  \n",
       "userid                                                                         \n",
       "1        0.441522  0.286692  0.309136  0.713139  0.713139  0.713139  0.499880  \n",
       "2        0.350529  0.313126  0.000000  0.667801  0.667801  0.667801  0.486514  \n",
       "3        0.522845  0.458383  0.085445  0.350333  0.350333  0.350333  0.364742  \n",
       "7        0.380997  0.752426  0.485287  0.172979  0.172979  0.172979  0.447253  \n",
       "8        0.084783  0.640631  0.445861  0.000000  0.000000  0.000000  0.000000  \n",
       "\n",
       "[5 rows x 3883 columns]"
      ]
     },
     "execution_count": 24,
     "metadata": {},
     "output_type": "execute_result"
    }
   ],
   "source": [
    "preds.head()"
   ]
  },
  {
   "cell_type": "code",
   "execution_count": 12,
   "metadata": {},
   "outputs": [
    {
     "data": {
      "text/plain": [
       "array([[ 0.11106065,  0.        ,  0.        , ...,  0.        ,\n",
       "         0.        ,  0.        ],\n",
       "       [ 0.        ,  0.        ,  0.        , ...,  0.        ,\n",
       "         0.        ,  0.        ],\n",
       "       [ 0.        ,  0.        ,  0.        , ...,  0.        ,\n",
       "         0.        ,  0.        ],\n",
       "       ...,\n",
       "       [ 0.        ,  0.        ,  0.        , ...,  0.        ,\n",
       "         0.        ,  0.        ],\n",
       "       [ 0.        ,  0.        ,  0.        , ...,  0.        ,\n",
       "         0.        ,  0.        ],\n",
       "       [-0.17955989,  0.        ,  0.        , ...,  0.        ,\n",
       "         0.        ,  0.        ]])"
      ]
     },
     "execution_count": 12,
     "metadata": {},
     "output_type": "execute_result"
    }
   ],
   "source": [
    "x"
   ]
  },
  {
   "cell_type": "code",
   "execution_count": 19,
   "metadata": {},
   "outputs": [],
   "source": [
    "model._sim = model._sim.fillna(0)"
   ]
  },
  {
   "cell_type": "code",
   "execution_count": 20,
   "metadata": {},
   "outputs": [
    {
     "name": "stderr",
     "output_type": "stream",
     "text": [
      "/Users/mahowald/anaconda2/envs/python3/lib/python3.6/site-packages/ipykernel_launcher.py:1: RuntimeWarning: invalid value encountered in true_divide\n",
      "  \"\"\"Entry point for launching an IPython kernel.\n"
     ]
    }
   ],
   "source": [
    "pred = x.dot(model._sim)/(w.dot(model._sim))"
   ]
  },
  {
   "cell_type": "code",
   "execution_count": 17,
   "metadata": {},
   "outputs": [],
   "source": [
    "w = (x != 0).astype(int)"
   ]
  },
  {
   "cell_type": "code",
   "execution_count": 22,
   "metadata": {},
   "outputs": [
    {
     "name": "stderr",
     "output_type": "stream",
     "text": [
      "/Users/mahowald/anaconda2/envs/python3/lib/python3.6/site-packages/numpy/core/_methods.py:28: RuntimeWarning: invalid value encountered in reduce\n",
      "  return umr_maximum(a, axis, None, out, keepdims, initial)\n"
     ]
    },
    {
     "data": {
      "text/plain": [
       "nan"
      ]
     },
     "execution_count": 22,
     "metadata": {},
     "output_type": "execute_result"
    }
   ],
   "source": []
  },
  {
   "cell_type": "code",
   "execution_count": 23,
   "metadata": {},
   "outputs": [],
   "source": [
    "pm = dataset._make_prefmatrix()\n",
    "X = np.array(pm)\n",
    "w = (x != 0).astype(int)\n",
    "\n",
    "preds = X.dot(model._sim)\n",
    "den = w.dot(model._sim)\n",
    "den[den == 0] = 1.0\n",
    "\n",
    "preds = preds/den"
   ]
  },
  {
   "cell_type": "code",
   "execution_count": 26,
   "metadata": {},
   "outputs": [
    {
     "data": {
      "text/plain": [
       "-0.8836122074507149"
      ]
     },
     "execution_count": 26,
     "metadata": {},
     "output_type": "execute_result"
    }
   ],
   "source": [
    "preds.min()"
   ]
  },
  {
   "cell_type": "code",
   "execution_count": 3,
   "metadata": {},
   "outputs": [
    {
     "data": {
      "text/html": [
       "<div>\n",
       "<style scoped>\n",
       "    .dataframe tbody tr th:only-of-type {\n",
       "        vertical-align: middle;\n",
       "    }\n",
       "\n",
       "    .dataframe tbody tr th {\n",
       "        vertical-align: top;\n",
       "    }\n",
       "\n",
       "    .dataframe thead th {\n",
       "        text-align: right;\n",
       "    }\n",
       "</style>\n",
       "<table border=\"1\" class=\"dataframe\">\n",
       "  <thead>\n",
       "    <tr style=\"text-align: right;\">\n",
       "      <th></th>\n",
       "      <th>0</th>\n",
       "      <th>1</th>\n",
       "      <th>2</th>\n",
       "      <th>3</th>\n",
       "    </tr>\n",
       "    <tr>\n",
       "      <th>user</th>\n",
       "      <th></th>\n",
       "      <th></th>\n",
       "      <th></th>\n",
       "      <th></th>\n",
       "    </tr>\n",
       "  </thead>\n",
       "  <tbody>\n",
       "    <tr>\n",
       "      <th>0</th>\n",
       "      <td>5</td>\n",
       "      <td>4</td>\n",
       "      <td>0</td>\n",
       "      <td>-4</td>\n",
       "    </tr>\n",
       "    <tr>\n",
       "      <th>1</th>\n",
       "      <td>0</td>\n",
       "      <td>4</td>\n",
       "      <td>0</td>\n",
       "      <td>0</td>\n",
       "    </tr>\n",
       "    <tr>\n",
       "      <th>2</th>\n",
       "      <td>2</td>\n",
       "      <td>0</td>\n",
       "      <td>-5</td>\n",
       "      <td>-4</td>\n",
       "    </tr>\n",
       "  </tbody>\n",
       "</table>\n",
       "</div>"
      ],
      "text/plain": [
       "      0  1  2  3\n",
       "user            \n",
       "0     5  4  0 -4\n",
       "1     0  4  0  0\n",
       "2     2  0 -5 -4"
      ]
     },
     "execution_count": 3,
     "metadata": {},
     "output_type": "execute_result"
    }
   ],
   "source": [
    "x = pd.DataFrame([[5, 4, 0, -4], [0, 4, 0, 0], [2, 0, -5, -4]])\n",
    "x.index.name = 'user'\n",
    "x"
   ]
  },
  {
   "cell_type": "code",
   "execution_count": 19,
   "metadata": {},
   "outputs": [
    {
     "data": {
      "text/html": [
       "<div>\n",
       "<style scoped>\n",
       "    .dataframe tbody tr th:only-of-type {\n",
       "        vertical-align: middle;\n",
       "    }\n",
       "\n",
       "    .dataframe tbody tr th {\n",
       "        vertical-align: top;\n",
       "    }\n",
       "\n",
       "    .dataframe thead th {\n",
       "        text-align: right;\n",
       "    }\n",
       "</style>\n",
       "<table border=\"1\" class=\"dataframe\">\n",
       "  <thead>\n",
       "    <tr style=\"text-align: right;\">\n",
       "      <th>user</th>\n",
       "      <th>0</th>\n",
       "      <th>1</th>\n",
       "      <th>2</th>\n",
       "    </tr>\n",
       "    <tr>\n",
       "      <th>user</th>\n",
       "      <th></th>\n",
       "      <th></th>\n",
       "      <th></th>\n",
       "    </tr>\n",
       "  </thead>\n",
       "  <tbody>\n",
       "    <tr>\n",
       "      <th>0</th>\n",
       "      <td>1.000000</td>\n",
       "      <td>0.445742</td>\n",
       "      <td>0.852376</td>\n",
       "    </tr>\n",
       "    <tr>\n",
       "      <th>1</th>\n",
       "      <td>0.445742</td>\n",
       "      <td>1.000000</td>\n",
       "      <td>0.353103</td>\n",
       "    </tr>\n",
       "    <tr>\n",
       "      <th>2</th>\n",
       "      <td>0.852376</td>\n",
       "      <td>0.353103</td>\n",
       "      <td>1.000000</td>\n",
       "    </tr>\n",
       "  </tbody>\n",
       "</table>\n",
       "</div>"
      ],
      "text/plain": [
       "user         0         1         2\n",
       "user                              \n",
       "0     1.000000  0.445742  0.852376\n",
       "1     0.445742  1.000000  0.353103\n",
       "2     0.852376  0.353103  1.000000"
      ]
     },
     "execution_count": 19,
     "metadata": {},
     "output_type": "execute_result"
    }
   ],
   "source": [
    "x.transpose().corr()"
   ]
  },
  {
   "cell_type": "code",
   "execution_count": 13,
   "metadata": {},
   "outputs": [],
   "source": [
    "s = cosine_similarity(x)"
   ]
  },
  {
   "cell_type": "code",
   "execution_count": 7,
   "metadata": {},
   "outputs": [
    {
     "data": {
      "text/plain": [
       "array([[ 6.02673805,  6.11925177, -2.56684514, -6.05347611],\n",
       "       [ 2.64906471,  6.11925177,  0.        , -2.11925177],\n",
       "       [ 4.56684514,  2.05347611, -5.        , -6.05347611]])"
      ]
     },
     "execution_count": 7,
     "metadata": {},
     "output_type": "execute_result"
    }
   ],
   "source": [
    "s.dot(x)"
   ]
  },
  {
   "cell_type": "code",
   "execution_count": 14,
   "metadata": {},
   "outputs": [],
   "source": [
    "s2 = s.copy()"
   ]
  },
  {
   "cell_type": "code",
   "execution_count": 15,
   "metadata": {},
   "outputs": [],
   "source": [
    "np.fill_diagonal(s2, 0)"
   ]
  },
  {
   "cell_type": "code",
   "execution_count": 16,
   "metadata": {},
   "outputs": [
    {
     "data": {
      "text/plain": [
       "array([[0.        , 0.52981294, 0.51336903],\n",
       "       [0.52981294, 0.        , 0.        ],\n",
       "       [0.51336903, 0.        , 0.        ]])"
      ]
     },
     "execution_count": 16,
     "metadata": {},
     "output_type": "execute_result"
    }
   ],
   "source": [
    "s2"
   ]
  },
  {
   "cell_type": "code",
   "execution_count": 17,
   "metadata": {},
   "outputs": [
    {
     "data": {
      "text/plain": [
       "array([[1.        , 0.52981294, 0.51336903],\n",
       "       [0.52981294, 1.        , 0.        ],\n",
       "       [0.51336903, 0.        , 1.        ]])"
      ]
     },
     "execution_count": 17,
     "metadata": {},
     "output_type": "execute_result"
    }
   ],
   "source": [
    "s"
   ]
  },
  {
   "cell_type": "code",
   "execution_count": 18,
   "metadata": {},
   "outputs": [
    {
     "data": {
      "text/plain": [
       "array([[ 1.02673805,  2.11925177, -2.56684514, -2.05347611],\n",
       "       [ 2.64906471,  2.11925177,  0.        , -2.11925177],\n",
       "       [ 2.56684514,  2.05347611,  0.        , -2.05347611]])"
      ]
     },
     "execution_count": 18,
     "metadata": {},
     "output_type": "execute_result"
    }
   ],
   "source": [
    "s2.dot(x)"
   ]
  },
  {
   "cell_type": "code",
   "execution_count": 21,
   "metadata": {},
   "outputs": [],
   "source": [
    "w = s2.sum(axis=1).reshape(-1,1)"
   ]
  },
  {
   "cell_type": "code",
   "execution_count": 22,
   "metadata": {},
   "outputs": [
    {
     "data": {
      "text/plain": [
       "array([[0.        , 0.50788161, 0.49211839],\n",
       "       [1.        , 0.        , 0.        ],\n",
       "       [1.        , 0.        , 0.        ]])"
      ]
     },
     "execution_count": 22,
     "metadata": {},
     "output_type": "execute_result"
    }
   ],
   "source": [
    "s2/w"
   ]
  },
  {
   "cell_type": "code",
   "execution_count": 10,
   "metadata": {},
   "outputs": [],
   "source": [
    "pm = dataset._make_prefmatrix()"
   ]
  },
  {
   "cell_type": "code",
   "execution_count": 11,
   "metadata": {},
   "outputs": [],
   "source": [
    "smallpm = pm.loc[[1, 2, 4169, 1941, 1181, 889, 3618]][[2858, 260, 1196, 1210, 480, 2028, 589, 1270, 2571]]"
   ]
  },
  {
   "cell_type": "code",
   "execution_count": 12,
   "metadata": {},
   "outputs": [
    {
     "data": {
      "text/html": [
       "<div>\n",
       "<style scoped>\n",
       "    .dataframe tbody tr th:only-of-type {\n",
       "        vertical-align: middle;\n",
       "    }\n",
       "\n",
       "    .dataframe tbody tr th {\n",
       "        vertical-align: top;\n",
       "    }\n",
       "\n",
       "    .dataframe thead th {\n",
       "        text-align: right;\n",
       "    }\n",
       "</style>\n",
       "<table border=\"1\" class=\"dataframe\">\n",
       "  <thead>\n",
       "    <tr style=\"text-align: right;\">\n",
       "      <th>movieid</th>\n",
       "      <th>2858</th>\n",
       "      <th>260</th>\n",
       "      <th>1196</th>\n",
       "      <th>1210</th>\n",
       "      <th>480</th>\n",
       "      <th>2028</th>\n",
       "      <th>589</th>\n",
       "      <th>1270</th>\n",
       "      <th>2571</th>\n",
       "    </tr>\n",
       "    <tr>\n",
       "      <th>userid</th>\n",
       "      <th></th>\n",
       "      <th></th>\n",
       "      <th></th>\n",
       "      <th></th>\n",
       "      <th></th>\n",
       "      <th></th>\n",
       "      <th></th>\n",
       "      <th></th>\n",
       "      <th></th>\n",
       "    </tr>\n",
       "  </thead>\n",
       "  <tbody>\n",
       "    <tr>\n",
       "      <th>1</th>\n",
       "      <td>0.000000</td>\n",
       "      <td>-0.158563</td>\n",
       "      <td>0.000000</td>\n",
       "      <td>0.000000</td>\n",
       "      <td>0.000000</td>\n",
       "      <td>0.068356</td>\n",
       "      <td>0.000000</td>\n",
       "      <td>0.137387</td>\n",
       "      <td>0.000000</td>\n",
       "    </tr>\n",
       "    <tr>\n",
       "      <th>2</th>\n",
       "      <td>-0.065387</td>\n",
       "      <td>0.000000</td>\n",
       "      <td>0.140469</td>\n",
       "      <td>-0.008982</td>\n",
       "      <td>0.250809</td>\n",
       "      <td>-0.069690</td>\n",
       "      <td>-0.011212</td>\n",
       "      <td>0.000000</td>\n",
       "      <td>-0.067220</td>\n",
       "    </tr>\n",
       "    <tr>\n",
       "      <th>4169</th>\n",
       "      <td>0.097716</td>\n",
       "      <td>0.068030</td>\n",
       "      <td>0.102038</td>\n",
       "      <td>0.154121</td>\n",
       "      <td>0.212378</td>\n",
       "      <td>0.093414</td>\n",
       "      <td>-0.049643</td>\n",
       "      <td>-0.039090</td>\n",
       "      <td>-0.105651</td>\n",
       "    </tr>\n",
       "    <tr>\n",
       "      <th>1941</th>\n",
       "      <td>-0.644996</td>\n",
       "      <td>0.131456</td>\n",
       "      <td>0.165464</td>\n",
       "      <td>0.217547</td>\n",
       "      <td>0.275804</td>\n",
       "      <td>0.156839</td>\n",
       "      <td>-0.187752</td>\n",
       "      <td>0.225870</td>\n",
       "      <td>-0.243760</td>\n",
       "    </tr>\n",
       "    <tr>\n",
       "      <th>1181</th>\n",
       "      <td>-0.144671</td>\n",
       "      <td>0.027177</td>\n",
       "      <td>0.061186</td>\n",
       "      <td>-0.088266</td>\n",
       "      <td>-0.231544</td>\n",
       "      <td>0.052561</td>\n",
       "      <td>0.312574</td>\n",
       "      <td>-0.079943</td>\n",
       "      <td>0.256566</td>\n",
       "    </tr>\n",
       "    <tr>\n",
       "      <th>889</th>\n",
       "      <td>-0.353751</td>\n",
       "      <td>0.019631</td>\n",
       "      <td>0.053640</td>\n",
       "      <td>-0.095812</td>\n",
       "      <td>-0.037555</td>\n",
       "      <td>-0.156520</td>\n",
       "      <td>0.305027</td>\n",
       "      <td>0.114046</td>\n",
       "      <td>0.249020</td>\n",
       "    </tr>\n",
       "    <tr>\n",
       "      <th>3618</th>\n",
       "      <td>0.011025</td>\n",
       "      <td>-0.018662</td>\n",
       "      <td>-0.186188</td>\n",
       "      <td>-0.134105</td>\n",
       "      <td>0.125687</td>\n",
       "      <td>-0.194813</td>\n",
       "      <td>-0.136335</td>\n",
       "      <td>0.075753</td>\n",
       "      <td>-0.192343</td>\n",
       "    </tr>\n",
       "  </tbody>\n",
       "</table>\n",
       "</div>"
      ],
      "text/plain": [
       "movieid      2858      260       1196      1210      480       2028      589   \\\n",
       "userid                                                                          \n",
       "1        0.000000 -0.158563  0.000000  0.000000  0.000000  0.068356  0.000000   \n",
       "2       -0.065387  0.000000  0.140469 -0.008982  0.250809 -0.069690 -0.011212   \n",
       "4169     0.097716  0.068030  0.102038  0.154121  0.212378  0.093414 -0.049643   \n",
       "1941    -0.644996  0.131456  0.165464  0.217547  0.275804  0.156839 -0.187752   \n",
       "1181    -0.144671  0.027177  0.061186 -0.088266 -0.231544  0.052561  0.312574   \n",
       "889     -0.353751  0.019631  0.053640 -0.095812 -0.037555 -0.156520  0.305027   \n",
       "3618     0.011025 -0.018662 -0.186188 -0.134105  0.125687 -0.194813 -0.136335   \n",
       "\n",
       "movieid      1270      2571  \n",
       "userid                       \n",
       "1        0.137387  0.000000  \n",
       "2        0.000000 -0.067220  \n",
       "4169    -0.039090 -0.105651  \n",
       "1941     0.225870 -0.243760  \n",
       "1181    -0.079943  0.256566  \n",
       "889      0.114046  0.249020  \n",
       "3618     0.075753 -0.192343  "
      ]
     },
     "execution_count": 12,
     "metadata": {},
     "output_type": "execute_result"
    }
   ],
   "source": [
    "smallpm"
   ]
  },
  {
   "cell_type": "code",
   "execution_count": 13,
   "metadata": {},
   "outputs": [
    {
     "data": {
      "text/html": [
       "<div>\n",
       "<style scoped>\n",
       "    .dataframe tbody tr th:only-of-type {\n",
       "        vertical-align: middle;\n",
       "    }\n",
       "\n",
       "    .dataframe tbody tr th {\n",
       "        vertical-align: top;\n",
       "    }\n",
       "\n",
       "    .dataframe thead th {\n",
       "        text-align: right;\n",
       "    }\n",
       "</style>\n",
       "<table border=\"1\" class=\"dataframe\">\n",
       "  <thead>\n",
       "    <tr style=\"text-align: right;\">\n",
       "      <th>userid</th>\n",
       "      <th>1</th>\n",
       "      <th>2</th>\n",
       "      <th>4169</th>\n",
       "      <th>1941</th>\n",
       "      <th>1181</th>\n",
       "      <th>889</th>\n",
       "      <th>3618</th>\n",
       "    </tr>\n",
       "    <tr>\n",
       "      <th>userid</th>\n",
       "      <th></th>\n",
       "      <th></th>\n",
       "      <th></th>\n",
       "      <th></th>\n",
       "      <th></th>\n",
       "      <th></th>\n",
       "      <th></th>\n",
       "    </tr>\n",
       "  </thead>\n",
       "  <tbody>\n",
       "    <tr>\n",
       "      <th>1</th>\n",
       "      <td>0.000000</td>\n",
       "      <td>-0.069499</td>\n",
       "      <td>-0.129291</td>\n",
       "      <td>0.109097</td>\n",
       "      <td>-0.104084</td>\n",
       "      <td>0.014612</td>\n",
       "      <td>0.000552</td>\n",
       "    </tr>\n",
       "    <tr>\n",
       "      <th>2</th>\n",
       "      <td>-0.069499</td>\n",
       "      <td>0.000000</td>\n",
       "      <td>0.573057</td>\n",
       "      <td>0.519639</td>\n",
       "      <td>-0.402174</td>\n",
       "      <td>0.071874</td>\n",
       "      <td>0.266006</td>\n",
       "    </tr>\n",
       "    <tr>\n",
       "      <th>4169</th>\n",
       "      <td>-0.129291</td>\n",
       "      <td>0.573057</td>\n",
       "      <td>0.000000</td>\n",
       "      <td>0.322012</td>\n",
       "      <td>-0.592658</td>\n",
       "      <td>-0.562955</td>\n",
       "      <td>-0.051511</td>\n",
       "    </tr>\n",
       "    <tr>\n",
       "      <th>1941</th>\n",
       "      <td>0.109097</td>\n",
       "      <td>0.519639</td>\n",
       "      <td>0.322012</td>\n",
       "      <td>0.000000</td>\n",
       "      <td>-0.242052</td>\n",
       "      <td>0.183288</td>\n",
       "      <td>0.067821</td>\n",
       "    </tr>\n",
       "    <tr>\n",
       "      <th>1181</th>\n",
       "      <td>-0.104084</td>\n",
       "      <td>-0.402174</td>\n",
       "      <td>-0.592658</td>\n",
       "      <td>-0.242052</td>\n",
       "      <td>0.000000</td>\n",
       "      <td>0.729699</td>\n",
       "      <td>-0.665432</td>\n",
       "    </tr>\n",
       "    <tr>\n",
       "      <th>889</th>\n",
       "      <td>0.014612</td>\n",
       "      <td>0.071874</td>\n",
       "      <td>-0.562955</td>\n",
       "      <td>0.183288</td>\n",
       "      <td>0.729699</td>\n",
       "      <td>0.000000</td>\n",
       "      <td>-0.239161</td>\n",
       "    </tr>\n",
       "    <tr>\n",
       "      <th>3618</th>\n",
       "      <td>0.000552</td>\n",
       "      <td>0.266006</td>\n",
       "      <td>-0.051511</td>\n",
       "      <td>0.067821</td>\n",
       "      <td>-0.665432</td>\n",
       "      <td>-0.239161</td>\n",
       "      <td>0.000000</td>\n",
       "    </tr>\n",
       "  </tbody>\n",
       "</table>\n",
       "</div>"
      ],
      "text/plain": [
       "userid      1         2         4169      1941      1181      889       3618\n",
       "userid                                                                      \n",
       "1       0.000000 -0.069499 -0.129291  0.109097 -0.104084  0.014612  0.000552\n",
       "2      -0.069499  0.000000  0.573057  0.519639 -0.402174  0.071874  0.266006\n",
       "4169   -0.129291  0.573057  0.000000  0.322012 -0.592658 -0.562955 -0.051511\n",
       "1941    0.109097  0.519639  0.322012  0.000000 -0.242052  0.183288  0.067821\n",
       "1181   -0.104084 -0.402174 -0.592658 -0.242052  0.000000  0.729699 -0.665432\n",
       "889     0.014612  0.071874 -0.562955  0.183288  0.729699  0.000000 -0.239161\n",
       "3618    0.000552  0.266006 -0.051511  0.067821 -0.665432 -0.239161  0.000000"
      ]
     },
     "execution_count": 13,
     "metadata": {},
     "output_type": "execute_result"
    }
   ],
   "source": [
    "s = cosine_similarity(smallpm)\n",
    "np.fill_diagonal(s, 0)\n",
    "s = pd.DataFrame(s, index=smallpm.index, columns=smallpm.index)\n",
    "s"
   ]
  },
  {
   "cell_type": "code",
   "execution_count": 29,
   "metadata": {},
   "outputs": [
    {
     "data": {
      "text/plain": [
       "array([[-6.85622153e-02,  2.99367303e-03, -1.05907629e-02,\n",
       "         1.21445391e-02,  8.82038927e-03,  2.01123362e-03,\n",
       "        -4.14374720e-02,  3.97249111e-02, -3.14337721e-02],\n",
       "       [-2.43478153e-01,  1.03831167e-01,  7.41762769e-02,\n",
       "         1.94305454e-01,  3.88878431e-01,  4.60707964e-02,\n",
       "        -2.66062514e-01,  1.45920486e-01, -3.23661211e-01],\n",
       "       [ 3.91513439e-02,  3.66343027e-02,  7.69103249e-02,\n",
       "         1.78062770e-01,  3.84434117e-01,  6.87279900e-02,\n",
       "        -4.16826898e-01,  3.42441238e-02, -3.99349345e-01],\n",
       "       [-3.15845540e-02,  3.61812259e-04,  8.82448142e-02,\n",
       "         3.96700978e-02,  2.56404979e-01, -5.32988585e-02,\n",
       "        -5.08094432e-02,  4.77920910e-02, -9.84558140e-02],\n",
       "       [-1.40961421e-01, -2.88907190e-02,  6.01837973e-03,\n",
       "        -1.21062798e-01, -4.04535353e-01, -5.69905667e-02,\n",
       "         3.92675910e-01, -1.29941876e-02,  4.58351724e-01],\n",
       "       [-2.86132295e-01,  7.77383279e-03,  7.21567680e-02,\n",
       "        -7.98701630e-02, -2.49997800e-01,  5.70943153e-02,\n",
       "         2.53419077e-01, -1.10385639e-02,  2.43183930e-01],\n",
       "       [ 1.14701191e-01, -1.74558733e-02, -1.02119379e-02,\n",
       "         8.60753424e-02,  2.37540424e-01, -1.02174365e-02,\n",
       "        -2.94106068e-01,  4.33292571e-02, -2.59253598e-01]])"
      ]
     },
     "execution_count": 29,
     "metadata": {},
     "output_type": "execute_result"
    }
   ],
   "source": [
    "t = s.dot(smallpm)\n",
    "t"
   ]
  },
  {
   "cell_type": "code",
   "execution_count": 16,
   "metadata": {},
   "outputs": [
    {
     "data": {
      "text/plain": [
       "userid\n",
       "1       0.427136\n",
       "2       1.902250\n",
       "4169    2.231486\n",
       "1941    1.443909\n",
       "1181    2.736099\n",
       "889     1.801590\n",
       "3618    1.290483\n",
       "dtype: float64"
      ]
     },
     "execution_count": 16,
     "metadata": {},
     "output_type": "execute_result"
    }
   ],
   "source": [
    "abs(s).sum(axis=1)"
   ]
  },
  {
   "cell_type": "code",
   "execution_count": 17,
   "metadata": {},
   "outputs": [
    {
     "data": {
      "text/plain": [
       "array([[ 0.00000000e+00, -6.94988139e-02, -1.29291419e-01,\n",
       "         1.09097487e-01, -1.04083659e-01,  1.46123562e-02,\n",
       "         5.51778376e-04],\n",
       "       [-6.94988139e-02,  0.00000000e+00,  5.73057284e-01,\n",
       "         5.19638975e-01, -4.02173974e-01,  7.18743806e-02,\n",
       "         2.66006230e-01],\n",
       "       [-1.29291419e-01,  5.73057284e-01,  0.00000000e+00,\n",
       "         3.22012377e-01, -5.92658231e-01, -5.62955283e-01,\n",
       "        -5.15112347e-02],\n",
       "       [ 1.09097487e-01,  5.19638975e-01,  3.22012377e-01,\n",
       "         0.00000000e+00, -2.42051841e-01,  1.83287578e-01,\n",
       "         6.78208029e-02],\n",
       "       [-1.04083659e-01, -4.02173974e-01, -5.92658231e-01,\n",
       "        -2.42051841e-01,  0.00000000e+00,  7.29699348e-01,\n",
       "        -6.65432078e-01],\n",
       "       [ 1.46123562e-02,  7.18743806e-02, -5.62955283e-01,\n",
       "         1.83287578e-01,  7.29699348e-01,  0.00000000e+00,\n",
       "        -2.39161353e-01],\n",
       "       [ 5.51778376e-04,  2.66006230e-01, -5.15112347e-02,\n",
       "         6.78208029e-02, -6.65432078e-01, -2.39161353e-01,\n",
       "         0.00000000e+00]])"
      ]
     },
     "execution_count": 17,
     "metadata": {},
     "output_type": "execute_result"
    }
   ],
   "source": [
    "s = cosine_similarity(smallpm)\n",
    "np.fill_diagonal(s, 0)\n",
    "s"
   ]
  },
  {
   "cell_type": "code",
   "execution_count": 23,
   "metadata": {},
   "outputs": [
    {
     "data": {
      "text/plain": [
       "array([[0.42713551],\n",
       "       [1.90224966],\n",
       "       [2.23148583],\n",
       "       [1.44390906],\n",
       "       [2.73609913],\n",
       "       [1.8015903 ],\n",
       "       [1.29048348]])"
      ]
     },
     "execution_count": 23,
     "metadata": {},
     "output_type": "execute_result"
    }
   ],
   "source": [
    "w = abs(s).sum(axis=0).reshape(-1, 1)\n",
    "w"
   ]
  },
  {
   "cell_type": "code",
   "execution_count": 30,
   "metadata": {},
   "outputs": [
    {
     "data": {
      "text/plain": [
       "array([[-0.16051631,  0.00700872, -0.02479485,  0.02843252,  0.0206501 ,\n",
       "         0.00470865, -0.09701247,  0.09300306, -0.07359204],\n",
       "       [-0.12799485,  0.05458335,  0.03899398,  0.10214509,  0.20443081,\n",
       "         0.02421911, -0.1398673 ,  0.07670943, -0.17014655],\n",
       "       [ 0.01754497,  0.016417  ,  0.03446597,  0.07979561,  0.17227719,\n",
       "         0.03079921, -0.18679343,  0.01534588, -0.17896118],\n",
       "       [-0.02187434,  0.00025058,  0.06111522,  0.0274741 ,  0.17757696,\n",
       "        -0.03691289, -0.03518881,  0.0330991 , -0.06818699],\n",
       "       [-0.05151912, -0.01055909,  0.00219962, -0.0442465 , -0.14785113,\n",
       "        -0.02082913,  0.1435167 , -0.00474917,  0.16752015],\n",
       "       [-0.15882207,  0.00431498,  0.04005171, -0.04433314, -0.13876507,\n",
       "         0.03169107,  0.1406641 , -0.00612712,  0.13498293],\n",
       "       [ 0.08888234, -0.01352662, -0.00791327,  0.06670007,  0.18407088,\n",
       "        -0.00791753, -0.22790378,  0.03357599, -0.20089649]])"
      ]
     },
     "execution_count": 30,
     "metadata": {},
     "output_type": "execute_result"
    }
   ],
   "source": [
    "t/w"
   ]
  },
  {
   "cell_type": "code",
   "execution_count": 15,
   "metadata": {},
   "outputs": [
    {
     "data": {
      "text/plain": [
       "0.024005996650785608"
      ]
     },
     "execution_count": 15,
     "metadata": {},
     "output_type": "execute_result"
    }
   ],
   "source": [
    "((t - smallpm)**2).mean().mean()"
   ]
  },
  {
   "cell_type": "code",
   "execution_count": 22,
   "metadata": {},
   "outputs": [
    {
     "data": {
      "text/plain": [
       "array([   1,    2,    3, ..., 6038, 6039, 6040])"
      ]
     },
     "execution_count": 22,
     "metadata": {},
     "output_type": "execute_result"
    }
   ],
   "source": [
    "dataset.ratings.reset_index()['userid'].unique()"
   ]
  },
  {
   "cell_type": "code",
   "execution_count": 30,
   "metadata": {},
   "outputs": [
    {
     "data": {
      "text/html": [
       "<div>\n",
       "<style scoped>\n",
       "    .dataframe tbody tr th:only-of-type {\n",
       "        vertical-align: middle;\n",
       "    }\n",
       "\n",
       "    .dataframe tbody tr th {\n",
       "        vertical-align: top;\n",
       "    }\n",
       "\n",
       "    .dataframe thead th {\n",
       "        text-align: right;\n",
       "    }\n",
       "</style>\n",
       "<table border=\"1\" class=\"dataframe\">\n",
       "  <thead>\n",
       "    <tr style=\"text-align: right;\">\n",
       "      <th>movieid</th>\n",
       "      <th>2858</th>\n",
       "      <th>260</th>\n",
       "      <th>1196</th>\n",
       "      <th>1210</th>\n",
       "      <th>480</th>\n",
       "      <th>2028</th>\n",
       "      <th>589</th>\n",
       "      <th>1270</th>\n",
       "      <th>2571</th>\n",
       "    </tr>\n",
       "    <tr>\n",
       "      <th>userid</th>\n",
       "      <th></th>\n",
       "      <th></th>\n",
       "      <th></th>\n",
       "      <th></th>\n",
       "      <th></th>\n",
       "      <th></th>\n",
       "      <th></th>\n",
       "      <th></th>\n",
       "      <th></th>\n",
       "    </tr>\n",
       "  </thead>\n",
       "  <tbody>\n",
       "    <tr>\n",
       "      <th>1</th>\n",
       "      <td>-0.068562</td>\n",
       "      <td>0.002994</td>\n",
       "      <td>-0.010591</td>\n",
       "      <td>0.012145</td>\n",
       "      <td>0.008820</td>\n",
       "      <td>0.002011</td>\n",
       "      <td>-0.041437</td>\n",
       "      <td>0.039725</td>\n",
       "      <td>-0.031434</td>\n",
       "    </tr>\n",
       "    <tr>\n",
       "      <th>2</th>\n",
       "      <td>-0.243478</td>\n",
       "      <td>0.103831</td>\n",
       "      <td>0.074176</td>\n",
       "      <td>0.194305</td>\n",
       "      <td>0.388878</td>\n",
       "      <td>0.046071</td>\n",
       "      <td>-0.266063</td>\n",
       "      <td>0.145920</td>\n",
       "      <td>-0.323661</td>\n",
       "    </tr>\n",
       "    <tr>\n",
       "      <th>4169</th>\n",
       "      <td>0.039151</td>\n",
       "      <td>0.036634</td>\n",
       "      <td>0.076910</td>\n",
       "      <td>0.178063</td>\n",
       "      <td>0.384434</td>\n",
       "      <td>0.068728</td>\n",
       "      <td>-0.416827</td>\n",
       "      <td>0.034244</td>\n",
       "      <td>-0.399349</td>\n",
       "    </tr>\n",
       "    <tr>\n",
       "      <th>1941</th>\n",
       "      <td>-0.031585</td>\n",
       "      <td>0.000362</td>\n",
       "      <td>0.088245</td>\n",
       "      <td>0.039670</td>\n",
       "      <td>0.256405</td>\n",
       "      <td>-0.053299</td>\n",
       "      <td>-0.050809</td>\n",
       "      <td>0.047792</td>\n",
       "      <td>-0.098456</td>\n",
       "    </tr>\n",
       "    <tr>\n",
       "      <th>1181</th>\n",
       "      <td>-0.140961</td>\n",
       "      <td>-0.028891</td>\n",
       "      <td>0.006018</td>\n",
       "      <td>-0.121063</td>\n",
       "      <td>-0.404535</td>\n",
       "      <td>-0.056991</td>\n",
       "      <td>0.392676</td>\n",
       "      <td>-0.012994</td>\n",
       "      <td>0.458352</td>\n",
       "    </tr>\n",
       "    <tr>\n",
       "      <th>889</th>\n",
       "      <td>-0.286132</td>\n",
       "      <td>0.007774</td>\n",
       "      <td>0.072157</td>\n",
       "      <td>-0.079870</td>\n",
       "      <td>-0.249998</td>\n",
       "      <td>0.057094</td>\n",
       "      <td>0.253419</td>\n",
       "      <td>-0.011039</td>\n",
       "      <td>0.243184</td>\n",
       "    </tr>\n",
       "    <tr>\n",
       "      <th>3618</th>\n",
       "      <td>0.114701</td>\n",
       "      <td>-0.017456</td>\n",
       "      <td>-0.010212</td>\n",
       "      <td>0.086075</td>\n",
       "      <td>0.237540</td>\n",
       "      <td>-0.010217</td>\n",
       "      <td>-0.294106</td>\n",
       "      <td>0.043329</td>\n",
       "      <td>-0.259254</td>\n",
       "    </tr>\n",
       "  </tbody>\n",
       "</table>\n",
       "</div>"
      ],
      "text/plain": [
       "movieid      2858      260       1196      1210      480       2028      589   \\\n",
       "userid                                                                          \n",
       "1       -0.068562  0.002994 -0.010591  0.012145  0.008820  0.002011 -0.041437   \n",
       "2       -0.243478  0.103831  0.074176  0.194305  0.388878  0.046071 -0.266063   \n",
       "4169     0.039151  0.036634  0.076910  0.178063  0.384434  0.068728 -0.416827   \n",
       "1941    -0.031585  0.000362  0.088245  0.039670  0.256405 -0.053299 -0.050809   \n",
       "1181    -0.140961 -0.028891  0.006018 -0.121063 -0.404535 -0.056991  0.392676   \n",
       "889     -0.286132  0.007774  0.072157 -0.079870 -0.249998  0.057094  0.253419   \n",
       "3618     0.114701 -0.017456 -0.010212  0.086075  0.237540 -0.010217 -0.294106   \n",
       "\n",
       "movieid      1270      2571  \n",
       "userid                       \n",
       "1        0.039725 -0.031434  \n",
       "2        0.145920 -0.323661  \n",
       "4169     0.034244 -0.399349  \n",
       "1941     0.047792 -0.098456  \n",
       "1181    -0.012994  0.458352  \n",
       "889     -0.011039  0.243184  \n",
       "3618     0.043329 -0.259254  "
      ]
     },
     "execution_count": 30,
     "metadata": {},
     "output_type": "execute_result"
    }
   ],
   "source": [
    "t.reset_index().set_index('userid')"
   ]
  },
  {
   "cell_type": "code",
   "execution_count": 22,
   "metadata": {},
   "outputs": [],
   "source": [
    "pm = dataset._make_prefmatrix()"
   ]
  },
  {
   "cell_type": "code",
   "execution_count": 23,
   "metadata": {},
   "outputs": [],
   "source": [
    "s = cosine_similarity(pm)\n",
    "np.fill_diagonal(s, 0)"
   ]
  },
  {
   "cell_type": "code",
   "execution_count": 30,
   "metadata": {},
   "outputs": [
    {
     "data": {
      "text/plain": [
       "0.035648532729832816"
      ]
     },
     "execution_count": 30,
     "metadata": {},
     "output_type": "execute_result"
    }
   ],
   "source": [
    "s.std()"
   ]
  },
  {
   "cell_type": "code",
   "execution_count": 11,
   "metadata": {},
   "outputs": [],
   "source": [
    "w = abs(s).sum(axis=0).reshape(-1, 1)"
   ]
  },
  {
   "cell_type": "code",
   "execution_count": 12,
   "metadata": {},
   "outputs": [],
   "source": [
    "preds = s.dot(pm)"
   ]
  },
  {
   "cell_type": "code",
   "execution_count": 15,
   "metadata": {},
   "outputs": [
    {
     "data": {
      "text/plain": [
       "(4832, 3883)"
      ]
     },
     "execution_count": 15,
     "metadata": {},
     "output_type": "execute_result"
    }
   ],
   "source": [
    "(preds / w).shape"
   ]
  },
  {
   "cell_type": "code",
   "execution_count": 16,
   "metadata": {},
   "outputs": [
    {
     "data": {
      "text/plain": [
       "(4832, 3883)"
      ]
     },
     "execution_count": 16,
     "metadata": {},
     "output_type": "execute_result"
    }
   ],
   "source": [
    "preds.shape"
   ]
  },
  {
   "cell_type": "code",
   "execution_count": 17,
   "metadata": {},
   "outputs": [
    {
     "data": {
      "text/plain": [
       "(4832, 3883)"
      ]
     },
     "execution_count": 17,
     "metadata": {},
     "output_type": "execute_result"
    }
   ],
   "source": [
    "pm.shape"
   ]
  },
  {
   "cell_type": "code",
   "execution_count": 17,
   "metadata": {},
   "outputs": [],
   "source": [
    "from scipy.optimize import minimize"
   ]
  },
  {
   "cell_type": "code",
   "execution_count": 22,
   "metadata": {},
   "outputs": [],
   "source": [
    "def f(a, b):\n",
    "    def func(x):\n",
    "        return a*x + b\n",
    "    return func\n",
    "\n",
    "def loss(params, X=x, y=y):\n",
    "    a, b = params\n",
    "    return ((f(a,b)(X) - y)**2).mean()\n",
    "    "
   ]
  },
  {
   "cell_type": "code",
   "execution_count": null,
   "metadata": {},
   "outputs": [],
   "source": []
  },
  {
   "cell_type": "code",
   "execution_count": 20,
   "metadata": {},
   "outputs": [],
   "source": [
    "x, y = np.array([1, 2, 3, 4]), np.array([3, 5, 7, 9])"
   ]
  },
  {
   "cell_type": "code",
   "execution_count": 25,
   "metadata": {},
   "outputs": [
    {
     "data": {
      "text/plain": [
       "0.0"
      ]
     },
     "execution_count": 25,
     "metadata": {},
     "output_type": "execute_result"
    }
   ],
   "source": [
    "loss((2, 1), x, y)"
   ]
  },
  {
   "cell_type": "code",
   "execution_count": 23,
   "metadata": {},
   "outputs": [
    {
     "data": {
      "text/plain": [
       "array([2.00000046, 1.00000015])"
      ]
     },
     "execution_count": 23,
     "metadata": {},
     "output_type": "execute_result"
    }
   ],
   "source": [
    "minimize(loss, x0 = [0, 0])['x']"
   ]
  },
  {
   "cell_type": "code",
   "execution_count": 31,
   "metadata": {},
   "outputs": [
    {
     "data": {
      "text/plain": [
       "      fun: 1.964025539998162e-12\n",
       " hess_inv: array([[ 0.39995421, -1.00000735],\n",
       "       [-1.00000735,  2.99999882]])\n",
       "      jac: array([7.78078828e-06, 2.61995017e-06])\n",
       "  message: 'Optimization terminated successfully.'\n",
       "     nfev: 20\n",
       "      nit: 4\n",
       "     njev: 5\n",
       "   status: 0\n",
       "  success: True\n",
       "        x: array([2.00000046, 1.00000015])"
      ]
     },
     "execution_count": 31,
     "metadata": {},
     "output_type": "execute_result"
    }
   ],
   "source": [
    "minimize(loss, x0 = [0, 0])"
   ]
  },
  {
   "cell_type": "code",
   "execution_count": 8,
   "metadata": {},
   "outputs": [],
   "source": [
    "x = np.array([[1, 2, 0], [4, 0, 0], [5, 0, -1]])\n",
    "y = np.array([[1, 2, 3], [4, 0, 1], [5, 2, -1]])\n",
    "p = np.array([[0.5, 0.5, 2.5], [3.5, 0.5, 1.5], [5, 1.5, -1]])"
   ]
  },
  {
   "cell_type": "code",
   "execution_count": 11,
   "metadata": {},
   "outputs": [
    {
     "data": {
      "text/plain": [
       "array([3, 1, 2])"
      ]
     },
     "execution_count": 11,
     "metadata": {},
     "output_type": "execute_result"
    }
   ],
   "source": [
    "y[(x != y) & (y != 0)]"
   ]
  },
  {
   "cell_type": "code",
   "execution_count": 12,
   "metadata": {},
   "outputs": [
    {
     "data": {
      "text/plain": [
       "array([2.5, 1.5, 1.5])"
      ]
     },
     "execution_count": 12,
     "metadata": {},
     "output_type": "execute_result"
    }
   ],
   "source": [
    "p[(x != y) & (y != 0)]"
   ]
  },
  {
   "cell_type": "code",
   "execution_count": 13,
   "metadata": {},
   "outputs": [],
   "source": [
    "idx = (x != y) & (y != 0)"
   ]
  },
  {
   "cell_type": "code",
   "execution_count": 16,
   "metadata": {},
   "outputs": [
    {
     "data": {
      "text/plain": [
       "0.25"
      ]
     },
     "execution_count": 16,
     "metadata": {},
     "output_type": "execute_result"
    }
   ],
   "source": [
    "((y[idx] - p[idx])**2).mean()"
   ]
  },
  {
   "cell_type": "code",
   "execution_count": 24,
   "metadata": {},
   "outputs": [],
   "source": [
    "g = dataset.generate()"
   ]
  },
  {
   "cell_type": "code",
   "execution_count": 26,
   "metadata": {},
   "outputs": [],
   "source": [
    "(X, y), z = next(g)"
   ]
  },
  {
   "cell_type": "code",
   "execution_count": 27,
   "metadata": {},
   "outputs": [
    {
     "data": {
      "text/plain": [
       "array([[0.        , 0.        , 0.        , ..., 0.        , 0.        ,\n",
       "        0.        ],\n",
       "       [0.0823234 , 0.        , 0.        , ..., 0.        , 0.        ,\n",
       "        0.        ],\n",
       "       [0.        , 0.        , 0.        , ..., 0.        , 0.        ,\n",
       "        0.14540313],\n",
       "       ...,\n",
       "       [0.        , 0.        , 0.        , ..., 0.        , 0.        ,\n",
       "        0.        ],\n",
       "       [0.        , 0.        , 0.10922752, ..., 0.        , 0.        ,\n",
       "        0.        ],\n",
       "       [0.        , 0.        , 0.        , ..., 0.        , 0.        ,\n",
       "        0.        ]])"
      ]
     },
     "execution_count": 27,
     "metadata": {},
     "output_type": "execute_result"
    }
   ],
   "source": [
    "X"
   ]
  },
  {
   "cell_type": "code",
   "execution_count": 28,
   "metadata": {},
   "outputs": [
    {
     "data": {
      "text/plain": [
       "array([[0.        , 0.        , 0.        , ..., 0.        , 0.        ,\n",
       "        0.        ],\n",
       "       [0.0823234 , 0.        , 0.        , ..., 0.        , 0.        ,\n",
       "        0.        ],\n",
       "       [0.        , 0.        , 0.        , ..., 0.        , 0.        ,\n",
       "        0.14540313],\n",
       "       ...,\n",
       "       [0.        , 0.        , 0.        , ..., 0.        , 0.        ,\n",
       "        0.        ],\n",
       "       [0.        , 0.28106607, 0.10922752, ..., 0.        , 0.        ,\n",
       "        0.        ],\n",
       "       [0.        , 0.        , 0.        , ..., 0.        , 0.        ,\n",
       "        0.        ]])"
      ]
     },
     "execution_count": 28,
     "metadata": {},
     "output_type": "execute_result"
    }
   ],
   "source": [
    "y"
   ]
  },
  {
   "cell_type": "code",
   "execution_count": 32,
   "metadata": {},
   "outputs": [
    {
     "data": {
      "text/plain": [
       "(64, 3883)"
      ]
     },
     "execution_count": 32,
     "metadata": {},
     "output_type": "execute_result"
    }
   ],
   "source": [
    "X.shape"
   ]
  },
  {
   "cell_type": "code",
   "execution_count": 34,
   "metadata": {},
   "outputs": [
    {
     "data": {
      "text/plain": [
       "(3883,)"
      ]
     },
     "execution_count": 34,
     "metadata": {},
     "output_type": "execute_result"
    }
   ],
   "source": [
    "X.mean(axis=0).shape"
   ]
  },
  {
   "cell_type": "code",
   "execution_count": 35,
   "metadata": {},
   "outputs": [
    {
     "data": {
      "text/plain": [
       "array([4.5, 5.5, 6.5])"
      ]
     },
     "execution_count": 35,
     "metadata": {},
     "output_type": "execute_result"
    }
   ],
   "source": [
    "np.array([[0, 1, 2], [3, 4, 5], [6, 7, 8], [9, 10, 11]]).mean(axis=0)"
   ]
  },
  {
   "cell_type": "code",
   "execution_count": null,
   "metadata": {},
   "outputs": [],
   "source": []
  }
 ],
 "metadata": {
  "kernelspec": {
   "display_name": "Python 3",
   "language": "python",
   "name": "python3"
  },
  "language_info": {
   "codemirror_mode": {
    "name": "ipython",
    "version": 3
   },
   "file_extension": ".py",
   "mimetype": "text/x-python",
   "name": "python",
   "nbconvert_exporter": "python",
   "pygments_lexer": "ipython3",
   "version": "3.6.0"
  }
 },
 "nbformat": 4,
 "nbformat_minor": 2
}
