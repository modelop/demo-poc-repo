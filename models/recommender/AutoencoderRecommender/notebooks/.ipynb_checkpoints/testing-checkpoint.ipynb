{
 "cells": [
  {
   "cell_type": "code",
   "execution_count": 1,
   "metadata": {},
   "outputs": [],
   "source": [
    "DATA_PATH = '../../../Toys/Recommender/ml-20m/' # '../../../Toys/Recommender/Bake-off/' # \n",
    "MOVIES_CSV = DATA_PATH + 'movies.csv' # 'bakeoff_movies.csv' #\n",
    "USERS_CSV = DATA_PATH + 'users.csv' #'bakeoff_train_users.csv' # \n",
    "RATINGS_CSV = DATA_PATH + 'ratings.csv' # 'bakeoff_train_ratings.csv' #"
   ]
  },
  {
   "cell_type": "code",
   "execution_count": 2,
   "metadata": {},
   "outputs": [
    {
     "name": "stderr",
     "output_type": "stream",
     "text": [
      "/home/matthew/anaconda2/envs/python3/lib/python3.6/site-packages/h5py/__init__.py:34: FutureWarning: Conversion of the second argument of issubdtype from `float` to `np.floating` is deprecated. In future, it will be treated as `np.float64 == np.dtype(float).type`.\n",
      "  from ._conv import register_converters as _register_converters\n",
      "Using TensorFlow backend.\n"
     ]
    }
   ],
   "source": [
    "from autorecommender.data import Dataset, ratings_matrix_to_list\n",
    "from autorecommender.model import Autorecommender, load_model"
   ]
  },
  {
   "cell_type": "code",
   "execution_count": 3,
   "metadata": {},
   "outputs": [],
   "source": [
    "import pandas as pd\n",
    "import numpy as np\n",
    "import math"
   ]
  },
  {
   "cell_type": "code",
   "execution_count": 4,
   "metadata": {},
   "outputs": [],
   "source": [
    "# USERS = pd.read_csv(USERS_CSV).set_index('userId').sort_index()\n",
    "rating_counts = pd.read_csv(DATA_PATH + 'rating_counts.csv')\n",
    "RATINGS = pd.read_csv(RATINGS_CSV)\n",
    "\n",
    "movie_bucket = rating_counts[rating_counts['num_of_ratings'] > rating_counts['num_of_ratings'].mean()]['movieId']\n",
    "RATINGS = RATINGS[RATINGS['movieId'].isin(movie_bucket)]\n",
    "RATINGS = RATINGS.set_index(['userId', 'movieId']).sort_index()[['rating']]\n",
    "\n",
    "MOVIES = pd.read_csv(MOVIES_CSV)\n",
    "MOVIES = MOVIES[MOVIES['movieId'].isin(movie_bucket)]\n",
    "MOVIES = MOVIES.set_index('movieId').sort_index()\n",
    "\n",
    "USERS = pd.DataFrame({'userId': pd.read_csv(RATINGS_CSV)['userId'].unique()}).set_index('userId')"
   ]
  },
  {
   "cell_type": "code",
   "execution_count": 5,
   "metadata": {},
   "outputs": [],
   "source": [
    "dataset = Dataset(MOVIES, USERS, RATINGS, userid='userId', itemid='movieId', ratingid='rating')"
   ]
  },
  {
   "cell_type": "code",
   "execution_count": 6,
   "metadata": {},
   "outputs": [
    {
     "data": {
      "text/plain": [
       "-1.0"
      ]
     },
     "execution_count": 6,
     "metadata": {},
     "output_type": "execute_result"
    }
   ],
   "source": [
    "dataset.preferences.min()"
   ]
  },
  {
   "cell_type": "code",
   "execution_count": 7,
   "metadata": {},
   "outputs": [
    {
     "data": {
      "text/plain": [
       "3696"
      ]
     },
     "execution_count": 7,
     "metadata": {},
     "output_type": "execute_result"
    }
   ],
   "source": [
    "len(dataset.items)"
   ]
  },
  {
   "cell_type": "code",
   "execution_count": 8,
   "metadata": {},
   "outputs": [],
   "source": [
    "train_dataset, test_dataset = dataset.train_test_split(frac=0.9)\n",
    "\n",
    "del dataset"
   ]
  },
  {
   "cell_type": "code",
   "execution_count": 9,
   "metadata": {},
   "outputs": [],
   "source": [
    "model = Autorecommender(item_count=len(train_dataset.items))"
   ]
  },
  {
   "cell_type": "code",
   "execution_count": 10,
   "metadata": {},
   "outputs": [
    {
     "name": "stderr",
     "output_type": "stream",
     "text": [
      "/home/matthew/anaconda2/envs/python3/lib/python3.6/site-packages/tensorflow/python/ops/gradients_impl.py:108: UserWarning: Converting sparse IndexedSlices to a dense Tensor of unknown shape. This may consume a large amount of memory.\n",
      "  \"Converting sparse IndexedSlices to a dense Tensor of unknown shape. \"\n"
     ]
    },
    {
     "name": "stdout",
     "output_type": "stream",
     "text": [
      "Epoch 1/1\n",
      "1947/1947 [==============================] - 3802s 2s/step - loss: 0.0274 - val_loss: 0.0270\n"
     ]
    },
    {
     "data": {
      "text/plain": [
       "<keras.callbacks.History at 0x7f1586dfc358>"
      ]
     },
     "execution_count": 10,
     "metadata": {},
     "output_type": "execute_result"
    }
   ],
   "source": [
    "model.fit(train_dataset, batch_size=64, epochs=1, validation_data=test_dataset, patience=0)"
   ]
  },
  {
   "cell_type": "code",
   "execution_count": 11,
   "metadata": {},
   "outputs": [],
   "source": [
    "model.save('model.zip')"
   ]
  },
  {
   "cell_type": "code",
   "execution_count": null,
   "metadata": {},
   "outputs": [],
   "source": [
    "model = load_model('model.zip')"
   ]
  },
  {
   "cell_type": "code",
   "execution_count": 12,
   "metadata": {},
   "outputs": [],
   "source": [
    "val_ratings = test_dataset.ratings"
   ]
  },
  {
   "cell_type": "code",
   "execution_count": 13,
   "metadata": {},
   "outputs": [
    {
     "data": {
      "text/html": [
       "<div>\n",
       "<style scoped>\n",
       "    .dataframe tbody tr th:only-of-type {\n",
       "        vertical-align: middle;\n",
       "    }\n",
       "\n",
       "    .dataframe tbody tr th {\n",
       "        vertical-align: top;\n",
       "    }\n",
       "\n",
       "    .dataframe thead th {\n",
       "        text-align: right;\n",
       "    }\n",
       "</style>\n",
       "<table border=\"1\" class=\"dataframe\">\n",
       "  <thead>\n",
       "    <tr style=\"text-align: right;\">\n",
       "      <th></th>\n",
       "      <th></th>\n",
       "      <th>rating</th>\n",
       "    </tr>\n",
       "    <tr>\n",
       "      <th>userId</th>\n",
       "      <th>movieId</th>\n",
       "      <th></th>\n",
       "    </tr>\n",
       "  </thead>\n",
       "  <tbody>\n",
       "    <tr>\n",
       "      <th rowspan=\"5\" valign=\"top\">6</th>\n",
       "      <th>1</th>\n",
       "      <td>5.0</td>\n",
       "    </tr>\n",
       "    <tr>\n",
       "      <th>3</th>\n",
       "      <td>3.0</td>\n",
       "    </tr>\n",
       "    <tr>\n",
       "      <th>7</th>\n",
       "      <td>5.0</td>\n",
       "    </tr>\n",
       "    <tr>\n",
       "      <th>17</th>\n",
       "      <td>5.0</td>\n",
       "    </tr>\n",
       "    <tr>\n",
       "      <th>52</th>\n",
       "      <td>5.0</td>\n",
       "    </tr>\n",
       "  </tbody>\n",
       "</table>\n",
       "</div>"
      ],
      "text/plain": [
       "                rating\n",
       "userId movieId        \n",
       "6      1           5.0\n",
       "       3           3.0\n",
       "       7           5.0\n",
       "       17          5.0\n",
       "       52          5.0"
      ]
     },
     "execution_count": 13,
     "metadata": {},
     "output_type": "execute_result"
    }
   ],
   "source": [
    "val_ratings.head()"
   ]
  },
  {
   "cell_type": "code",
   "execution_count": 14,
   "metadata": {},
   "outputs": [],
   "source": [
    "val_ratings_x = val_ratings.groupby(level=0).apply(lambda x: x.sample(frac=0.8)).reset_index(level=0, drop=True)"
   ]
  },
  {
   "cell_type": "code",
   "execution_count": 15,
   "metadata": {},
   "outputs": [
    {
     "data": {
      "text/plain": [
       "0.8000550776403866"
      ]
     },
     "execution_count": 15,
     "metadata": {},
     "output_type": "execute_result"
    }
   ],
   "source": [
    "len(val_ratings_x)/len(val_ratings)"
   ]
  },
  {
   "cell_type": "code",
   "execution_count": 16,
   "metadata": {},
   "outputs": [
    {
     "data": {
      "text/html": [
       "<div>\n",
       "<style scoped>\n",
       "    .dataframe tbody tr th:only-of-type {\n",
       "        vertical-align: middle;\n",
       "    }\n",
       "\n",
       "    .dataframe tbody tr th {\n",
       "        vertical-align: top;\n",
       "    }\n",
       "\n",
       "    .dataframe thead th {\n",
       "        text-align: right;\n",
       "    }\n",
       "</style>\n",
       "<table border=\"1\" class=\"dataframe\">\n",
       "  <thead>\n",
       "    <tr style=\"text-align: right;\">\n",
       "      <th></th>\n",
       "      <th></th>\n",
       "      <th>rating</th>\n",
       "    </tr>\n",
       "    <tr>\n",
       "      <th>userId</th>\n",
       "      <th>movieId</th>\n",
       "      <th></th>\n",
       "    </tr>\n",
       "  </thead>\n",
       "  <tbody>\n",
       "    <tr>\n",
       "      <th rowspan=\"5\" valign=\"top\">6</th>\n",
       "      <th>260</th>\n",
       "      <td>4.0</td>\n",
       "    </tr>\n",
       "    <tr>\n",
       "      <th>648</th>\n",
       "      <td>5.0</td>\n",
       "    </tr>\n",
       "    <tr>\n",
       "      <th>736</th>\n",
       "      <td>2.0</td>\n",
       "    </tr>\n",
       "    <tr>\n",
       "      <th>733</th>\n",
       "      <td>3.0</td>\n",
       "    </tr>\n",
       "    <tr>\n",
       "      <th>743</th>\n",
       "      <td>3.0</td>\n",
       "    </tr>\n",
       "  </tbody>\n",
       "</table>\n",
       "</div>"
      ],
      "text/plain": [
       "                rating\n",
       "userId movieId        \n",
       "6      260         4.0\n",
       "       648         5.0\n",
       "       736         2.0\n",
       "       733         3.0\n",
       "       743         3.0"
      ]
     },
     "execution_count": 16,
     "metadata": {},
     "output_type": "execute_result"
    }
   ],
   "source": [
    "val_ratings_x.head()"
   ]
  },
  {
   "cell_type": "code",
   "execution_count": 17,
   "metadata": {},
   "outputs": [],
   "source": [
    "val_idx_X = val_ratings_x.index\n",
    "val_idx_y = val_ratings.index\n",
    "val_idx = val_idx_y.difference(val_idx_X)\n",
    "\n",
    "val_masked_ratings = val_ratings.loc[val_idx]"
   ]
  },
  {
   "cell_type": "code",
   "execution_count": 18,
   "metadata": {},
   "outputs": [
    {
     "name": "stdout",
     "output_type": "stream",
     "text": [
      "Bake-off RMSE is: 0.8543093221012416, MAE is: 0.654712543112198\n"
     ]
    }
   ],
   "source": [
    "val_predictions = model.predict(val_ratings_x)\n",
    "\n",
    "val_model_ratings = ratings_matrix_to_list(val_predictions).loc[val_idx]\n",
    "VAL_MSE = ((val_masked_ratings - val_model_ratings)**2).mean()['rating']\n",
    "VAL_MAE = (abs(val_masked_ratings - val_model_ratings)).mean()['rating']\n",
    "VAL_RMSE = math.sqrt(VAL_MSE)\n",
    "\n",
    "print('Bake-off RMSE is: {}, MAE is: {}'.format(VAL_RMSE, VAL_MAE))"
   ]
  },
  {
   "cell_type": "code",
   "execution_count": 19,
   "metadata": {},
   "outputs": [
    {
     "name": "stdout",
     "output_type": "stream",
     "text": [
      "Bake-off RMSE is: 0.8647882993920402, MAE is: 0.6574969401870406\n"
     ]
    }
   ],
   "source": [
    "val_predictions = model.predict(val_ratings_x, null=True)\n",
    "\n",
    "val_model_ratings = ratings_matrix_to_list(val_predictions).loc[val_idx]\n",
    "VAL_MSE = ((val_masked_ratings - val_model_ratings)**2).mean()['rating']\n",
    "VAL_MAE = (abs(val_masked_ratings - val_model_ratings)).mean()['rating']\n",
    "VAL_RMSE = math.sqrt(VAL_MSE)\n",
    "\n",
    "print('Bake-off RMSE is: {}, MAE is: {}'.format(VAL_RMSE, VAL_MAE))"
   ]
  },
  {
   "cell_type": "code",
   "execution_count": null,
   "metadata": {},
   "outputs": [],
   "source": [
    "# model = load_model('model.zip')"
   ]
  },
  {
   "cell_type": "code",
   "execution_count": null,
   "metadata": {},
   "outputs": [],
   "source": [
    "VAL_RATINGS = pd.read_csv(DATA_PATH + 'SECRET_bakeoff_validation_ratings.csv').set_index(['userid', 'movieid']).sort_index()[['rating']]\n",
    "VAL_RATINGS_X = pd.read_csv(DATA_PATH + 'bakeoff_validation_ratings.csv').set_index(['userid', 'movieid']).sort_index()[['rating']]\n",
    "\n",
    "val_idx_X = VAL_RATINGS_X.index\n",
    "val_idx_y = VAL_RATINGS.index\n",
    "val_idx = val_idx_y.difference(val_idx_X)\n",
    "\n",
    "val_masked_ratings = VAL_RATINGS.loc[val_idx]"
   ]
  },
  {
   "cell_type": "code",
   "execution_count": null,
   "metadata": {},
   "outputs": [],
   "source": [
    "val_predictions = model.predict(VAL_RATINGS_X)\n",
    "\n",
    "val_model_ratings = ratings_matrix_to_list(val_predictions).loc[val_idx]\n",
    "VAL_MSE = ((val_masked_ratings - val_model_ratings)**2).mean()['rating']\n",
    "VAL_MAE = (abs(val_masked_ratings - val_model_ratings)).mean()['rating']\n",
    "VAL_RMSE = math.sqrt(VAL_MSE)\n",
    "\n",
    "print('Bake-off RMSE is: {}, MAE is: {}'.format(VAL_RMSE, VAL_MAE))"
   ]
  },
  {
   "cell_type": "code",
   "execution_count": null,
   "metadata": {},
   "outputs": [],
   "source": [
    "val_predictions.loc[[3032, 4486, 5420]][[1470]]"
   ]
  },
  {
   "cell_type": "code",
   "execution_count": null,
   "metadata": {},
   "outputs": [],
   "source": [
    "val_null_predictions = model.predict(VAL_RATINGS_X, null=True)\n",
    "\n",
    "val_null_ratings = ratings_matrix_to_list(val_null_predictions).loc[val_idx]\n",
    "VAL_MSE = ((val_masked_ratings - val_null_ratings)**2).mean()['rating']\n",
    "VAL_MAE = (abs(val_masked_ratings - val_null_ratings)).mean()['rating']\n",
    "VAL_RMSE = math.sqrt(VAL_MSE)\n",
    "\n",
    "print('Bake-off RMSE is: {}, MAE is: {}'.format(VAL_RMSE, VAL_MAE))"
   ]
  },
  {
   "cell_type": "code",
   "execution_count": null,
   "metadata": {},
   "outputs": [],
   "source": [
    "MOVIES.head()"
   ]
  },
  {
   "cell_type": "code",
   "execution_count": null,
   "metadata": {},
   "outputs": [],
   "source": [
    "MOVIES.head()['genres'].str.split('|', expand=True).stack().str.get_dummies().groupby(level=0).sum()"
   ]
  },
  {
   "cell_type": "code",
   "execution_count": null,
   "metadata": {},
   "outputs": [],
   "source": [
    "rating_counts = RATINGS.groupby(level=1).count().sort_values('rating', ascending=False)"
   ]
  },
  {
   "cell_type": "code",
   "execution_count": null,
   "metadata": {},
   "outputs": [],
   "source": [
    "rating_counts.head()"
   ]
  },
  {
   "cell_type": "code",
   "execution_count": null,
   "metadata": {},
   "outputs": [],
   "source": [
    "MOVIES.loc[296]"
   ]
  },
  {
   "cell_type": "code",
   "execution_count": null,
   "metadata": {},
   "outputs": [],
   "source": [
    "MOVIES.loc[356]"
   ]
  },
  {
   "cell_type": "code",
   "execution_count": null,
   "metadata": {},
   "outputs": [],
   "source": [
    "rating_counts.mean()"
   ]
  },
  {
   "cell_type": "code",
   "execution_count": null,
   "metadata": {},
   "outputs": [],
   "source": [
    "rating_counts.median()"
   ]
  },
  {
   "cell_type": "code",
   "execution_count": null,
   "metadata": {},
   "outputs": [],
   "source": [
    "rating_counts[rating_counts > 747].count()"
   ]
  },
  {
   "cell_type": "code",
   "execution_count": null,
   "metadata": {},
   "outputs": [],
   "source": [
    "rating_counts.columns = ['num_of_ratings']"
   ]
  },
  {
   "cell_type": "code",
   "execution_count": null,
   "metadata": {},
   "outputs": [],
   "source": [
    "rating_counts.head()"
   ]
  },
  {
   "cell_type": "code",
   "execution_count": null,
   "metadata": {},
   "outputs": [],
   "source": [
    "rating_counts.to_csv(DATA_PATH + 'rating_counts.csv')"
   ]
  },
  {
   "cell_type": "code",
   "execution_count": null,
   "metadata": {},
   "outputs": [],
   "source": [
    "DATA_PATH"
   ]
  },
  {
   "cell_type": "code",
   "execution_count": null,
   "metadata": {},
   "outputs": [],
   "source": [
    "rating_counts2 = pd.read_csv(DATA_PATH + 'rating_counts.csv')"
   ]
  },
  {
   "cell_type": "code",
   "execution_count": null,
   "metadata": {},
   "outputs": [],
   "source": [
    "rating_counts2.head()"
   ]
  },
  {
   "cell_type": "code",
   "execution_count": null,
   "metadata": {},
   "outputs": [],
   "source": []
  }
 ],
 "metadata": {
  "kernelspec": {
   "display_name": "Python 3",
   "language": "python",
   "name": "python3"
  },
  "language_info": {
   "codemirror_mode": {
    "name": "ipython",
    "version": 3
   },
   "file_extension": ".py",
   "mimetype": "text/x-python",
   "name": "python",
   "nbconvert_exporter": "python",
   "pygments_lexer": "ipython3",
   "version": "3.6.0"
  }
 },
 "nbformat": 4,
 "nbformat_minor": 2
}
