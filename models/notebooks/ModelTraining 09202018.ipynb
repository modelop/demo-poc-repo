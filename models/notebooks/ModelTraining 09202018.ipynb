{
 "cells": [
  {
   "cell_type": "markdown",
   "metadata": {
    "inputHidden": false,
    "outputHidden": false
   },
   "source": [
    "```\n",
    "pip3 install .\n",
    "```\n",
    "\n",
    "from within the Autorecommender folder.\n",
    "\n",
    "Requirements:\n",
    "\n",
    "-        \"Keras >= 2.1.3\",\n",
    "-        \"pandas >= 0.23.0\",\n",
    "-        \"numpy >= 1.14.2\",\n",
    "-        \"tensorflow >= 1.4.0\",\n",
    "-        \"scipy >= 1.1.0\""
   ]
  },
  {
   "cell_type": "code",
   "execution_count": 1,
   "metadata": {
    "inputHidden": false,
    "outputHidden": false
   },
   "outputs": [
    {
     "name": "stdout",
     "output_type": "stream",
     "text": [
      "/home/jovyan/work/POC/models/notebooks\n"
     ]
    }
   ],
   "source": [
    "import os\n",
    "print(os.getcwd())"
   ]
  },
  {
   "cell_type": "markdown",
   "metadata": {
    "inputHidden": false,
    "outputHidden": false
   },
   "source": [
    "# Model training"
   ]
  },
  {
   "cell_type": "code",
   "execution_count": 2,
   "metadata": {},
   "outputs": [],
   "source": [
    "DATA_PATH = '/home/jovyan/work/POC/models/data/'\n",
    "STOCKS_CSV = DATA_PATH + 'stocks.csv'\n",
    "USERS_CSV = DATA_PATH + 'train_users.csv'\n",
    "RATINGS_CSV = DATA_PATH + 'train_ratings.csv'"
   ]
  },
  {
   "cell_type": "code",
   "execution_count": 3,
   "metadata": {
    "inputHidden": false,
    "outputHidden": false
   },
   "outputs": [],
   "source": [
    "import pandas as pd\n",
    "import numpy as np\n",
    "import math"
   ]
  },
  {
   "cell_type": "code",
   "execution_count": 4,
   "metadata": {
    "inputHidden": false,
    "outputHidden": false
   },
   "outputs": [],
   "source": [
    "RATINGS = pd.read_csv(RATINGS_CSV)\n",
    "RATINGS = RATINGS.set_index(['userid', 'stockid'])\n",
    "\n",
    "STOCKS = pd.read_csv(STOCKS_CSV)\n",
    "STOCKS = STOCKS.set_index('stockid').sort_index()\n",
    "\n",
    "STOCKS_TICKER_LOOKUP = STOCKS.reset_index().set_index('ticker')\n",
    "\n",
    "USERS = pd.read_csv(USERS_CSV).set_index('userid')"
   ]
  },
  {
   "cell_type": "markdown",
   "metadata": {
    "inputHidden": false,
    "outputHidden": false
   },
   "source": [
    "Use the model"
   ]
  },
  {
   "cell_type": "code",
   "execution_count": 5,
   "metadata": {},
   "outputs": [
    {
     "name": "stdout",
     "output_type": "stream",
     "text": [
      "/home/jovyan/work/POC/models/recommender/AutoRecommender/autorecommender/models\n"
     ]
    }
   ],
   "source": [
    "cd /home/jovyan/work/POC/models/recommender/AutoRecommender/autorecommender/models"
   ]
  },
  {
   "cell_type": "code",
   "execution_count": 7,
   "metadata": {
    "inputHidden": false,
    "outputHidden": false
   },
   "outputs": [],
   "source": [
    "from data import Dataset, ratings_matrix_to_list\n",
    "from autoencoder import Autoencoder"
   ]
  },
  {
   "cell_type": "markdown",
   "metadata": {},
   "source": [
    "Create the dataset"
   ]
  },
  {
   "cell_type": "code",
   "execution_count": 8,
   "metadata": {
    "inputHidden": false,
    "outputHidden": false
   },
   "outputs": [],
   "source": [
    "dataset = Dataset(STOCKS, USERS, RATINGS, \n",
    "                  userid='userid', itemid='stockid', ratingid='rating')"
   ]
  },
  {
   "cell_type": "code",
   "execution_count": 9,
   "metadata": {
    "inputHidden": false,
    "outputHidden": false
   },
   "outputs": [
    {
     "data": {
      "text/plain": [
       "-1.0"
      ]
     },
     "execution_count": 9,
     "metadata": {},
     "output_type": "execute_result"
    }
   ],
   "source": [
    "dataset.preferences.min() # should be -1"
   ]
  },
  {
   "cell_type": "code",
   "execution_count": 10,
   "metadata": {
    "inputHidden": false,
    "outputHidden": false
   },
   "outputs": [],
   "source": [
    "model = Autoencoder(item_count=len(dataset.items))"
   ]
  },
  {
   "cell_type": "code",
   "execution_count": 11,
   "metadata": {
    "inputHidden": false,
    "outputHidden": false
   },
   "outputs": [
    {
     "name": "stderr",
     "output_type": "stream",
     "text": [
      "/opt/conda/lib/python3.6/site-packages/tensorflow/python/ops/gradients_impl.py:96: UserWarning: Converting sparse IndexedSlices to a dense Tensor of unknown shape. This may consume a large amount of memory.\n",
      "  \"Converting sparse IndexedSlices to a dense Tensor of unknown shape. \"\n"
     ]
    },
    {
     "name": "stdout",
     "output_type": "stream",
     "text": [
      "Epoch 1/10\n",
      "75/75 [==============================] - 8s 112ms/step - loss: 0.0334\n",
      "Epoch 2/10\n",
      "75/75 [==============================] - 8s 111ms/step - loss: 0.0332\n",
      "Epoch 3/10\n",
      "75/75 [==============================] - 8s 105ms/step - loss: 0.0333\n",
      "Epoch 4/10\n",
      "75/75 [==============================] - 8s 107ms/step - loss: 0.0329\n",
      "Epoch 5/10\n",
      "75/75 [==============================] - 8s 105ms/step - loss: 0.0330\n",
      "Epoch 6/10\n",
      "75/75 [==============================] - 9s 116ms/step - loss: 0.0330\n",
      "Epoch 7/10\n",
      "75/75 [==============================] - 8s 103ms/step - loss: 0.0329\n",
      "Epoch 8/10\n",
      "75/75 [==============================] - 11s 142ms/step - loss: 0.0328\n",
      "Epoch 9/10\n",
      "75/75 [==============================] - 13s 170ms/step - loss: 0.0328\n",
      "Epoch 10/10\n",
      "75/75 [==============================] - 8s 107ms/step - loss: 0.0326\n"
     ]
    },
    {
     "data": {
      "text/plain": [
       "<keras.callbacks.History at 0x7faa06cd6c50>"
      ]
     },
     "execution_count": 11,
     "metadata": {},
     "output_type": "execute_result"
    }
   ],
   "source": [
    "model.fit(dataset, batch_size=64, epochs=10, patience=0)"
   ]
  },
  {
   "cell_type": "markdown",
   "metadata": {
    "inputHidden": false,
    "outputHidden": false
   },
   "source": [
    "Show what the model looks like"
   ]
  },
  {
   "cell_type": "code",
   "execution_count": 31,
   "metadata": {
    "inputHidden": false,
    "outputHidden": false
   },
   "outputs": [],
   "source": [
    "model.save('model.zip') # save the trained model\n",
    "\n",
    "# note: the model expects to get a zip file, so you can't just upload\n",
    "# model.zip as an attachment, you'll have to put it inside of \n",
    "# another archive\n",
    "# e.g. do tar czvf attachment.tar.gz model.zip"
   ]
  },
  {
   "cell_type": "code",
   "execution_count": 64,
   "metadata": {},
   "outputs": [],
   "source": [
    "cp /home/jovyan/work/POC/models/data/stocks.csv /home/jovyan/work/POC/models/recommender/AutoRecommender/autorecommender/models"
   ]
  },
  {
   "cell_type": "code",
   "execution_count": 66,
   "metadata": {},
   "outputs": [],
   "source": [
    "import tarfile\n",
    "with tarfile.open('attachment.tar.gz', \"w:gz\") as tar_handle:\n",
    "    tar_handle.add('model.zip')\n",
    "    tar_handle.add('stocks.csv')\n",
    "    \n",
    "    #add POC models recommender AutoRecommender\n"
   ]
  },
  {
   "cell_type": "code",
   "execution_count": 67,
   "metadata": {},
   "outputs": [
    {
     "name": "stdout",
     "output_type": "stream",
     "text": [
      "attachment                 \u001b[0m\u001b[01;34mbuild\u001b[0m/       item_based.py  stocks.csv\r\n",
      "attachment.tar.gz          data.py      model.zip\r\n",
      "autoencoder.py             \u001b[01;34mdist\u001b[0m/        \u001b[01;34m__pycache__\u001b[0m/\r\n",
      "\u001b[01;34mautorecommender.egg-info\u001b[0m/  __init__.py  setup.py\r\n"
     ]
    }
   ],
   "source": [
    "ls"
   ]
  },
  {
   "cell_type": "code",
   "execution_count": 72,
   "metadata": {},
   "outputs": [],
   "source": [
    "from fastscoredeploy.suite import Connect\n",
    "\n",
    "c = Connect('https://dashboard:8000')\n",
    "mm = c.lookup('model-manage')\n",
    "eng = c.lookup('engine')"
   ]
  },
  {
   "cell_type": "code",
   "execution_count": 74,
   "metadata": {},
   "outputs": [
    {
     "ename": "NameError",
     "evalue": "name 'encoder' is not defined",
     "output_type": "error",
     "traceback": [
      "\u001b[0;31m---------------------------------------------------------------------------\u001b[0m",
      "\u001b[0;31mNameError\u001b[0m                                 Traceback (most recent call last)",
      "\u001b[0;32m<ipython-input-74-071de73d594e>\u001b[0m in \u001b[0;36m<module>\u001b[0;34m()\u001b[0m\n\u001b[1;32m      2\u001b[0m \u001b[0;34m\u001b[0m\u001b[0m\n\u001b[1;32m      3\u001b[0m \u001b[0matt\u001b[0m \u001b[0;34m=\u001b[0m \u001b[0mAttachment\u001b[0m\u001b[0;34m(\u001b[0m\u001b[0;34m'att'\u001b[0m\u001b[0;34m,\u001b[0m \u001b[0mdatafile\u001b[0m\u001b[0;34m=\u001b[0m\u001b[0;34m'attachment.tar.gz'\u001b[0m\u001b[0;34m)\u001b[0m\u001b[0;34m\u001b[0m\u001b[0m\n\u001b[0;32m----> 4\u001b[0;31m \u001b[0matt\u001b[0m\u001b[0;34m.\u001b[0m\u001b[0mupload\u001b[0m\u001b[0;34m(\u001b[0m\u001b[0mencoder\u001b[0m\u001b[0;34m)\u001b[0m\u001b[0;34m\u001b[0m\u001b[0m\n\u001b[0m",
      "\u001b[0;31mNameError\u001b[0m: name 'encoder' is not defined"
     ]
    }
   ],
   "source": [
    "from fastscore.attachment import Attachment\n",
    "\n",
    "att = Attachment('att', datafile='attachment.tar.gz')\n",
    "att.upload(encoder)"
   ]
  },
  {
   "cell_type": "code",
   "execution_count": null,
   "metadata": {},
   "outputs": [],
   "source": []
  }
 ],
 "metadata": {
  "kernel_info": {
   "name": "python3"
  },
  "kernelspec": {
   "display_name": "Python 3",
   "language": "python",
   "name": "python3"
  },
  "language_info": {
   "codemirror_mode": {
    "name": "ipython",
    "version": 3
   },
   "file_extension": ".py",
   "mimetype": "text/x-python",
   "name": "python",
   "nbconvert_exporter": "python",
   "pygments_lexer": "ipython3",
   "version": "3.6.4"
  },
  "nteract": {
   "version": "0.11.6"
  }
 },
 "nbformat": 4,
 "nbformat_minor": 4
}
