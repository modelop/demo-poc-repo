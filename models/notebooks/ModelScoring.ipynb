{
  "cells": [
    {
      "cell_type": "markdown",
      "source": [
        "```\n",
        "pip3 install .\n",
        "```\n",
        "\n",
        "from within the Autorecommender folder.\n",
        "\n",
        "Requirements:\n",
        "\n",
        "-        \"Keras >= 2.1.3\",\n",
        "-        \"pandas >= 0.23.0\",\n",
        "-        \"numpy >= 1.14.2\",\n",
        "-        \"tensorflow >= 1.4.0\",\n",
        "-        \"scipy >= 1.1.0\""
      ],
      "metadata": {
        "collapsed": false,
        "outputHidden": false,
        "inputHidden": false
      }
    },
    {
      "cell_type": "code",
      "source": [
        "import os\n",
        "print(os.getcwd())"
      ],
      "outputs": [
        {
          "output_type": "stream",
          "name": "stdout",
          "text": [
            "/Users/mahowald/ODG/bofa-poc-repo/models/notebooks\n"
          ]
        }
      ],
      "execution_count": 1,
      "metadata": {
        "collapsed": false,
        "outputHidden": false,
        "inputHidden": false
      }
    },
    {
      "cell_type": "code",
      "source": [
        "import pandas as pd\n",
        "import numpy as np\n",
        "import math"
      ],
      "outputs": [
        {
          "output_type": "stream",
          "name": "stderr",
          "text": [
            "/Users/mahowald/anaconda2/envs/python3/lib/python3.6/importlib/_bootstrap.py:205: RuntimeWarning: numpy.dtype size changed, may indicate binary incompatibility. Expected 96, got 88\n",
            "  return f(*args, **kwds)\n"
          ]
        }
      ],
      "execution_count": 2,
      "metadata": {
        "collapsed": false,
        "outputHidden": false,
        "inputHidden": false
      }
    },
    {
      "cell_type": "code",
      "source": [
        "from autorecommender.models.autoencoder import load_model # need this to load the model"
      ],
      "outputs": [
        {
          "output_type": "stream",
          "name": "stderr",
          "text": [
            "/Users/mahowald/anaconda2/envs/python3/lib/python3.6/importlib/_bootstrap.py:205: RuntimeWarning: compiletime version 3.5 of module 'tensorflow.python.framework.fast_tensor_util' does not match runtime version 3.6\n",
            "  return f(*args, **kwds)\n",
            "/Users/mahowald/anaconda2/envs/python3/lib/python3.6/importlib/_bootstrap.py:205: RuntimeWarning: numpy.dtype size changed, may indicate binary incompatibility. Expected 96, got 88\n",
            "  return f(*args, **kwds)\n",
            "/Users/mahowald/anaconda2/envs/python3/lib/python3.6/site-packages/h5py/__init__.py:36: FutureWarning: Conversion of the second argument of issubdtype from `float` to `np.floating` is deprecated. In future, it will be treated as `np.float64 == np.dtype(float).type`.\n",
            "  from ._conv import register_converters as _register_converters\n",
            "/Users/mahowald/anaconda2/envs/python3/lib/python3.6/importlib/_bootstrap.py:205: RuntimeWarning: numpy.dtype size changed, may indicate binary incompatibility. Expected 96, got 88\n",
            "  return f(*args, **kwds)\n",
            "/Users/mahowald/anaconda2/envs/python3/lib/python3.6/importlib/_bootstrap.py:205: RuntimeWarning: numpy.dtype size changed, may indicate binary incompatibility. Expected 96, got 88\n",
            "  return f(*args, **kwds)\n",
            "Using TensorFlow backend.\n"
          ]
        }
      ],
      "execution_count": 3,
      "metadata": {
        "collapsed": false,
        "outputHidden": false,
        "inputHidden": false
      }
    },
    {
      "cell_type": "code",
      "source": [
        "DATA_PATH = '../data/'\n",
        "STOCKS_CSV = DATA_PATH + 'stocks.csv'\n",
        "USERS_CSV = DATA_PATH + 'train_users.csv'\n",
        "RATINGS_CSV = DATA_PATH + 'train_ratings.csv'"
      ],
      "outputs": [],
      "execution_count": 4,
      "metadata": {}
    },
    {
      "cell_type": "code",
      "source": [
        "RATINGS = pd.read_csv(RATINGS_CSV)\n",
        "RATINGS = RATINGS.set_index(['userid', 'stockid'])\n",
        "\n",
        "STOCKS = pd.read_csv(STOCKS_CSV)\n",
        "STOCKS = STOCKS.set_index('stockid').sort_index()\n",
        "\n",
        "STOCKS_TICKER_LOOKUP = STOCKS.reset_index().set_index('ticker')\n",
        "\nUSERS = pd.read_csv(USERS_CSV).set_index('userid')"
      ],
      "outputs": [],
      "execution_count": 5,
      "metadata": {
        "collapsed": false,
        "outputHidden": false,
        "inputHidden": false
      }
    },
    {
      "cell_type": "markdown",
      "source": [
        "How to make a prediction with the model"
      ],
      "metadata": {}
    },
    {
      "cell_type": "code",
      "source": [
        "def stockid_to_stockname(number):\n",
        "    x = STOCKS.loc[number]\n",
        "    return x['ticker']"
      ],
      "outputs": [],
      "execution_count": 6,
      "metadata": {
        "collapsed": false,
        "outputHidden": false,
        "inputHidden": false
      }
    },
    {
      "cell_type": "code",
      "source": [
        "# Avro input schema:\n",
        "{\n",
        "    \"type\": \"record\",\n",
        "    \"name\": \"ratings\",\n",
        "    \"fields\": [\n",
        "        {\"type\": \"string\", \"name\": \"userid\"},\n",
        "        {\"type\": {\"type\": \"map\", \"items\": \"double\"}} # probably - check map syntax\n",
        "    ]\n",
        "}\n",
        "\n",
        "# Avro output schema:\n",
        "{\"type\": \"array\", \"items\": \"string\"}\n",
        "\n",
        "# fastscore input looks like:\n",
        "# {'userid': 123, 'ratings': [{'AABA': 4}, {'AAL': 3}, {'AAON': 5}]}\n",
        "\n",
        "# fastscore output looks like:\n",
        "# ['AAA', 'BBB', 'CCC', 'DDD']\n"
      ],
      "outputs": [
        {
          "output_type": "execute_result",
          "execution_count": 7,
          "data": {
            "text/plain": [
              "{'fields': [{'name': 'userid', 'type': 'string'},\n",
              "  {'type': {'items': 'double', 'type': 'map'}}],\n",
              " 'name': 'ratings',\n",
              " 'type': 'record'}"
            ]
          },
          "metadata": {}
        }
      ],
      "execution_count": 7,
      "metadata": {
        "collapsed": false,
        "outputHidden": false,
        "inputHidden": false
      }
    },
    {
      "cell_type": "code",
      "source": [
        "# convert input to appropriate form for the model\n",
        "\n",
        "def df_from_fastscore(x):\n",
        "    userid = x['userid']\n",
        "    ratings_list = []\n",
        "    for r in x['ratings']:\n",
        "        key = list(r.keys())[0]\n",
        "        val = list(r.values())[0]\n",
        "        ratings_list.append({'userid': userid, \n",
        "                             'stockid': STOCKS_TICKER_LOOKUP.loc[key]['stockid'].iloc[0], \n",
        "                             'rating' : val})\n",
        "    return pd.DataFrame(ratings_list).set_index(['userid', 'stockid'])"
      ],
      "outputs": [],
      "execution_count": 8,
      "metadata": {
        "collapsed": false,
        "outputHidden": false,
        "inputHidden": false
      }
    },
    {
      "cell_type": "markdown",
      "source": [
        "This is a dataframe with a multiindex (userid, stockid) with a column named \"rating\" --> this is what the inputs FastScore receives need to be translated into."
      ],
      "metadata": {}
    },
    {
      "cell_type": "code",
      "source": [
        "trained_model = load_model('model.zip')"
      ],
      "outputs": [],
      "execution_count": 9,
      "metadata": {
        "collapsed": false,
        "outputHidden": false,
        "inputHidden": false
      }
    },
    {
      "cell_type": "code",
      "source": [
        "model_inputs = df_from_fastscore({'userid': 123,\n",
        "                                 'ratings': [\n",
        "                                     {'AABA': 4},\n",
        "                                     {'AAL': 3},\n",
        "                                     {'AAON': 5}\n",
        "                                 ]})"
      ],
      "outputs": [],
      "execution_count": 10,
      "metadata": {
        "collapsed": false,
        "outputHidden": false,
        "inputHidden": false
      }
    },
    {
      "cell_type": "code",
      "source": [
        "predictions = trained_model.predict(model_inputs)\n",
        "predictions"
      ],
      "outputs": [
        {
          "output_type": "execute_result",
          "execution_count": 11,
          "data": {
            "text/plain": [
              "stockid      1         2         3         4        5         6         7     \\\n",
              "userid                                                                         \n",
              "123      4.650565  3.759466  3.633219  3.335773  3.60591  4.391133  4.042272   \n",
              "\n",
              "stockid      8         9         10     ...         3943      3944      3945  \\\n",
              "userid                                  ...                                    \n",
              "123      3.673759  3.263567  4.058906   ...     3.592536  2.908781  2.117535   \n",
              "\n",
              "stockid      3946      3947      3948      3949      3950      3951     3952  \n",
              "userid                                                                        \n",
              "123      2.926465  4.129988  4.172725  4.719203  4.210388  4.632974  4.36407  \n",
              "\n[1 rows x 3883 columns]"
            ],
            "text/html": [
              "<div>\n",
              "<style scoped>\n",
              "    .dataframe tbody tr th:only-of-type {\n",
              "        vertical-align: middle;\n",
              "    }\n",
              "\n",
              "    .dataframe tbody tr th {\n",
              "        vertical-align: top;\n",
              "    }\n",
              "\n",
              "    .dataframe thead th {\n",
              "        text-align: right;\n",
              "    }\n",
              "</style>\n",
              "<table border=\"1\" class=\"dataframe\">\n",
              "  <thead>\n",
              "    <tr style=\"text-align: right;\">\n",
              "      <th>stockid</th>\n",
              "      <th>1</th>\n",
              "      <th>2</th>\n",
              "      <th>3</th>\n",
              "      <th>4</th>\n",
              "      <th>5</th>\n",
              "      <th>6</th>\n",
              "      <th>7</th>\n",
              "      <th>8</th>\n",
              "      <th>9</th>\n",
              "      <th>10</th>\n",
              "      <th>...</th>\n",
              "      <th>3943</th>\n",
              "      <th>3944</th>\n",
              "      <th>3945</th>\n",
              "      <th>3946</th>\n",
              "      <th>3947</th>\n",
              "      <th>3948</th>\n",
              "      <th>3949</th>\n",
              "      <th>3950</th>\n",
              "      <th>3951</th>\n",
              "      <th>3952</th>\n",
              "    </tr>\n",
              "    <tr>\n",
              "      <th>userid</th>\n",
              "      <th></th>\n",
              "      <th></th>\n",
              "      <th></th>\n",
              "      <th></th>\n",
              "      <th></th>\n",
              "      <th></th>\n",
              "      <th></th>\n",
              "      <th></th>\n",
              "      <th></th>\n",
              "      <th></th>\n",
              "      <th></th>\n",
              "      <th></th>\n",
              "      <th></th>\n",
              "      <th></th>\n",
              "      <th></th>\n",
              "      <th></th>\n",
              "      <th></th>\n",
              "      <th></th>\n",
              "      <th></th>\n",
              "      <th></th>\n",
              "      <th></th>\n",
              "    </tr>\n",
              "  </thead>\n",
              "  <tbody>\n",
              "    <tr>\n",
              "      <th>123</th>\n",
              "      <td>4.650565</td>\n",
              "      <td>3.759466</td>\n",
              "      <td>3.633219</td>\n",
              "      <td>3.335773</td>\n",
              "      <td>3.60591</td>\n",
              "      <td>4.391133</td>\n",
              "      <td>4.042272</td>\n",
              "      <td>3.673759</td>\n",
              "      <td>3.263567</td>\n",
              "      <td>4.058906</td>\n",
              "      <td>...</td>\n",
              "      <td>3.592536</td>\n",
              "      <td>2.908781</td>\n",
              "      <td>2.117535</td>\n",
              "      <td>2.926465</td>\n",
              "      <td>4.129988</td>\n",
              "      <td>4.172725</td>\n",
              "      <td>4.719203</td>\n",
              "      <td>4.210388</td>\n",
              "      <td>4.632974</td>\n",
              "      <td>4.36407</td>\n",
              "    </tr>\n",
              "  </tbody>\n",
              "</table>\n",
              "<p>1 rows × 3883 columns</p>\n",
              "</div>"
            ]
          },
          "metadata": {}
        }
      ],
      "execution_count": 11,
      "metadata": {
        "collapsed": false,
        "outputHidden": false,
        "inputHidden": false
      }
    },
    {
      "cell_type": "code",
      "source": [
        "def predictions_to_recommendations(preds, userid):\n",
        "    stockids = preds.transpose().sort_values(by=userid, ascending=False).index[0:10]\n",
        "    outs = [stockid_to_stockname(x) for x in stockids]\n",
        "    return outs\n",
        "    "
      ],
      "outputs": [],
      "execution_count": 18,
      "metadata": {
        "collapsed": false,
        "outputHidden": false,
        "inputHidden": false
      }
    },
    {
      "cell_type": "code",
      "source": [
        "predictions_to_recommendations(predictions, 123)"
      ],
      "outputs": [
        {
          "output_type": "execute_result",
          "execution_count": 19,
          "data": {
            "text/plain": [
              "['LACQU',\n",
              " 'PME',\n",
              " 'VCSH',\n",
              " 'ELTK',\n",
              " 'BRPAU',\n",
              " 'VRNT',\n",
              " 'CVLY',\n",
              " 'UCBA',\n",
              " 'XCRA',\n",
              " 'CGO']"
            ]
          },
          "metadata": {}
        }
      ],
      "execution_count": 19,
      "metadata": {
        "collapsed": false,
        "outputHidden": false,
        "inputHidden": false
      }
    },
    {
      "cell_type": "markdown",
      "source": [
        "## FastScore Action function"
      ],
      "metadata": {}
    },
    {
      "cell_type": "code",
      "source": [
        "def action(x):\n",
        "    userid = x['userid']\n",
        "    inputs = df_from_fastscore(x)\n",
        "    yield predictions_to_recommendations(trained_model.predict(inputs), userid)"
      ],
      "outputs": [],
      "execution_count": 20,
      "metadata": {}
    },
    {
      "cell_type": "code",
      "source": [
        "next(action({'userid': 123,\n",
        "             'ratings': [\n",
        "                 {'AABA': 4},\n",
        "                 {'AAL': 3},\n",
        "                 {'AAON': 5}\n",
        "             ]}))"
      ],
      "outputs": [
        {
          "output_type": "execute_result",
          "execution_count": 21,
          "data": {
            "text/plain": [
              "['LACQU',\n",
              " 'PME',\n",
              " 'VCSH',\n",
              " 'ELTK',\n",
              " 'BRPAU',\n",
              " 'VRNT',\n",
              " 'CVLY',\n",
              " 'UCBA',\n",
              " 'XCRA',\n",
              " 'CGO']"
            ]
          },
          "metadata": {}
        }
      ],
      "execution_count": 21,
      "metadata": {
        "collapsed": false,
        "outputHidden": false,
        "inputHidden": false
      }
    },
    {
      "cell_type": "markdown",
      "source": [
        "## Fastscore Begin Function"
      ],
      "metadata": {}
    },
    {
      "cell_type": "code",
      "source": [
        "def begin():\n",
        "    global trained_model, STOCKS, STOCKS_TICKER_LOOKUP\n",
        "    trained_model = load_model('model.zip')\n",
        "    \n",
        "    DATA_PATH = '../data/' # Update this if necessary\n",
        "    STOCKS_CSV = DATA_PATH + 'stocks.csv'\n",
        "\n",
        "    STOCKS = pd.read_csv(STOCKS_CSV)\n",
        "    STOCKS = STOCKS.set_index('stockid').sort_index()\n",
        "\n    STOCKS_TICKER_LOOKUP = STOCKS.reset_index().set_index('ticker')"
      ],
      "outputs": [],
      "execution_count": 22,
      "metadata": {
        "collapsed": false,
        "outputHidden": false,
        "inputHidden": false
      }
    },
    {
      "cell_type": "markdown",
      "source": [
        "Other functions to include in the FastScore model execution script:\n",
        "\n",
        "* `stockid_to_stockname`\n",
        "* `predictions_to_recommendations`\n",
        "* `df_from_fastscore`\n",
        "\n",
        "Files that need to be in the attachment:\n",
        "\n",
        "* `model.zip`\n",
        "* `stocks.csv`"
      ],
      "metadata": {
        "collapsed": false,
        "outputHidden": false,
        "inputHidden": false
      }
    },
    {
      "cell_type": "markdown",
      "source": [],
      "metadata": {}
    }
  ],
  "metadata": {
    "kernel_info": {
      "name": "python3"
    },
    "language_info": {
      "name": "python",
      "version": "3.6.0",
      "mimetype": "text/x-python",
      "codemirror_mode": {
        "name": "ipython",
        "version": 3
      },
      "pygments_lexer": "ipython3",
      "nbconvert_exporter": "python",
      "file_extension": ".py"
    },
    "kernelspec": {
      "name": "python3",
      "language": "python",
      "display_name": "Python 3"
    },
    "nteract": {
      "version": "0.11.6"
    }
  },
  "nbformat": 4,
  "nbformat_minor": 4
}