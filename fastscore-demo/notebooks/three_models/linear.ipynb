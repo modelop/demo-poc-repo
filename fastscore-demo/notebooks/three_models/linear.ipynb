{
 "cells": [
  {
   "cell_type": "code",
   "execution_count": 3,
   "metadata": {},
   "outputs": [],
   "source": [
    "import pandas as pd\n",
    "import json\n",
    "import numpy as np\n",
    "import pickle\n",
    "from sklearn.linear_model import LinearRegression"
   ]
  },
  {
   "cell_type": "code",
   "execution_count": 4,
   "metadata": {},
   "outputs": [],
   "source": [
    "with open('../../data/close_prices.jsons', 'r') as f:\n",
    "    inputs = pd.DataFrame([json.loads(line) for line in f])"
   ]
  },
  {
   "cell_type": "code",
   "execution_count": 5,
   "metadata": {},
   "outputs": [
    {
     "data": {
      "text/html": [
       "<div>\n",
       "<table border=\"1\" class=\"dataframe\">\n",
       "  <thead>\n",
       "    <tr style=\"text-align: right;\">\n",
       "      <th></th>\n",
       "      <th>Close</th>\n",
       "      <th>Date</th>\n",
       "    </tr>\n",
       "  </thead>\n",
       "  <tbody>\n",
       "    <tr>\n",
       "      <th>0</th>\n",
       "      <td>1536.339966</td>\n",
       "      <td>20968.0</td>\n",
       "    </tr>\n",
       "    <tr>\n",
       "      <th>1</th>\n",
       "      <td>1539.180054</td>\n",
       "      <td>20971.0</td>\n",
       "    </tr>\n",
       "    <tr>\n",
       "      <th>2</th>\n",
       "      <td>1530.949951</td>\n",
       "      <td>20972.0</td>\n",
       "    </tr>\n",
       "    <tr>\n",
       "      <th>3</th>\n",
       "      <td>1517.380005</td>\n",
       "      <td>20973.0</td>\n",
       "    </tr>\n",
       "    <tr>\n",
       "      <th>4</th>\n",
       "      <td>1490.719971</td>\n",
       "      <td>20974.0</td>\n",
       "    </tr>\n",
       "  </tbody>\n",
       "</table>\n",
       "</div>"
      ],
      "text/plain": [
       "         Close     Date\n",
       "0  1536.339966  20968.0\n",
       "1  1539.180054  20971.0\n",
       "2  1530.949951  20972.0\n",
       "3  1517.380005  20973.0\n",
       "4  1490.719971  20974.0"
      ]
     },
     "execution_count": 5,
     "metadata": {},
     "output_type": "execute_result"
    }
   ],
   "source": [
    "inputs.head()"
   ]
  },
  {
   "cell_type": "code",
   "execution_count": 6,
   "metadata": {},
   "outputs": [],
   "source": [
    "close_prices = np.array(inputs['Close'])"
   ]
  },
  {
   "cell_type": "markdown",
   "metadata": {},
   "source": [
    "We'll train an autoregressor that uses the last 15 days of prices to predict the next day's closing price."
   ]
  },
  {
   "cell_type": "code",
   "execution_count": 7,
   "metadata": {},
   "outputs": [],
   "source": [
    "def make_data(inputs, window_size = 15, size = 500):\n",
    "    X, y = np.vstack( inputs[i:i+window_size] for i in range(0, size) ), np.vstack( inputs[i+window_size: i + window_size + 1] for i in range(0, size) )\n",
    "    return X, y"
   ]
  },
  {
   "cell_type": "markdown",
   "metadata": {},
   "source": [
    "Two sets of training data: first 1000 days, and then days 1000 through 2000."
   ]
  },
  {
   "cell_type": "code",
   "execution_count": 8,
   "metadata": {},
   "outputs": [],
   "source": [
    "X1, y1 = make_data(close_prices[0:1000])\n",
    "X2, y2 = make_data(close_prices[1000:2000])"
   ]
  },
  {
   "cell_type": "markdown",
   "metadata": {},
   "source": [
    "Model \"version 1\""
   ]
  },
  {
   "cell_type": "code",
   "execution_count": 9,
   "metadata": {},
   "outputs": [],
   "source": [
    "lr = LinearRegression()"
   ]
  },
  {
   "cell_type": "code",
   "execution_count": 10,
   "metadata": {},
   "outputs": [],
   "source": [
    "lr = lr.fit(X1, y1)"
   ]
  },
  {
   "cell_type": "code",
   "execution_count": 11,
   "metadata": {},
   "outputs": [
    {
     "data": {
      "text/plain": [
       "0.9931060961417425"
      ]
     },
     "execution_count": 11,
     "metadata": {},
     "output_type": "execute_result"
    }
   ],
   "source": [
    "lr.score(X1, y1)"
   ]
  },
  {
   "cell_type": "markdown",
   "metadata": {},
   "source": [
    "Get a reasonable R2 value of 0.9845 on the out of sample data."
   ]
  },
  {
   "cell_type": "code",
   "execution_count": 12,
   "metadata": {},
   "outputs": [
    {
     "data": {
      "text/plain": [
       "0.98452029509333705"
      ]
     },
     "execution_count": 12,
     "metadata": {},
     "output_type": "execute_result"
    }
   ],
   "source": [
    "lr.score(X2, y2)"
   ]
  },
  {
   "cell_type": "markdown",
   "metadata": {},
   "source": [
    "Save it to a file."
   ]
  },
  {
   "cell_type": "code",
   "execution_count": 13,
   "metadata": {},
   "outputs": [],
   "source": [
    "with open('lr_pickle1.pkl', 'wb') as f:\n",
    "    pickle.dump(lr, f)"
   ]
  },
  {
   "cell_type": "markdown",
   "metadata": {},
   "source": [
    "Now we'll train it again on our out-of-sample data. This should be guaranteed to be a better fit."
   ]
  },
  {
   "cell_type": "code",
   "execution_count": 14,
   "metadata": {},
   "outputs": [],
   "source": [
    "lr = lr.fit(X2, y2)"
   ]
  },
  {
   "cell_type": "code",
   "execution_count": 15,
   "metadata": {},
   "outputs": [
    {
     "data": {
      "text/plain": [
       "0.98662812694287827"
      ]
     },
     "execution_count": 15,
     "metadata": {},
     "output_type": "execute_result"
    }
   ],
   "source": [
    "lr.score(X2, y2)"
   ]
  },
  {
   "cell_type": "markdown",
   "metadata": {},
   "source": [
    "And indeed it is, by a smidge: 0.98663 to 0.98452."
   ]
  },
  {
   "cell_type": "code",
   "execution_count": 16,
   "metadata": {},
   "outputs": [],
   "source": [
    "with open('lr_pickle2.pkl', 'wb') as f:\n",
    "    pickle.dump(lr, f)"
   ]
  },
  {
   "cell_type": "markdown",
   "metadata": {},
   "source": [
    "Deployment in FastScore."
   ]
  },
  {
   "cell_type": "code",
   "execution_count": 17,
   "metadata": {},
   "outputs": [],
   "source": [
    "from fastscoredeploy import ipmagic"
   ]
  },
  {
   "cell_type": "code",
   "execution_count": 18,
   "metadata": {},
   "outputs": [
    {
     "name": "stdout",
     "output_type": "stream",
     "text": [
      "Schema loaded and bound to close_price variable\n"
     ]
    }
   ],
   "source": [
    "%%schema close_price\n",
    "{\n",
    "    \"type\":\"record\",\n",
    "    \"name\":\"close_price\",\n",
    "    \"fields\":[\n",
    "        {\"type\":\"double\", \"name\":\"Date\"},\n",
    "        {\"type\":\"double\", \"name\":\"Close\"}\n",
    "    ]\n",
    "}"
   ]
  },
  {
   "cell_type": "code",
   "execution_count": 19,
   "metadata": {},
   "outputs": [
    {
     "name": "stdout",
     "output_type": "stream",
     "text": [
      "Schema loaded and bound to tagged_double variable\n"
     ]
    }
   ],
   "source": [
    "%%schema tagged_double\n",
    "{\n",
    "    \"type\":\"record\",\n",
    "    \"name\":\"tagged_double\",\n",
    "    \"fields\":[\n",
    "        {\"type\":\"string\", \"name\":\"name\"},\n",
    "        {\"type\":\"double\", \"name\":\"value\"}\n",
    "    ]\n",
    "}"
   ]
  },
  {
   "cell_type": "code",
   "execution_count": 20,
   "metadata": {},
   "outputs": [
    {
     "name": "stdout",
     "output_type": "stream",
     "text": [
      "Model loaded and bound to lr_model variable.\n"
     ]
    }
   ],
   "source": [
    "%%model lr_model\n",
    "\n",
    "# fastscore.schema.0: close_price\n",
    "# fastscore.schema.1: tagged_double\n",
    "\n",
    "import numpy as np\n",
    "import pickle\n",
    "from sklearn.linear_model import LinearRegression\n",
    "\n",
    "\n",
    "def begin():\n",
    "    global lr\n",
    "    global window, window_size\n",
    "    window = []\n",
    "    window_size = 15\n",
    "    with open('lr_pickle1.pkl', 'rb') as f:\n",
    "        lr = pickle.load(f)\n",
    "\n",
    "def action(x):\n",
    "    global window, window_size\n",
    "    x = x['Close']\n",
    "    window = window[1-window_size:] + [x]\n",
    "    if len(window) < window_size:\n",
    "        yield {\"name\": \"price\", \"value\":x}\n",
    "    else:\n",
    "        X = np.array([window])\n",
    "        y = lr.predict(X)\n",
    "        yield {\"name\":\"price\", \"value\": y[0,0]}\n"
   ]
  },
  {
   "cell_type": "code",
   "execution_count": 21,
   "metadata": {},
   "outputs": [
    {
     "data": {
      "text/plain": [
       "[{'name': 'price', 'value': 1536.339966},\n",
       " {'name': 'price', 'value': 1539.1800539999999},\n",
       " {'name': 'price', 'value': 1530.9499510000001},\n",
       " {'name': 'price', 'value': 1517.380005},\n",
       " {'name': 'price', 'value': 1490.719971}]"
      ]
     },
     "execution_count": 21,
     "metadata": {},
     "output_type": "execute_result"
    }
   ],
   "source": [
    "lr_model.score(inputs.to_dict(orient='records')[0:5])"
   ]
  },
  {
   "cell_type": "code",
   "execution_count": 22,
   "metadata": {},
   "outputs": [],
   "source": [
    "from fastscoredeploy.suite import Connect\n",
    "\n",
    "c = Connect('https://dashboard:8000')\n",
    "mm = c.lookup('model-manage')\n",
    "eng = c.lookup('engine')"
   ]
  },
  {
   "cell_type": "code",
   "execution_count": 24,
   "metadata": {},
   "outputs": [
    {
     "data": {
      "text/plain": [
       "True"
      ]
     },
     "execution_count": 24,
     "metadata": {},
     "output_type": "execute_result"
    }
   ],
   "source": [
    "lr_model.update(model_manage=mm)"
   ]
  },
  {
   "cell_type": "code",
   "execution_count": 25,
   "metadata": {},
   "outputs": [],
   "source": [
    "from fastscore.attachment import Attachment\n",
    "\n",
    "att = Attachment('att', datafile='lr_pickle1.tar.gz')\n",
    "att.upload(lr_model)"
   ]
  },
  {
   "cell_type": "code",
   "execution_count": 26,
   "metadata": {},
   "outputs": [
    {
     "data": {
      "application/vnd.jupyter.widget-view+json": {
       "model_id": "fad01096cb32433181ead651562b3b80"
      }
     },
     "metadata": {},
     "output_type": "display_data"
    }
   ],
   "source": [
    "lr_model.deploy(eng)"
   ]
  },
  {
   "cell_type": "code",
   "execution_count": 27,
   "metadata": {},
   "outputs": [
    {
     "data": {
      "text/plain": [
       "[{'name': 'price', 'value': 1536.339966},\n",
       " {'name': 'price', 'value': 1539.180054},\n",
       " {'name': 'price', 'value': 1530.949951},\n",
       " {'name': 'price', 'value': 1517.380005},\n",
       " {'name': 'price', 'value': 1490.719971},\n",
       " {'name': 'price', 'value': 1507.670044},\n",
       " {'name': 'price', 'value': 1509.119995},\n",
       " {'name': 'price', 'value': 1493.0},\n",
       " {'name': 'price', 'value': 1515.670044},\n",
       " {'name': 'price', 'value': 1522.969971},\n",
       " {'name': 'price', 'value': 1532.910034},\n",
       " {'name': 'price', 'value': 1531.050049},\n",
       " {'name': 'price', 'value': 1533.699951},\n",
       " {'name': 'price', 'value': 1512.839966},\n",
       " {'name': 'price', 'value': 1520.2010890340941},\n",
       " {'name': 'price', 'value': 1499.109418056728},\n",
       " {'name': 'price', 'value': 1500.3373565964112},\n",
       " {'name': 'price', 'value': 1493.5678127290635},\n",
       " {'name': 'price', 'value': 1501.4576692651551},\n",
       " {'name': 'price', 'value': 1504.4839249005067},\n",
       " {'name': 'price', 'value': 1501.5688830062377},\n",
       " {'name': 'price', 'value': 1516.1651036901176},\n",
       " {'name': 'price', 'value': 1517.2031471191538},\n",
       " {'name': 'price', 'value': 1523.9278863736856},\n",
       " {'name': 'price', 'value': 1522.8960973604053}]"
      ]
     },
     "execution_count": 27,
     "metadata": {},
     "output_type": "execute_result"
    }
   ],
   "source": [
    "eng.score(inputs.to_dict(orient='records')[0:25])"
   ]
  },
  {
   "cell_type": "code",
   "execution_count": 25,
   "metadata": {},
   "outputs": [],
   "source": [
    "eng.reset()"
   ]
  },
  {
   "cell_type": "markdown",
   "metadata": {},
   "source": [
    "Model works, let's save what we made to files."
   ]
  },
  {
   "cell_type": "code",
   "execution_count": null,
   "metadata": {},
   "outputs": [],
   "source": [
    "with open('lr_model.py3', 'w') as f:\n",
    "    f.write(lr_model.source)\n",
    "\n",
    "with open('close_price.avsc', 'w') as f:\n",
    "    f.write(json.dumps(close_price.source))\n",
    "\n",
    "with open('tagged_double.avsc', 'w') as f:\n",
    "    f.write(json.dumps(tagged_double.source))"
   ]
  },
  {
   "cell_type": "code",
   "execution_count": null,
   "metadata": {},
   "outputs": [],
   "source": []
  }
 ],
 "metadata": {
  "kernelspec": {
   "display_name": "Python 3",
   "language": "python",
   "name": "python3"
  },
  "language_info": {
   "codemirror_mode": {
    "name": "ipython",
    "version": 3
   },
   "file_extension": ".py",
   "mimetype": "text/x-python",
   "name": "python",
   "nbconvert_exporter": "python",
   "pygments_lexer": "ipython3",
   "version": "3.6.4"
  }
 },
 "nbformat": 4,
 "nbformat_minor": 2
}
