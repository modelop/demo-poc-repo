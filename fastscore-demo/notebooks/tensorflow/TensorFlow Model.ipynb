{
 "cells": [
  {
   "cell_type": "code",
   "execution_count": 1,
   "metadata": {},
   "outputs": [],
   "source": [
    "from fastscoredeploy import ipmagic"
   ]
  },
  {
   "cell_type": "code",
   "execution_count": 2,
   "metadata": {},
   "outputs": [
    {
     "name": "stdout",
     "output_type": "stream",
     "text": [
      "Schema loaded and bound to double variable\n"
     ]
    }
   ],
   "source": [
    "%%schema double\n",
    "{\"type\": \"double\"}"
   ]
  },
  {
   "cell_type": "code",
   "execution_count": 3,
   "metadata": {},
   "outputs": [
    {
     "name": "stderr",
     "output_type": "stream",
     "text": [
      "/opt/conda/lib/python3.6/importlib/_bootstrap.py:205: RuntimeWarning: compiletime version 3.5 of module 'tensorflow.python.framework.fast_tensor_util' does not match runtime version 3.6\n",
      "  return f(*args, **kwds)\n"
     ]
    },
    {
     "name": "stdout",
     "output_type": "stream",
     "text": [
      "Model loaded and bound to tfmodel variable.\n"
     ]
    }
   ],
   "source": [
    "%%model tfmodel\n",
    "# fastscore.schema.0: double\n",
    "# fastscore.schema.1: double\n",
    "# fastscore.module-attached: tensorflow\n",
    "\n",
    "import tensorflow as tf\n",
    "import numpy as np\n",
    "\n",
    "def begin():\n",
    "    tf.logging.set_verbosity(tf.logging.WARN)\n",
    "    global past_days\n",
    "    past_days = []\n",
    "\n",
    "    global n_steps, X, outputs, sess\n",
    "    n_steps = 30\n",
    "    n_inputs = 1\n",
    "    n_outputs = 1\n",
    "    n_layers = 3\n",
    "    n_units = 100\n",
    "    save_name = 'tf_sp500_lstm'\n",
    "\n",
    "    X = tf.placeholder(tf.float32, [None, n_steps, n_inputs])\n",
    "    y = tf.placeholder(tf.float32, [None, n_steps, n_outputs])\n",
    "    layers = [tf.contrib.rnn.BasicLSTMCell(num_units = n_units) for k in range(n_layers)]\n",
    "    cell = tf.contrib.rnn.OutputProjectionWrapper(\n",
    "      tf.contrib.rnn.MultiRNNCell(layers), output_size = n_outputs)\n",
    "    outputs, states = tf.nn.dynamic_rnn(cell, X, dtype=tf.float32)\n",
    "    saver = tf.train.Saver()\n",
    "    sess = tf.Session()\n",
    "    saver.restore(sess, './{}'.format(save_name))\n",
    "\n",
    "def predict(inputs):\n",
    "    if len(inputs[0,:,0]) < n_steps:\n",
    "        raise Exception(\"Insufficient inputs! X should be an array of shape (1, k, 1) where k >= n_steps\")\n",
    "\n",
    "    preds = []\n",
    "    steps_forward = len(inputs[0,:,0]) - n_steps + 1\n",
    "    for j in range(0, steps_forward):\n",
    "        X_in = inputs[:,j:j+n_steps,:]\n",
    "        y_pred = sess.run(outputs, feed_dict = {X: X_in})\n",
    "        preds.append(y_pred[0,-1,0]) # add the last one\n",
    "    return np.array(preds).reshape(-1, len(preds), 1)\n",
    "\n",
    "def action(x):\n",
    "    global past_days\n",
    "    past_days.append(x)\n",
    "    past_days = past_days[-n_steps:]\n",
    "    if len(past_days) == n_steps:\n",
    "        result = predict(np.array(past_days).reshape(-1, n_steps, 1))[0, 0, 0]\n",
    "        yield np.asscalar(result)\n",
    "    else:\n",
    "        yield x\n",
    "\n",
    "def end():\n",
    "    sess.close()\n"
   ]
  },
  {
   "cell_type": "code",
   "execution_count": 4,
   "metadata": {},
   "outputs": [
    {
     "data": {
      "text/plain": [
       "'python3'"
      ]
     },
     "execution_count": 4,
     "metadata": {},
     "output_type": "execute_result"
    }
   ],
   "source": [
    "tfmodel.mtype"
   ]
  },
  {
   "cell_type": "code",
   "execution_count": 5,
   "metadata": {},
   "outputs": [],
   "source": [
    "from fastscoredeploy.suite import Connect\n",
    "\n",
    "connect = Connect(\"https://dashboard:8000\")\n",
    "engine = connect.lookup('engine')\n",
    "mm = connect.lookup('model-manage')"
   ]
  },
  {
   "cell_type": "code",
   "execution_count": 6,
   "metadata": {},
   "outputs": [
    {
     "data": {
      "text/plain": [
       "[{'api': 'composer',\n",
       "  'built_on': 'Wed Jan 24 16:04:03 UTC 2018',\n",
       "  'health': 'ok',\n",
       "  'host': 'composer',\n",
       "  'id': '4f0348c2-060a-11e8-a765-02420a000011',\n",
       "  'name': 'composer-1',\n",
       "  'port': 8010,\n",
       "  'release': '0.1'}, {'api': 'engine',\n",
       "  'built_on': 'Mon Jan 29 15:38:47 UTC 2018',\n",
       "  'health': 'ok',\n",
       "  'host': 'engine',\n",
       "  'id': '090d0ce4-50d8-43ec-a003-e5de28ed512b',\n",
       "  'name': 'engine-1',\n",
       "  'port': 8003,\n",
       "  'release': '1.6.1'}, {'api': 'model-manage',\n",
       "  'built_on': 'Thu Nov  9 16:01:58 UTC 2017',\n",
       "  'health': 'ok',\n",
       "  'host': 'model-manage',\n",
       "  'id': 'edd91243-9f72-4a10-83ad-d6c308f285cb',\n",
       "  'name': 'model-manage-1',\n",
       "  'port': 8002,\n",
       "  'release': '1.6.1'}]"
      ]
     },
     "execution_count": 6,
     "metadata": {},
     "output_type": "execute_result"
    }
   ],
   "source": [
    "connect.fleet()"
   ]
  },
  {
   "cell_type": "code",
   "execution_count": 7,
   "metadata": {},
   "outputs": [
    {
     "data": {
      "text/plain": [
       "False"
      ]
     },
     "execution_count": 7,
     "metadata": {},
     "output_type": "execute_result"
    }
   ],
   "source": [
    "tfmodel.update(model_manage=mm)"
   ]
  },
  {
   "cell_type": "code",
   "execution_count": 8,
   "metadata": {},
   "outputs": [],
   "source": [
    "from fastscore.attachment import Attachment\n",
    "att = Attachment('att', datafile='attachment.tar.gz')\n",
    "att.upload(tfmodel)"
   ]
  },
  {
   "cell_type": "code",
   "execution_count": 9,
   "metadata": {},
   "outputs": [
    {
     "data": {
      "application/vnd.jupyter.widget-view+json": {
       "model_id": "7e828a2b4ac64466bee674187b31f764"
      }
     },
     "metadata": {},
     "output_type": "display_data"
    }
   ],
   "source": [
    "tfmodel.deploy(engine)"
   ]
  },
  {
   "cell_type": "code",
   "execution_count": 10,
   "metadata": {},
   "outputs": [],
   "source": [
    "import json\n",
    "\n",
    "input_data = []\n",
    "\n",
    "with open('test_data.jsons', 'r') as f:\n",
    "    for line in f:\n",
    "        try:\n",
    "            input_data.append(json.loads(line))\n",
    "        except:\n",
    "            pass"
   ]
  },
  {
   "cell_type": "code",
   "execution_count": 11,
   "metadata": {},
   "outputs": [
    {
     "data": {
      "text/plain": [
       "[2.1772143840789795,\n",
       " 2.1678619384765625,\n",
       " 2.170048952102661,\n",
       " 2.1543917655944824,\n",
       " 2.1880810260772705,\n",
       " 2.095344305038452,\n",
       " 2.1357288360595703,\n",
       " 1.9873629808425903,\n",
       " 2.02543044090271,\n",
       " 1.8540129661560059,\n",
       " 1.74863862991333,\n",
       " 1.8091214895248413,\n",
       " 1.7126928567886353,\n",
       " 1.7642762660980225,\n",
       " 1.7859008312225342,\n",
       " 1.6083106994628906,\n",
       " 1.7725034952163696,\n",
       " 1.7951457500457764,\n",
       " 1.899043321609497,\n",
       " 1.6914918422698975,\n",
       " 1.7033576965332031,\n",
       " 1.687721848487854,\n",
       " 1.5650486946105957,\n",
       " 1.4746744632720947,\n",
       " 1.48747980594635,\n",
       " 1.6409997940063477,\n",
       " 1.629782795906067,\n",
       " 1.6451754570007324,\n",
       " 1.7244477272033691,\n",
       " 1.712424635887146,\n",
       " 1.7961549758911133]"
      ]
     },
     "execution_count": 11,
     "metadata": {},
     "output_type": "execute_result"
    }
   ],
   "source": [
    "engine.score(input_data[:60])"
   ]
  },
  {
   "cell_type": "code",
   "execution_count": 12,
   "metadata": {},
   "outputs": [],
   "source": [
    "engine.reset()"
   ]
  },
  {
   "cell_type": "code",
   "execution_count": null,
   "metadata": {},
   "outputs": [],
   "source": []
  }
 ],
 "metadata": {
  "kernelspec": {
   "display_name": "Python 3",
   "language": "python",
   "name": "python3"
  },
  "language_info": {
   "codemirror_mode": {
    "name": "ipython",
    "version": 3
   },
   "file_extension": ".py",
   "mimetype": "text/x-python",
   "name": "python",
   "nbconvert_exporter": "python",
   "pygments_lexer": "ipython3",
   "version": "3.6.2"
  }
 },
 "nbformat": 4,
 "nbformat_minor": 2
}
