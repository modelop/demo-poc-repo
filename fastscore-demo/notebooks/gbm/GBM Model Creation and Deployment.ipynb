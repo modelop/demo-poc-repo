{
 "cells": [
  {
   "cell_type": "markdown",
   "metadata": {},
   "source": [
    "# Model Creation/Training\n",
    "\n",
    "First, import libraries:"
   ]
  },
  {
   "cell_type": "code",
   "execution_count": 1,
   "metadata": {},
   "outputs": [],
   "source": [
    "import pandas as pd\n",
    "import numpy as np\n",
    "\n",
    "from sklearn.ensemble import GradientBoostingRegressor\n",
    "from sklearn.model_selection import GridSearchCV\n",
    "from sklearn.metrics import mean_squared_error, make_scorer\n",
    "from sklearn.pipeline import Pipeline\n",
    "# Feature Transformer is a custom class\n",
    "from score_auto_gbm.FeatureTransformer import FeatureTransformer"
   ]
  },
  {
   "cell_type": "markdown",
   "metadata": {},
   "source": [
    "Load the training data:"
   ]
  },
  {
   "cell_type": "code",
   "execution_count": 2,
   "metadata": {},
   "outputs": [],
   "source": [
    "in_data = pd.read_json(\"training_data.jsons\", orient = \"records\")\n",
    "X = in_data.drop(\"risk\", 1)\n",
    "y = np.array(in_data[\"risk\"])"
   ]
  },
  {
   "cell_type": "markdown",
   "metadata": {},
   "source": [
    "Create an instance of our custom FeatureTransformer class:"
   ]
  },
  {
   "cell_type": "code",
   "execution_count": 3,
   "metadata": {},
   "outputs": [],
   "source": [
    "preprocess = FeatureTransformer()"
   ]
  },
  {
   "cell_type": "markdown",
   "metadata": {},
   "source": [
    "Create a GBM model, which we will then train:"
   ]
  },
  {
   "cell_type": "code",
   "execution_count": 4,
   "metadata": {},
   "outputs": [],
   "source": [
    "gbm = GradientBoostingRegressor(learning_rate = 0.1, random_state = 1234)"
   ]
  },
  {
   "cell_type": "markdown",
   "metadata": {},
   "source": [
    "We want to combine the scoring with the feature transformation, so we create a Pipeline:"
   ]
  },
  {
   "cell_type": "code",
   "execution_count": 5,
   "metadata": {},
   "outputs": [],
   "source": [
    "pipe = Pipeline([(\"preprocess\", preprocess), (\"gbm\", gbm)])"
   ]
  },
  {
   "cell_type": "markdown",
   "metadata": {},
   "source": [
    "Now, we train the GBM using grid search cross-validation:"
   ]
  },
  {
   "cell_type": "code",
   "execution_count": 6,
   "metadata": {},
   "outputs": [
    {
     "name": "stdout",
     "output_type": "stream",
     "text": [
      "Fitting 5 folds for each of 24 candidates, totalling 120 fits\n",
      "[CV] gbm__max_depth=5, gbm__n_estimators=50 ..........................\n",
      "[CV]  gbm__max_depth=5, gbm__n_estimators=50, score=1.390660, total=   0.1s\n",
      "[Parallel(n_jobs=1)]: Done   1 out of   1 | elapsed:    0.1s remaining:    0.0s\n",
      "[CV] gbm__max_depth=5, gbm__n_estimators=50 ..........................\n",
      "[CV]  gbm__max_depth=5, gbm__n_estimators=50, score=0.884076, total=   0.1s\n",
      "[Parallel(n_jobs=1)]: Done   2 out of   2 | elapsed:    0.1s remaining:    0.0s\n",
      "[CV] gbm__max_depth=5, gbm__n_estimators=50 ..........................\n",
      "[CV]  gbm__max_depth=5, gbm__n_estimators=50, score=0.498074, total=   0.1s\n",
      "[Parallel(n_jobs=1)]: Done   3 out of   3 | elapsed:    0.2s remaining:    0.0s\n",
      "[CV] gbm__max_depth=5, gbm__n_estimators=50 ..........................\n",
      "[CV]  gbm__max_depth=5, gbm__n_estimators=50, score=0.800251, total=   0.1s\n",
      "[Parallel(n_jobs=1)]: Done   4 out of   4 | elapsed:    0.3s remaining:    0.0s\n",
      "[CV] gbm__max_depth=5, gbm__n_estimators=50 ..........................\n",
      "[CV]  gbm__max_depth=5, gbm__n_estimators=50, score=1.844428, total=   0.1s\n",
      "[Parallel(n_jobs=1)]: Done   5 out of   5 | elapsed:    0.4s remaining:    0.0s\n",
      "[CV] gbm__max_depth=5, gbm__n_estimators=100 .........................\n",
      "[CV]  gbm__max_depth=5, gbm__n_estimators=100, score=1.400980, total=   0.1s\n",
      "[Parallel(n_jobs=1)]: Done   6 out of   6 | elapsed:    0.5s remaining:    0.0s\n",
      "[CV] gbm__max_depth=5, gbm__n_estimators=100 .........................\n",
      "[CV]  gbm__max_depth=5, gbm__n_estimators=100, score=0.881274, total=   0.1s\n",
      "[Parallel(n_jobs=1)]: Done   7 out of   7 | elapsed:    0.6s remaining:    0.0s\n",
      "[CV] gbm__max_depth=5, gbm__n_estimators=100 .........................\n",
      "[CV]  gbm__max_depth=5, gbm__n_estimators=100, score=0.496448, total=   0.1s\n",
      "[Parallel(n_jobs=1)]: Done   8 out of   8 | elapsed:    0.7s remaining:    0.0s\n",
      "[CV] gbm__max_depth=5, gbm__n_estimators=100 .........................\n",
      "[CV]  gbm__max_depth=5, gbm__n_estimators=100, score=0.801190, total=   0.1s\n",
      "[Parallel(n_jobs=1)]: Done   9 out of   9 | elapsed:    0.8s remaining:    0.0s\n",
      "[CV] gbm__max_depth=5, gbm__n_estimators=100 .........................\n",
      "[CV]  gbm__max_depth=5, gbm__n_estimators=100, score=1.858902, total=   0.1s\n",
      "[Parallel(n_jobs=1)]: Done  10 out of  10 | elapsed:    0.9s remaining:    0.0s\n",
      "[CV] gbm__max_depth=5, gbm__n_estimators=150 .........................\n",
      "[CV]  gbm__max_depth=5, gbm__n_estimators=150, score=1.400962, total=   0.1s\n",
      "[Parallel(n_jobs=1)]: Done  11 out of  11 | elapsed:    1.1s remaining:    0.0s\n",
      "[CV] gbm__max_depth=5, gbm__n_estimators=150 .........................\n",
      "[CV]  gbm__max_depth=5, gbm__n_estimators=150, score=0.880412, total=   0.1s\n",
      "[Parallel(n_jobs=1)]: Done  12 out of  12 | elapsed:    1.2s remaining:    0.0s\n",
      "[CV] gbm__max_depth=5, gbm__n_estimators=150 .........................\n",
      "[CV]  gbm__max_depth=5, gbm__n_estimators=150, score=0.495399, total=   0.1s\n",
      "[Parallel(n_jobs=1)]: Done  13 out of  13 | elapsed:    1.3s remaining:    0.0s\n",
      "[CV] gbm__max_depth=5, gbm__n_estimators=150 .........................\n",
      "[CV]  gbm__max_depth=5, gbm__n_estimators=150, score=0.802408, total=   0.1s\n",
      "[Parallel(n_jobs=1)]: Done  14 out of  14 | elapsed:    1.4s remaining:    0.0s\n",
      "[CV] gbm__max_depth=5, gbm__n_estimators=150 .........................\n",
      "[CV]  gbm__max_depth=5, gbm__n_estimators=150, score=1.859859, total=   0.1s\n",
      "[Parallel(n_jobs=1)]: Done  15 out of  15 | elapsed:    1.5s remaining:    0.0s\n",
      "[CV] gbm__max_depth=5, gbm__n_estimators=200 .........................\n",
      "[CV]  gbm__max_depth=5, gbm__n_estimators=200, score=1.400959, total=   0.1s\n",
      "[Parallel(n_jobs=1)]: Done  16 out of  16 | elapsed:    1.7s remaining:    0.0s\n",
      "[CV] gbm__max_depth=5, gbm__n_estimators=200 .........................\n",
      "[CV]  gbm__max_depth=5, gbm__n_estimators=200, score=0.880359, total=   0.1s\n",
      "[Parallel(n_jobs=1)]: Done  17 out of  17 | elapsed:    1.8s remaining:    0.0s\n",
      "[CV] gbm__max_depth=5, gbm__n_estimators=200 .........................\n",
      "[CV]  gbm__max_depth=5, gbm__n_estimators=200, score=0.495428, total=   0.1s\n",
      "[Parallel(n_jobs=1)]: Done  18 out of  18 | elapsed:    1.9s remaining:    0.0s\n",
      "[CV] gbm__max_depth=5, gbm__n_estimators=200 .........................\n",
      "[CV]  gbm__max_depth=5, gbm__n_estimators=200, score=0.802747, total=   0.1s\n",
      "[Parallel(n_jobs=1)]: Done  19 out of  19 | elapsed:    2.1s remaining:    0.0s\n",
      "[CV] gbm__max_depth=5, gbm__n_estimators=200 .........................\n",
      "[CV]  gbm__max_depth=5, gbm__n_estimators=200, score=1.860614, total=   0.1s\n",
      "[Parallel(n_jobs=1)]: Done  20 out of  20 | elapsed:    2.3s remaining:    0.0s\n",
      "[CV] gbm__max_depth=6, gbm__n_estimators=50 ..........................\n",
      "[CV]  gbm__max_depth=6, gbm__n_estimators=50, score=1.188463, total=   0.1s\n",
      "[Parallel(n_jobs=1)]: Done  21 out of  21 | elapsed:    2.3s remaining:    0.0s\n",
      "[CV] gbm__max_depth=6, gbm__n_estimators=50 ..........................\n",
      "[CV]  gbm__max_depth=6, gbm__n_estimators=50, score=1.106956, total=   0.1s\n",
      "[Parallel(n_jobs=1)]: Done  22 out of  22 | elapsed:    2.4s remaining:    0.0s\n",
      "[CV] gbm__max_depth=6, gbm__n_estimators=50 ..........................\n",
      "[CV]  gbm__max_depth=6, gbm__n_estimators=50, score=0.667757, total=   0.1s\n",
      "[Parallel(n_jobs=1)]: Done  23 out of  23 | elapsed:    2.5s remaining:    0.0s\n",
      "[CV] gbm__max_depth=6, gbm__n_estimators=50 ..........................\n",
      "[CV]  gbm__max_depth=6, gbm__n_estimators=50, score=1.077430, total=   0.1s\n",
      "[Parallel(n_jobs=1)]: Done  24 out of  24 | elapsed:    2.6s remaining:    0.0s\n",
      "[CV] gbm__max_depth=6, gbm__n_estimators=50 ..........................\n",
      "[CV]  gbm__max_depth=6, gbm__n_estimators=50, score=1.592771, total=   0.1s\n",
      "[Parallel(n_jobs=1)]: Done  25 out of  25 | elapsed:    2.7s remaining:    0.0s\n",
      "[CV] gbm__max_depth=6, gbm__n_estimators=100 .........................\n",
      "[CV]  gbm__max_depth=6, gbm__n_estimators=100, score=1.198539, total=   0.1s\n",
      "[Parallel(n_jobs=1)]: Done  26 out of  26 | elapsed:    2.8s remaining:    0.0s\n",
      "[CV] gbm__max_depth=6, gbm__n_estimators=100 .........................\n",
      "[CV]  gbm__max_depth=6, gbm__n_estimators=100, score=1.109667, total=   0.1s\n",
      "[Parallel(n_jobs=1)]: Done  27 out of  27 | elapsed:    2.9s remaining:    0.0s\n",
      "[CV] gbm__max_depth=6, gbm__n_estimators=100 .........................\n",
      "[CV]  gbm__max_depth=6, gbm__n_estimators=100, score=0.665965, total=   0.1s\n",
      "[Parallel(n_jobs=1)]: Done  28 out of  28 | elapsed:    3.1s remaining:    0.0s\n",
      "[CV] gbm__max_depth=6, gbm__n_estimators=100 .........................\n",
      "[CV]  gbm__max_depth=6, gbm__n_estimators=100, score=1.080906, total=   0.1s\n",
      "[Parallel(n_jobs=1)]: Done  29 out of  29 | elapsed:    3.2s remaining:    0.0s\n",
      "[CV] gbm__max_depth=6, gbm__n_estimators=100 .........................\n",
      "[CV]  gbm__max_depth=6, gbm__n_estimators=100, score=1.591214, total=   0.1s\n",
      "[Parallel(n_jobs=1)]: Done  30 out of  30 | elapsed:    3.3s remaining:    0.0s\n",
      "[CV] gbm__max_depth=6, gbm__n_estimators=150 .........................\n",
      "[CV]  gbm__max_depth=6, gbm__n_estimators=150, score=1.198539, total=   0.1s\n",
      "[Parallel(n_jobs=1)]: Done  31 out of  31 | elapsed:    3.4s remaining:    0.0s\n",
      "[CV] gbm__max_depth=6, gbm__n_estimators=150 .........................\n",
      "[CV]  gbm__max_depth=6, gbm__n_estimators=150, score=1.109667, total=   0.1s\n",
      "[Parallel(n_jobs=1)]: Done  32 out of  32 | elapsed:    3.5s remaining:    0.0s\n",
      "[CV] gbm__max_depth=6, gbm__n_estimators=150 .........................\n",
      "[CV]  gbm__max_depth=6, gbm__n_estimators=150, score=0.665809, total=   0.1s\n",
      "[Parallel(n_jobs=1)]: Done  33 out of  33 | elapsed:    3.6s remaining:    0.0s\n",
      "[CV] gbm__max_depth=6, gbm__n_estimators=150 .........................\n",
      "[CV]  gbm__max_depth=6, gbm__n_estimators=150, score=1.080982, total=   0.1s\n",
      "[Parallel(n_jobs=1)]: Done  34 out of  34 | elapsed:    3.8s remaining:    0.0s\n",
      "[CV] gbm__max_depth=6, gbm__n_estimators=150 .........................\n",
      "[CV]  gbm__max_depth=6, gbm__n_estimators=150, score=1.591567, total=   0.1s\n",
      "[Parallel(n_jobs=1)]: Done  35 out of  35 | elapsed:    3.9s remaining:    0.0s\n",
      "[CV] gbm__max_depth=6, gbm__n_estimators=200 .........................\n",
      "[CV]  gbm__max_depth=6, gbm__n_estimators=200, score=1.198539, total=   0.1s\n",
      "[Parallel(n_jobs=1)]: Done  36 out of  36 | elapsed:    4.0s remaining:    0.0s\n",
      "[CV] gbm__max_depth=6, gbm__n_estimators=200 .........................\n",
      "[CV]  gbm__max_depth=6, gbm__n_estimators=200, score=1.109667, total=   0.1s\n",
      "[Parallel(n_jobs=1)]: Done  37 out of  37 | elapsed:    4.1s remaining:    0.0s\n",
      "[CV] gbm__max_depth=6, gbm__n_estimators=200 .........................\n"
     ]
    },
    {
     "name": "stdout",
     "output_type": "stream",
     "text": [
      "[CV]  gbm__max_depth=6, gbm__n_estimators=200, score=0.665809, total=   0.1s\n",
      "[Parallel(n_jobs=1)]: Done  38 out of  38 | elapsed:    4.3s remaining:    0.0s\n",
      "[CV] gbm__max_depth=6, gbm__n_estimators=200 .........................\n",
      "[CV]  gbm__max_depth=6, gbm__n_estimators=200, score=1.080982, total=   0.1s\n",
      "[Parallel(n_jobs=1)]: Done  39 out of  39 | elapsed:    4.4s remaining:    0.0s\n",
      "[CV] gbm__max_depth=6, gbm__n_estimators=200 .........................\n",
      "[CV]  gbm__max_depth=6, gbm__n_estimators=200, score=1.591564, total=   0.1s\n",
      "[Parallel(n_jobs=1)]: Done  40 out of  40 | elapsed:    4.5s remaining:    0.0s\n",
      "[CV] gbm__max_depth=7, gbm__n_estimators=50 ..........................\n",
      "[CV]  gbm__max_depth=7, gbm__n_estimators=50, score=1.152452, total=   0.1s\n",
      "[Parallel(n_jobs=1)]: Done  41 out of  41 | elapsed:    4.6s remaining:    0.0s\n",
      "[CV] gbm__max_depth=7, gbm__n_estimators=50 ..........................\n",
      "[CV]  gbm__max_depth=7, gbm__n_estimators=50, score=1.314702, total=   0.1s\n",
      "[Parallel(n_jobs=1)]: Done  42 out of  42 | elapsed:    4.7s remaining:    0.0s\n",
      "[CV] gbm__max_depth=7, gbm__n_estimators=50 ..........................\n",
      "[CV]  gbm__max_depth=7, gbm__n_estimators=50, score=0.794467, total=   0.1s\n",
      "[Parallel(n_jobs=1)]: Done  43 out of  43 | elapsed:    4.8s remaining:    0.0s\n",
      "[CV] gbm__max_depth=7, gbm__n_estimators=50 ..........................\n",
      "[CV]  gbm__max_depth=7, gbm__n_estimators=50, score=1.300191, total=   0.1s\n",
      "[Parallel(n_jobs=1)]: Done  44 out of  44 | elapsed:    4.8s remaining:    0.0s\n",
      "[CV] gbm__max_depth=7, gbm__n_estimators=50 ..........................\n",
      "[CV]  gbm__max_depth=7, gbm__n_estimators=50, score=1.924516, total=   0.1s\n",
      "[Parallel(n_jobs=1)]: Done  45 out of  45 | elapsed:    4.9s remaining:    0.0s\n",
      "[CV] gbm__max_depth=7, gbm__n_estimators=100 .........................\n",
      "[CV]  gbm__max_depth=7, gbm__n_estimators=100, score=1.161536, total=   0.1s\n",
      "[Parallel(n_jobs=1)]: Done  46 out of  46 | elapsed:    5.0s remaining:    0.0s\n",
      "[CV] gbm__max_depth=7, gbm__n_estimators=100 .........................\n",
      "[CV]  gbm__max_depth=7, gbm__n_estimators=100, score=1.317797, total=   0.1s\n",
      "[Parallel(n_jobs=1)]: Done  47 out of  47 | elapsed:    5.1s remaining:    0.0s\n",
      "[CV] gbm__max_depth=7, gbm__n_estimators=100 .........................\n",
      "[CV]  gbm__max_depth=7, gbm__n_estimators=100, score=0.798797, total=   0.1s\n",
      "[Parallel(n_jobs=1)]: Done  48 out of  48 | elapsed:    5.3s remaining:    0.0s\n",
      "[CV] gbm__max_depth=7, gbm__n_estimators=100 .........................\n",
      "[CV]  gbm__max_depth=7, gbm__n_estimators=100, score=1.302371, total=   0.1s\n",
      "[Parallel(n_jobs=1)]: Done  49 out of  49 | elapsed:    5.4s remaining:    0.0s\n",
      "[CV] gbm__max_depth=7, gbm__n_estimators=100 .........................\n",
      "[CV]  gbm__max_depth=7, gbm__n_estimators=100, score=1.922418, total=   0.1s\n",
      "[Parallel(n_jobs=1)]: Done  50 out of  50 | elapsed:    5.5s remaining:    0.0s\n",
      "[CV] gbm__max_depth=7, gbm__n_estimators=150 .........................\n",
      "[CV]  gbm__max_depth=7, gbm__n_estimators=150, score=1.161536, total=   0.1s\n",
      "[Parallel(n_jobs=1)]: Done  51 out of  51 | elapsed:    5.6s remaining:    0.0s\n",
      "[CV] gbm__max_depth=7, gbm__n_estimators=150 .........................\n",
      "[CV]  gbm__max_depth=7, gbm__n_estimators=150, score=1.317797, total=   0.1s\n",
      "[Parallel(n_jobs=1)]: Done  52 out of  52 | elapsed:    5.6s remaining:    0.0s\n",
      "[CV] gbm__max_depth=7, gbm__n_estimators=150 .........................\n",
      "[CV]  gbm__max_depth=7, gbm__n_estimators=150, score=0.798797, total=   0.1s\n",
      "[Parallel(n_jobs=1)]: Done  53 out of  53 | elapsed:    5.8s remaining:    0.0s\n",
      "[CV] gbm__max_depth=7, gbm__n_estimators=150 .........................\n",
      "[CV]  gbm__max_depth=7, gbm__n_estimators=150, score=1.302371, total=   0.1s\n",
      "[Parallel(n_jobs=1)]: Done  54 out of  54 | elapsed:    5.9s remaining:    0.0s\n",
      "[CV] gbm__max_depth=7, gbm__n_estimators=150 .........................\n",
      "[CV]  gbm__max_depth=7, gbm__n_estimators=150, score=1.922418, total=   0.1s\n",
      "[Parallel(n_jobs=1)]: Done  55 out of  55 | elapsed:    6.0s remaining:    0.0s\n",
      "[CV] gbm__max_depth=7, gbm__n_estimators=200 .........................\n",
      "[CV]  gbm__max_depth=7, gbm__n_estimators=200, score=1.161536, total=   0.1s\n",
      "[Parallel(n_jobs=1)]: Done  56 out of  56 | elapsed:    6.1s remaining:    0.0s\n",
      "[CV] gbm__max_depth=7, gbm__n_estimators=200 .........................\n",
      "[CV]  gbm__max_depth=7, gbm__n_estimators=200, score=1.317797, total=   0.1s\n",
      "[Parallel(n_jobs=1)]: Done  57 out of  57 | elapsed:    6.2s remaining:    0.0s\n",
      "[CV] gbm__max_depth=7, gbm__n_estimators=200 .........................\n",
      "[CV]  gbm__max_depth=7, gbm__n_estimators=200, score=0.798797, total=   0.1s\n",
      "[Parallel(n_jobs=1)]: Done  58 out of  58 | elapsed:    6.3s remaining:    0.0s\n",
      "[CV] gbm__max_depth=7, gbm__n_estimators=200 .........................\n",
      "[CV]  gbm__max_depth=7, gbm__n_estimators=200, score=1.302371, total=   0.1s\n",
      "[Parallel(n_jobs=1)]: Done  59 out of  59 | elapsed:    6.5s remaining:    0.0s\n",
      "[CV] gbm__max_depth=7, gbm__n_estimators=200 .........................\n",
      "[CV]  gbm__max_depth=7, gbm__n_estimators=200, score=1.922418, total=   0.1s\n",
      "[Parallel(n_jobs=1)]: Done  60 out of  60 | elapsed:    6.6s remaining:    0.0s\n",
      "[CV] gbm__max_depth=8, gbm__n_estimators=50 ..........................\n",
      "[CV]  gbm__max_depth=8, gbm__n_estimators=50, score=1.152452, total=   0.1s\n",
      "[Parallel(n_jobs=1)]: Done  61 out of  61 | elapsed:    6.7s remaining:    0.0s\n",
      "[CV] gbm__max_depth=8, gbm__n_estimators=50 ..........................\n",
      "[CV]  gbm__max_depth=8, gbm__n_estimators=50, score=1.215301, total=   0.1s\n",
      "[Parallel(n_jobs=1)]: Done  62 out of  62 | elapsed:    6.7s remaining:    0.0s\n",
      "[CV] gbm__max_depth=8, gbm__n_estimators=50 ..........................\n",
      "[CV]  gbm__max_depth=8, gbm__n_estimators=50, score=0.936437, total=   0.1s\n",
      "[Parallel(n_jobs=1)]: Done  63 out of  63 | elapsed:    6.8s remaining:    0.0s\n",
      "[CV] gbm__max_depth=8, gbm__n_estimators=50 ..........................\n",
      "[CV]  gbm__max_depth=8, gbm__n_estimators=50, score=1.187541, total=   0.1s\n",
      "[Parallel(n_jobs=1)]: Done  64 out of  64 | elapsed:    6.9s remaining:    0.0s\n",
      "[CV] gbm__max_depth=8, gbm__n_estimators=50 ..........................\n",
      "[CV]  gbm__max_depth=8, gbm__n_estimators=50, score=1.924516, total=   0.1s\n",
      "[Parallel(n_jobs=1)]: Done  65 out of  65 | elapsed:    7.0s remaining:    0.0s\n",
      "[CV] gbm__max_depth=8, gbm__n_estimators=100 .........................\n",
      "[CV]  gbm__max_depth=8, gbm__n_estimators=100, score=1.161536, total=   0.1s\n",
      "[Parallel(n_jobs=1)]: Done  66 out of  66 | elapsed:    7.1s remaining:    0.0s\n",
      "[CV] gbm__max_depth=8, gbm__n_estimators=100 .........................\n",
      "[CV]  gbm__max_depth=8, gbm__n_estimators=100, score=1.218707, total=   0.1s\n",
      "[Parallel(n_jobs=1)]: Done  67 out of  67 | elapsed:    7.2s remaining:    0.0s\n",
      "[CV] gbm__max_depth=8, gbm__n_estimators=100 .........................\n",
      "[CV]  gbm__max_depth=8, gbm__n_estimators=100, score=0.941231, total=   0.1s\n",
      "[Parallel(n_jobs=1)]: Done  68 out of  68 | elapsed:    7.3s remaining:    0.0s\n",
      "[CV] gbm__max_depth=8, gbm__n_estimators=100 .........................\n",
      "[CV]  gbm__max_depth=8, gbm__n_estimators=100, score=1.189825, total=   0.1s\n",
      "[Parallel(n_jobs=1)]: Done  69 out of  69 | elapsed:    7.4s remaining:    0.0s\n",
      "[CV] gbm__max_depth=8, gbm__n_estimators=100 .........................\n",
      "[CV]  gbm__max_depth=8, gbm__n_estimators=100, score=1.922418, total=   0.1s\n",
      "[Parallel(n_jobs=1)]: Done  70 out of  70 | elapsed:    7.5s remaining:    0.0s\n",
      "[CV] gbm__max_depth=8, gbm__n_estimators=150 .........................\n",
      "[CV]  gbm__max_depth=8, gbm__n_estimators=150, score=1.161536, total=   0.1s\n",
      "[Parallel(n_jobs=1)]: Done  71 out of  71 | elapsed:    7.6s remaining:    0.0s\n",
      "[CV] gbm__max_depth=8, gbm__n_estimators=150 .........................\n",
      "[CV]  gbm__max_depth=8, gbm__n_estimators=150, score=1.218707, total=   0.1s\n",
      "[Parallel(n_jobs=1)]: Done  72 out of  72 | elapsed:    7.7s remaining:    0.0s\n",
      "[CV] gbm__max_depth=8, gbm__n_estimators=150 .........................\n",
      "[CV]  gbm__max_depth=8, gbm__n_estimators=150, score=0.941231, total=   0.1s\n",
      "[Parallel(n_jobs=1)]: Done  73 out of  73 | elapsed:    7.8s remaining:    0.0s\n",
      "[CV] gbm__max_depth=8, gbm__n_estimators=150 .........................\n"
     ]
    },
    {
     "name": "stdout",
     "output_type": "stream",
     "text": [
      "[CV]  gbm__max_depth=8, gbm__n_estimators=150, score=1.189825, total=   0.1s\n",
      "[Parallel(n_jobs=1)]: Done  74 out of  74 | elapsed:    7.9s remaining:    0.0s\n",
      "[CV] gbm__max_depth=8, gbm__n_estimators=150 .........................\n",
      "[CV]  gbm__max_depth=8, gbm__n_estimators=150, score=1.922418, total=   0.1s\n",
      "[Parallel(n_jobs=1)]: Done  75 out of  75 | elapsed:    8.0s remaining:    0.0s\n",
      "[CV] gbm__max_depth=8, gbm__n_estimators=200 .........................\n",
      "[CV]  gbm__max_depth=8, gbm__n_estimators=200, score=1.161536, total=   0.1s\n",
      "[Parallel(n_jobs=1)]: Done  76 out of  76 | elapsed:    8.1s remaining:    0.0s\n",
      "[CV] gbm__max_depth=8, gbm__n_estimators=200 .........................\n",
      "[CV]  gbm__max_depth=8, gbm__n_estimators=200, score=1.218707, total=   0.1s\n",
      "[Parallel(n_jobs=1)]: Done  77 out of  77 | elapsed:    8.2s remaining:    0.0s\n",
      "[CV] gbm__max_depth=8, gbm__n_estimators=200 .........................\n",
      "[CV]  gbm__max_depth=8, gbm__n_estimators=200, score=0.941231, total=   0.1s\n",
      "[Parallel(n_jobs=1)]: Done  78 out of  78 | elapsed:    8.3s remaining:    0.0s\n",
      "[CV] gbm__max_depth=8, gbm__n_estimators=200 .........................\n",
      "[CV]  gbm__max_depth=8, gbm__n_estimators=200, score=1.189825, total=   0.1s\n",
      "[Parallel(n_jobs=1)]: Done  79 out of  79 | elapsed:    8.4s remaining:    0.0s\n",
      "[CV] gbm__max_depth=8, gbm__n_estimators=200 .........................\n",
      "[CV]  gbm__max_depth=8, gbm__n_estimators=200, score=1.922418, total=   0.1s\n",
      "[Parallel(n_jobs=1)]: Done  80 out of  80 | elapsed:    8.5s remaining:    0.0s\n",
      "[CV] gbm__max_depth=9, gbm__n_estimators=50 ..........................\n",
      "[CV]  gbm__max_depth=9, gbm__n_estimators=50, score=1.152452, total=   0.1s\n",
      "[Parallel(n_jobs=1)]: Done  81 out of  81 | elapsed:    8.6s remaining:    0.0s\n",
      "[CV] gbm__max_depth=9, gbm__n_estimators=50 ..........................\n",
      "[CV]  gbm__max_depth=9, gbm__n_estimators=50, score=1.215301, total=   0.1s\n",
      "[Parallel(n_jobs=1)]: Done  82 out of  82 | elapsed:    8.7s remaining:    0.0s\n",
      "[CV] gbm__max_depth=9, gbm__n_estimators=50 ..........................\n",
      "[CV]  gbm__max_depth=9, gbm__n_estimators=50, score=0.902467, total=   0.1s\n",
      "[Parallel(n_jobs=1)]: Done  83 out of  83 | elapsed:    8.8s remaining:    0.0s\n",
      "[CV] gbm__max_depth=9, gbm__n_estimators=50 ..........................\n",
      "[CV]  gbm__max_depth=9, gbm__n_estimators=50, score=1.376493, total=   0.1s\n",
      "[Parallel(n_jobs=1)]: Done  84 out of  84 | elapsed:    8.8s remaining:    0.0s\n",
      "[CV] gbm__max_depth=9, gbm__n_estimators=50 ..........................\n",
      "[CV]  gbm__max_depth=9, gbm__n_estimators=50, score=1.924516, total=   0.1s\n",
      "[Parallel(n_jobs=1)]: Done  85 out of  85 | elapsed:    8.9s remaining:    0.0s\n",
      "[CV] gbm__max_depth=9, gbm__n_estimators=100 .........................\n",
      "[CV]  gbm__max_depth=9, gbm__n_estimators=100, score=1.161536, total=   0.1s\n",
      "[Parallel(n_jobs=1)]: Done  86 out of  86 | elapsed:    9.0s remaining:    0.0s\n",
      "[CV] gbm__max_depth=9, gbm__n_estimators=100 .........................\n",
      "[CV]  gbm__max_depth=9, gbm__n_estimators=100, score=1.218707, total=   0.1s\n",
      "[Parallel(n_jobs=1)]: Done  87 out of  87 | elapsed:    9.1s remaining:    0.0s\n",
      "[CV] gbm__max_depth=9, gbm__n_estimators=100 .........................\n",
      "[CV]  gbm__max_depth=9, gbm__n_estimators=100, score=0.907599, total=   0.1s\n",
      "[Parallel(n_jobs=1)]: Done  88 out of  88 | elapsed:    9.2s remaining:    0.0s\n",
      "[CV] gbm__max_depth=9, gbm__n_estimators=100 .........................\n",
      "[CV]  gbm__max_depth=9, gbm__n_estimators=100, score=1.377587, total=   0.1s\n",
      "[Parallel(n_jobs=1)]: Done  89 out of  89 | elapsed:    9.3s remaining:    0.0s\n",
      "[CV] gbm__max_depth=9, gbm__n_estimators=100 .........................\n",
      "[CV]  gbm__max_depth=9, gbm__n_estimators=100, score=1.922418, total=   0.1s\n",
      "[Parallel(n_jobs=1)]: Done  90 out of  90 | elapsed:    9.4s remaining:    0.0s\n",
      "[CV] gbm__max_depth=9, gbm__n_estimators=150 .........................\n",
      "[CV]  gbm__max_depth=9, gbm__n_estimators=150, score=1.161536, total=   0.1s\n",
      "[Parallel(n_jobs=1)]: Done  91 out of  91 | elapsed:    9.5s remaining:    0.0s\n",
      "[CV] gbm__max_depth=9, gbm__n_estimators=150 .........................\n",
      "[CV]  gbm__max_depth=9, gbm__n_estimators=150, score=1.218707, total=   0.1s\n",
      "[Parallel(n_jobs=1)]: Done  92 out of  92 | elapsed:    9.6s remaining:    0.0s\n",
      "[CV] gbm__max_depth=9, gbm__n_estimators=150 .........................\n",
      "[CV]  gbm__max_depth=9, gbm__n_estimators=150, score=0.907599, total=   0.1s\n",
      "[Parallel(n_jobs=1)]: Done  93 out of  93 | elapsed:    9.7s remaining:    0.0s\n",
      "[CV] gbm__max_depth=9, gbm__n_estimators=150 .........................\n",
      "[CV]  gbm__max_depth=9, gbm__n_estimators=150, score=1.377587, total=   0.1s\n",
      "[Parallel(n_jobs=1)]: Done  94 out of  94 | elapsed:    9.8s remaining:    0.0s\n",
      "[CV] gbm__max_depth=9, gbm__n_estimators=150 .........................\n",
      "[CV]  gbm__max_depth=9, gbm__n_estimators=150, score=1.922418, total=   0.1s\n",
      "[Parallel(n_jobs=1)]: Done  95 out of  95 | elapsed:    9.9s remaining:    0.0s\n",
      "[CV] gbm__max_depth=9, gbm__n_estimators=200 .........................\n",
      "[CV]  gbm__max_depth=9, gbm__n_estimators=200, score=1.161536, total=   0.1s\n",
      "[Parallel(n_jobs=1)]: Done  96 out of  96 | elapsed:   10.0s remaining:    0.0s\n",
      "[CV] gbm__max_depth=9, gbm__n_estimators=200 .........................\n",
      "[CV]  gbm__max_depth=9, gbm__n_estimators=200, score=1.218707, total=   0.1s\n",
      "[Parallel(n_jobs=1)]: Done  97 out of  97 | elapsed:   10.1s remaining:    0.0s\n",
      "[CV] gbm__max_depth=9, gbm__n_estimators=200 .........................\n",
      "[CV]  gbm__max_depth=9, gbm__n_estimators=200, score=0.907599, total=   0.1s\n",
      "[Parallel(n_jobs=1)]: Done  98 out of  98 | elapsed:   10.2s remaining:    0.0s\n",
      "[CV] gbm__max_depth=9, gbm__n_estimators=200 .........................\n",
      "[CV]  gbm__max_depth=9, gbm__n_estimators=200, score=1.377587, total=   0.1s\n",
      "[Parallel(n_jobs=1)]: Done  99 out of  99 | elapsed:   10.3s remaining:    0.0s\n",
      "[CV] gbm__max_depth=9, gbm__n_estimators=200 .........................\n",
      "[CV]  gbm__max_depth=9, gbm__n_estimators=200, score=1.922418, total=   0.1s\n",
      "[CV] gbm__max_depth=10, gbm__n_estimators=50 .........................\n",
      "[CV]  gbm__max_depth=10, gbm__n_estimators=50, score=1.152452, total=   0.1s\n",
      "[CV] gbm__max_depth=10, gbm__n_estimators=50 .........................\n",
      "[CV]  gbm__max_depth=10, gbm__n_estimators=50, score=1.215301, total=   0.1s\n",
      "[CV] gbm__max_depth=10, gbm__n_estimators=50 .........................\n",
      "[CV]  gbm__max_depth=10, gbm__n_estimators=50, score=0.897986, total=   0.1s\n",
      "[CV] gbm__max_depth=10, gbm__n_estimators=50 .........................\n",
      "[CV]  gbm__max_depth=10, gbm__n_estimators=50, score=1.382794, total=   0.1s\n",
      "[CV] gbm__max_depth=10, gbm__n_estimators=50 .........................\n",
      "[CV]  gbm__max_depth=10, gbm__n_estimators=50, score=1.924516, total=   0.1s\n",
      "[CV] gbm__max_depth=10, gbm__n_estimators=100 ........................\n",
      "[CV]  gbm__max_depth=10, gbm__n_estimators=100, score=1.161536, total=   0.1s\n",
      "[CV] gbm__max_depth=10, gbm__n_estimators=100 ........................\n",
      "[CV]  gbm__max_depth=10, gbm__n_estimators=100, score=1.218707, total=   0.1s\n",
      "[CV] gbm__max_depth=10, gbm__n_estimators=100 ........................\n",
      "[CV]  gbm__max_depth=10, gbm__n_estimators=100, score=0.903160, total=   0.1s\n",
      "[CV] gbm__max_depth=10, gbm__n_estimators=100 ........................\n",
      "[CV]  gbm__max_depth=10, gbm__n_estimators=100, score=1.386489, total=   0.1s\n",
      "[CV] gbm__max_depth=10, gbm__n_estimators=100 ........................\n",
      "[CV]  gbm__max_depth=10, gbm__n_estimators=100, score=1.922418, total=   0.1s\n",
      "[CV] gbm__max_depth=10, gbm__n_estimators=150 ........................\n",
      "[CV]  gbm__max_depth=10, gbm__n_estimators=150, score=1.161536, total=   0.1s\n",
      "[CV] gbm__max_depth=10, gbm__n_estimators=150 ........................\n",
      "[CV]  gbm__max_depth=10, gbm__n_estimators=150, score=1.218707, total=   0.1s\n",
      "[CV] gbm__max_depth=10, gbm__n_estimators=150 ........................\n",
      "[CV]  gbm__max_depth=10, gbm__n_estimators=150, score=0.903160, total=   0.1s\n",
      "[CV] gbm__max_depth=10, gbm__n_estimators=150 ........................\n",
      "[CV]  gbm__max_depth=10, gbm__n_estimators=150, score=1.386489, total=   0.1s\n",
      "[CV] gbm__max_depth=10, gbm__n_estimators=150 ........................\n",
      "[CV]  gbm__max_depth=10, gbm__n_estimators=150, score=1.922418, total=   0.1s\n",
      "[CV] gbm__max_depth=10, gbm__n_estimators=200 ........................\n",
      "[CV]  gbm__max_depth=10, gbm__n_estimators=200, score=1.161536, total=   0.1s\n",
      "[CV] gbm__max_depth=10, gbm__n_estimators=200 ........................\n"
     ]
    },
    {
     "name": "stdout",
     "output_type": "stream",
     "text": [
      "[CV]  gbm__max_depth=10, gbm__n_estimators=200, score=1.218707, total=   0.1s\n",
      "[CV] gbm__max_depth=10, gbm__n_estimators=200 ........................\n",
      "[CV]  gbm__max_depth=10, gbm__n_estimators=200, score=0.903160, total=   0.1s\n",
      "[CV] gbm__max_depth=10, gbm__n_estimators=200 ........................\n",
      "[CV]  gbm__max_depth=10, gbm__n_estimators=200, score=1.386489, total=   0.1s\n",
      "[CV] gbm__max_depth=10, gbm__n_estimators=200 ........................\n",
      "[CV]  gbm__max_depth=10, gbm__n_estimators=200, score=1.922418, total=   0.1s\n",
      "[Parallel(n_jobs=1)]: Done 120 out of 120 | elapsed:   12.3s finished\n"
     ]
    },
    {
     "data": {
      "text/plain": [
       "GridSearchCV(cv=5, error_score='raise',\n",
       "       estimator=Pipeline(steps=[('preprocess', FeatureTransformer(transforms=[('impute', Imputer(axis=0, copy=True, missing_values='NaN', strategy='mean', verbose=0)), ('scale', StandardScaler(copy=True, with_mean=True, with_std=True))])), ('gbm', GradientBoostingRegressor(alpha=0.9, criterion='friedman_mse', init=None,\n",
       "   ...       presort='auto', random_state=1234, subsample=1.0, verbose=0,\n",
       "             warm_start=False))]),\n",
       "       fit_params={}, iid=True, n_jobs=1,\n",
       "       param_grid={'gbm__max_depth': [5, 6, 7, 8, 9, 10], 'gbm__n_estimators': [50, 100, 150, 200]},\n",
       "       pre_dispatch='2*n_jobs', refit=True, return_train_score=True,\n",
       "       scoring=make_scorer(mean_squared_error), verbose=100)"
      ]
     },
     "execution_count": 6,
     "metadata": {},
     "output_type": "execute_result"
    }
   ],
   "source": [
    "gbm_cv = GridSearchCV(pipe,\n",
    "                     dict(gbm__n_estimators = [50, 100, 150, 200],\n",
    "                         gbm__max_depth = [5, 6, 7, 8, 9, 10]),\n",
    "                     cv = 5,\n",
    "                     scoring = make_scorer(mean_squared_error),\n",
    "                     verbose = 100)\n",
    "gbm_cv.fit(X, y)"
   ]
  },
  {
   "cell_type": "markdown",
   "metadata": {},
   "source": [
    "Now we have a trained model. Serialize it, so we can use it later for scoring."
   ]
  },
  {
   "cell_type": "code",
   "execution_count": 8,
   "metadata": {},
   "outputs": [],
   "source": [
    "import cPickle\n",
    "with open(\"score_auto_gbm/gbmFit.pkl\", \"wb\") as pickle_file:\n",
    "    cPickle.dump(gbm_cv.best_estimator_, pickle_file)"
   ]
  },
  {
   "cell_type": "markdown",
   "metadata": {},
   "source": [
    "# Model Preparation\n",
    "\n",
    "Let's prepare the trained model for FastScore. Load the FastScore library:"
   ]
  },
  {
   "cell_type": "code",
   "execution_count": 9,
   "metadata": {},
   "outputs": [],
   "source": [
    "from fastscoredeploy import ipmagic"
   ]
  },
  {
   "cell_type": "markdown",
   "metadata": {},
   "source": [
    "Load the schemas:"
   ]
  },
  {
   "cell_type": "code",
   "execution_count": 10,
   "metadata": {},
   "outputs": [
    {
     "name": "stdout",
     "output_type": "stream",
     "text": [
      "Schema loaded and bound to gbm_input variable\n"
     ]
    }
   ],
   "source": [
    "%%schema gbm_input\n",
    "{\n",
    "  \"type\": \"record\",\n",
    "  \"name\": \"CarRecord\",\n",
    "  \"fields\": [\n",
    "    {\"name\": \"make\", \"type\": \"string\"},\n",
    "    {\"name\": \"fuelType\", \"type\": \"string\"},\n",
    "    {\"name\": \"aspiration\", \"type\": \"string\"},\n",
    "    {\"name\": \"numDoors\", \"type\": \"string\"},\n",
    "    {\"name\": \"bodyStyle\", \"type\": \"string\"},\n",
    "    {\"name\": \"driveWheels\", \"type\": \"string\"},\n",
    "    {\"name\": \"engineLocation\", \"type\": \"string\"},\n",
    "    {\"name\": \"wheelBase\", \"type\": \"double\"},\n",
    "    {\"name\": \"length\", \"type\": \"double\"},\n",
    "    {\"name\": \"width\", \"type\": \"double\"},\n",
    "    {\"name\": \"height\", \"type\": \"double\"},\n",
    "    {\"name\": \"curbWeight\", \"type\": \"int\"},\n",
    "    {\"name\": \"engineType\", \"type\": \"string\"},\n",
    "    {\"name\": \"numCylinders\", \"type\": \"string\"},\n",
    "    {\"name\": \"engineSize\", \"type\": \"int\"},\n",
    "    {\"name\": \"fuelSystem\", \"type\": \"string\"},\n",
    "    {\"name\": \"bore\", \"type\": \"double\"},\n",
    "    {\"name\": \"stroke\", \"type\": \"double\"},\n",
    "    {\"name\": \"compressionRatio\", \"type\": \"double\"},\n",
    "    {\"name\": \"horsepower\", \"type\": \"int\"},\n",
    "    {\"name\": \"peakRPM\", \"type\": \"int\"},\n",
    "    {\"name\": \"cityMPG\", \"type\": \"int\"},\n",
    "    {\"name\": \"highwayMPG\", \"type\": \"int\"},\n",
    "    {\"name\": \"price\", \"type\": \"int\"}\n",
    "  ]\n",
    "}\n"
   ]
  },
  {
   "cell_type": "code",
   "execution_count": 11,
   "metadata": {},
   "outputs": [
    {
     "name": "stdout",
     "output_type": "stream",
     "text": [
      "Schema loaded and bound to gbm_output variable\n"
     ]
    }
   ],
   "source": [
    "%%schema gbm_output\n",
    "{\"type\": \"double\"}"
   ]
  },
  {
   "cell_type": "markdown",
   "metadata": {},
   "source": [
    "Use the `%%py2model` cell magic to turn a cell into a FastScore model."
   ]
  },
  {
   "cell_type": "code",
   "execution_count": 12,
   "metadata": {},
   "outputs": [
    {
     "name": "stdout",
     "output_type": "stream",
     "text": [
      "Model loaded and bound to auto_gbm variable.\n"
     ]
    }
   ],
   "source": [
    "%%model auto_gbm\n",
    "\n",
    "# fastscore.schema.0: gbm_input\n",
    "# fastscore.schema.1: gbm_output\n",
    "# fastscore.module-attached: score_auto_gbm\n",
    "\n",
    "import cPickle\n",
    "import numpy as np\n",
    "import pandas as pd\n",
    "from score_auto_gbm.FeatureTransformer import FeatureTransformer\n",
    "\n",
    "from sklearn.ensemble import GradientBoostingRegressor\n",
    "from sklearn.pipeline import Pipeline\n",
    "\n",
    "def begin():\n",
    "    global gbmFit\n",
    "    with open(\"score_auto_gbm/gbmFit.pkl\", \"rb\") as pickle_file:\n",
    "        gbmFit = cPickle.load(pickle_file)\n",
    "\n",
    "def action(datum):\n",
    "    score = list(gbmFit.predict(pd.DataFrame([datum])))[0]\n",
    "    yield score"
   ]
  },
  {
   "cell_type": "markdown",
   "metadata": {},
   "source": [
    "Let's score (offline) our test data, to make sure the model works."
   ]
  },
  {
   "cell_type": "code",
   "execution_count": 13,
   "metadata": {},
   "outputs": [
    {
     "data": {
      "text/plain": [
       "[0.78488308928032324,\n",
       " 0.99978623622995488,\n",
       " 0.14520131926120264,\n",
       " 0.00047602695754688152,\n",
       " 0.99991458040281866,\n",
       " 0.99991458040281866,\n",
       " 1.9995876660931677,\n",
       " 1.3224157902700489,\n",
       " 1.0001180249460448,\n",
       " 1.1177808900433042,\n",
       " 0.0001946819176505984,\n",
       " 3.0932028320970658e-05,\n",
       " 0.00084216500537457012,\n",
       " 1.9995378874905989,\n",
       " 1.9995378874905989,\n",
       " 1.1850050689999387,\n",
       " 1.763893343895927,\n",
       " 0.99983306050542853,\n",
       " 1.0001046276155432,\n",
       " 0.99973584636241164,\n",
       " 0.00024021999504945344,\n",
       " 7.3299588672116753e-05,\n",
       " 2.9996514167995838,\n",
       " -0.52638308075100781,\n",
       " 0.016724337306485742,\n",
       " 0.016724337306485742,\n",
       " -2.8204923308308159e-05,\n",
       " -0.00010477766387946928,\n",
       " 1.0002100842451624,\n",
       " 1.1850050689999387,\n",
       " 2.99962270583951,\n",
       " 2.9996243078606204,\n",
       " 1.9996073670387611,\n",
       " 0.00029127440377646317,\n",
       " 0.0001946819176505984,\n",
       " 0.99999070863700634,\n",
       " 0.00025611299138624243,\n",
       " 0.00028333394568963352,\n",
       " 0.00022805533266072081,\n",
       " 1.9998561788680871,\n",
       " -0.99962152697975848,\n",
       " -0.99962152697975848,\n",
       " -0.99962152697975848,\n",
       " 1.9996012026719876,\n",
       " 0.00017328946984374494,\n",
       " -0.99980159382466594,\n",
       " -0.99980159382466594]"
      ]
     },
     "execution_count": 13,
     "metadata": {},
     "output_type": "execute_result"
    }
   ],
   "source": [
    "import json\n",
    "with open('input_data.jsons', 'rb') as f:\n",
    "    inputs = [json.loads(line) for line in f]\n",
    "\n",
    "auto_gbm.score(inputs)"
   ]
  },
  {
   "cell_type": "markdown",
   "metadata": {},
   "source": [
    "Looks like the model works. Package up the attachment. You can bundle multiple external files into a single attachment. FastScore expects an attachment to be either a gzipped tarball (.tar.gz) or just a .zip file."
   ]
  },
  {
   "cell_type": "code",
   "execution_count": 14,
   "metadata": {},
   "outputs": [],
   "source": [
    "import tarfile\n",
    "\n",
    "with tarfile.open('attachment.tar.gz', 'w:gz') as tar:\n",
    "    tar.add('score_auto_gbm')"
   ]
  },
  {
   "cell_type": "markdown",
   "metadata": {},
   "source": [
    "# Model Deployment\n",
    "\n",
    "If you're satisfied with how the model runs locally, it's time to put it in an engine."
   ]
  },
  {
   "cell_type": "code",
   "execution_count": 22,
   "metadata": {},
   "outputs": [],
   "source": [
    "from fastscoredeploy.suite import Connect\n",
    "\n",
    "connect = Connect('https://devel:8000')\n",
    "engine = connect.get('engine-2')\n",
    "mm = connect.lookup('model-manage')"
   ]
  },
  {
   "cell_type": "code",
   "execution_count": 23,
   "metadata": {},
   "outputs": [
    {
     "data": {
      "text/plain": [
       "True"
      ]
     },
     "execution_count": 23,
     "metadata": {},
     "output_type": "execute_result"
    }
   ],
   "source": [
    "auto_gbm.update(model_manage = mm)"
   ]
  },
  {
   "cell_type": "code",
   "execution_count": 24,
   "metadata": {},
   "outputs": [],
   "source": [
    "from fastscore.attachment import Attachment\n",
    "att = Attachment('att_auto_gbm', datafile='attachment.tar.gz')\n",
    "att.upload(auto_gbm)"
   ]
  },
  {
   "cell_type": "code",
   "execution_count": 25,
   "metadata": {},
   "outputs": [
    {
     "data": {
      "text/plain": [
       "True"
      ]
     },
     "execution_count": 25,
     "metadata": {},
     "output_type": "execute_result"
    }
   ],
   "source": [
    "auto_gbm.update(model_manage = mm)"
   ]
  },
  {
   "cell_type": "code",
   "execution_count": 26,
   "metadata": {},
   "outputs": [
    {
     "data": {
      "application/vnd.jupyter.widget-view+json": {
       "model_id": "b7bcfa786d324266b774c81b5ae52b66"
      }
     },
     "metadata": {},
     "output_type": "display_data"
    }
   ],
   "source": [
    "auto_gbm.deploy(engine)"
   ]
  },
  {
   "cell_type": "markdown",
   "metadata": {},
   "source": [
    "Once a model has been deployed to an engine, you can score data with it:"
   ]
  },
  {
   "cell_type": "code",
   "execution_count": 29,
   "metadata": {},
   "outputs": [
    {
     "ename": "NameError",
     "evalue": "global name 'FastScoreError' is not defined",
     "output_type": "error",
     "traceback": [
      "\u001b[0;31m\u001b[0m",
      "\u001b[0;31mNameError\u001b[0mTraceback (most recent call last)",
      "\u001b[0;32m<ipython-input-29-2e7088972d49>\u001b[0m in \u001b[0;36m<module>\u001b[0;34m()\u001b[0m\n\u001b[0;32m----> 1\u001b[0;31m \u001b[0mengine\u001b[0m\u001b[0;34m.\u001b[0m\u001b[0mscore\u001b[0m\u001b[0;34m(\u001b[0m\u001b[0minputs\u001b[0m\u001b[0;34m)\u001b[0m\u001b[0;34m\u001b[0m\u001b[0m\n\u001b[0m",
      "\u001b[0;32m/opt/conda/envs/python2/lib/python2.7/site-packages/fastscoredeploy-dev-py2.7.egg/fastscoredeploy/suite/Engine.pyc\u001b[0m in \u001b[0;36mscore\u001b[0;34m(self, data, encode)\u001b[0m\n\u001b[1;32m     42\u001b[0m         \"\"\"\n\u001b[1;32m     43\u001b[0m         \u001b[0;32mif\u001b[0m \u001b[0mself\u001b[0m\u001b[0;34m.\u001b[0m\u001b[0mstate\u001b[0m \u001b[0;34m!=\u001b[0m \u001b[0;34m'RUNNING'\u001b[0m\u001b[0;34m:\u001b[0m\u001b[0;34m\u001b[0m\u001b[0m\n\u001b[0;32m---> 44\u001b[0;31m             \u001b[0;32mraise\u001b[0m \u001b[0mFastScoreError\u001b[0m\u001b[0;34m(\u001b[0m\u001b[0;34m\"Engine is not running (no model deployed).\"\u001b[0m\u001b[0;34m)\u001b[0m\u001b[0;34m\u001b[0m\u001b[0m\n\u001b[0m\u001b[1;32m     45\u001b[0m \u001b[0;34m\u001b[0m\u001b[0m\n\u001b[1;32m     46\u001b[0m         \u001b[0mactive_streams\u001b[0m \u001b[0;34m=\u001b[0m \u001b[0mself\u001b[0m\u001b[0;34m.\u001b[0m\u001b[0mactive_streams\u001b[0m\u001b[0;34m\u001b[0m\u001b[0m\n",
      "\u001b[0;31mNameError\u001b[0m: global name 'FastScoreError' is not defined"
     ]
    }
   ],
   "source": [
    "engine.score(inputs)"
   ]
  },
  {
   "cell_type": "code",
   "execution_count": null,
   "metadata": {},
   "outputs": [],
   "source": [
    "engine.reset()"
   ]
  },
  {
   "cell_type": "code",
   "execution_count": null,
   "metadata": {},
   "outputs": [],
   "source": []
  }
 ],
 "metadata": {
  "kernelspec": {
   "display_name": "Python 2",
   "language": "python",
   "name": "python2"
  },
  "language_info": {
   "codemirror_mode": {
    "name": "ipython",
    "version": 2
   },
   "file_extension": ".py",
   "mimetype": "text/x-python",
   "name": "python",
   "nbconvert_exporter": "python",
   "pygments_lexer": "ipython2",
   "version": "2.7.14"
  }
 },
 "nbformat": 4,
 "nbformat_minor": 2
}
